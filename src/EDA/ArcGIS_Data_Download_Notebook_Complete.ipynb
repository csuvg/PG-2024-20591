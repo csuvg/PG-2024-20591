{
 "cells": [
  {
   "cell_type": "markdown",
   "id": "15a983a4",
   "metadata": {},
   "source": [
    "# Descargar y Procesar Imágenes desde ArcGIS\n",
    "Este notebook automatiza el proceso de conexión a ArcGIS, búsqueda de un survey específico, identificación de la feature layer, descarga de imágenes adjuntas, redimensionamiento y almacenamiento organizado de las imágenes."
   ]
  },
  {
   "cell_type": "markdown",
   "id": "61700a32",
   "metadata": {},
   "source": [
    "###  1. Instalación de Dependencias\n",
    "Esta celda instala las bibliotecas necesarias para ejecutar el script. Si ya tienes instaladas las bibliotecas, puedes omitir la ejecución."
   ]
  },
  {
   "cell_type": "code",
   "execution_count": 1,
   "id": "0aa9fd14",
   "metadata": {},
   "outputs": [],
   "source": [
    "# # Ejecuta esta celda para instalar las dependencias necesarias\n",
    "# # Descomenta las líneas si necesitas instalar las bibliotecas\n",
    "\n",
    "# !pip install arcgis\n",
    "# !pip install Pillow\n"
   ]
  },
  {
   "cell_type": "markdown",
   "id": "92140bbb",
   "metadata": {},
   "source": [
    "### 2. Importación de Bibliotecas y Configuración de Logging\n",
    "Se importan las bibliotecas requeridas y se configura el sistema de logging para registrar el progreso y posibles errores durante la ejecución."
   ]
  },
  {
   "cell_type": "code",
   "execution_count": 2,
   "id": "9fe46059",
   "metadata": {},
   "outputs": [
    {
     "name": "stderr",
     "output_type": "stream",
     "text": [
      "C:\\Users\\ealda\\AppData\\Local\\Packages\\PythonSoftwareFoundation.Python.3.11_qbz5n2kfra8p0\\LocalCache\\local-packages\\Python311\\site-packages\\dask\\dataframe\\__init__.py:42: FutureWarning: \n",
      "Dask dataframe query planning is disabled because dask-expr is not installed.\n",
      "\n",
      "You can install it with `pip install dask[dataframe]` or `conda install dask`.\n",
      "This will raise in a future version.\n",
      "\n",
      "  warnings.warn(msg, FutureWarning)\n"
     ]
    }
   ],
   "source": [
    "import os\n",
    "import logging\n",
    "import time\n",
    "from PIL import Image\n",
    "from arcgis.gis import GIS\n",
    "from concurrent.futures import ThreadPoolExecutor, as_completed\n"
   ]
  },
  {
   "cell_type": "code",
   "execution_count": 3,
   "id": "7258c9ad",
   "metadata": {},
   "outputs": [],
   "source": [
    "# Configuración básica de logging\n",
    "logging.basicConfig(\n",
    "    filename='descarga_arcgis.log',\n",
    "    filemode='a',\n",
    "    format='%(asctime)s - %(levelname)s - %(message)s',\n",
    "    level=logging.INFO\n",
    ")\n"
   ]
  },
  {
   "cell_type": "markdown",
   "id": "3969ba87",
   "metadata": {},
   "source": [
    "### 3. Configuraciones Iniciales\n",
    "Se definen las configuraciones necesarias, incluyendo credenciales de ArcGIS, IDs, rutas de directorio y otros parámetros relevantes para el proceso."
   ]
  },
  {
   "cell_type": "code",
   "execution_count": 4,
   "id": "a3f76040",
   "metadata": {},
   "outputs": [],
   "source": [
    "# Configuraciones\n",
    "ARC_GIS_URL = \"https://arcgismaps.pantaleon.com/portal\"\n",
    "USERNAME = \"uvg_2024\"\n",
    "PASSWORD = \"Inicio2024.\"\n",
    "SURVEY_ID = \"e9eff4bf0dff4d199ff5b889d8fd7980\"  # Reemplaza con el ID real de tu Survey\n",
    "KEY_FIELD = 'clasificacion'  # Campo específico de tu formulario\n",
    "BASE_IMAGES_DIR = \"data/arcgis-survey-images\"\n",
    "IMAGE_SIZE = (128, 128)\n",
    "BATCH_SIZE = 500\n",
    "MAX_WORKERS = 10\n",
    "API_SLEEP = 0.05  # Pausa de 50 ms entre solicitudes"
   ]
  },
  {
   "cell_type": "code",
   "execution_count": 5,
   "id": "bfe205d4",
   "metadata": {},
   "outputs": [],
   "source": [
    "# Crear directorio base para imágenes\n",
    "os.makedirs(BASE_IMAGES_DIR, exist_ok=True)\n",
    "logging.info(f\"Directorio base para imágenes: {BASE_IMAGES_DIR}\")"
   ]
  },
  {
   "cell_type": "markdown",
   "id": "07b3ca0a",
   "metadata": {},
   "source": [
    "### 4. Definición de Funciones Utilitarias\n",
    "Se definen las funciones necesarias para conectar a ArcGIS, obtener el survey, identificar la feature layer, verificar adjuntos de imagen, redimensionar imágenes, generar nombres únicos y procesar la descarga de imágenes."
   ]
  },
  {
   "cell_type": "code",
   "execution_count": 6,
   "id": "ccdfc6aa",
   "metadata": {},
   "outputs": [],
   "source": [
    "# Lista para almacenar errores\n",
    "errores = []\n",
    "\n",
    "def conectar_arcgis():\n",
    "    \"\"\"Conectar a ArcGIS.\"\"\"\n",
    "    try:\n",
    "        gis = GIS(ARC_GIS_URL, USERNAME, PASSWORD)\n",
    "        logging.info(\"Conexión a ArcGIS establecida exitosamente.\")\n",
    "        return gis\n",
    "    except Exception as e:\n",
    "        logging.error(f\"Error al conectar a ArcGIS: {e}\")\n",
    "        raise SystemExit(f\"Error al conectar a ArcGIS: {e}\")"
   ]
  },
  {
   "cell_type": "code",
   "execution_count": 7,
   "id": "e3d3f2dd",
   "metadata": {},
   "outputs": [],
   "source": [
    "def obtener_survey(gis, survey_id):\n",
    "    \"\"\"Obtener el Survey por su ID.\"\"\"\n",
    "    survey = gis.content.get(survey_id)\n",
    "    if not survey:\n",
    "        logging.error(f\"No se encontró el Survey con ID: {survey_id}\")\n",
    "        raise SystemExit(f\"No se encontró el Survey con ID: {survey_id}\")\n",
    "    logging.info(f\"Survey encontrado: {survey.title}\")\n",
    "    return survey"
   ]
  },
  {
   "cell_type": "code",
   "execution_count": 8,
   "id": "6e3b9801",
   "metadata": {},
   "outputs": [],
   "source": [
    "def encontrar_feature_layer(survey, key_field):\n",
    "    \"\"\"Encontrar la capa que contiene el campo específico.\"\"\"\n",
    "    capas = survey.layers\n",
    "    for capa in capas:\n",
    "        nombres_campos = [campo['name'] for campo in capa.properties.fields]\n",
    "        if key_field in nombres_campos:\n",
    "            logging.info(f\"Usando la capa: {capa.properties.name}\")\n",
    "            return capa\n",
    "    logging.error(f\"No se encontró una capa que contenga el campo '{key_field}'.\")\n",
    "    raise SystemExit(f\"No se encontró una capa que contenga el campo '{key_field}'.\")"
   ]
  },
  {
   "cell_type": "code",
   "execution_count": 9,
   "id": "c590d300",
   "metadata": {},
   "outputs": [],
   "source": [
    "def is_image_attachment(attachment):\n",
    "    \"\"\"Verificar si un adjunto es una imagen.\"\"\"\n",
    "    return attachment['contentType'].lower() in [\n",
    "        'image/png',\n",
    "        'image/jpeg',\n",
    "        'image/jpg',\n",
    "        'image/gif',\n",
    "        'image/bmp',\n",
    "        'image/tiff'\n",
    "    ]"
   ]
  },
  {
   "cell_type": "code",
   "execution_count": 10,
   "id": "f5b80a4b",
   "metadata": {},
   "outputs": [],
   "source": [
    "def resize_image(image_path, size=IMAGE_SIZE):\n",
    "    \"\"\"Redimensionar la imagen.\"\"\"\n",
    "    try:\n",
    "        with Image.open(image_path) as img:\n",
    "            img = img.resize(size)\n",
    "            img.save(image_path)\n",
    "        logging.info(f\"Imagen redimensionada: {image_path}\")\n",
    "    except Exception as e:\n",
    "        logging.error(f\"Error al redimensionar la imagen {image_path}: {e}\")\n"
   ]
  },
  {
   "cell_type": "code",
   "execution_count": 11,
   "id": "2fe5b654",
   "metadata": {},
   "outputs": [],
   "source": [
    "def generar_nombre_unico(attachment_name, object_id, attachment_id):\n",
    "    \"\"\"Generar un nombre de archivo único basado en object_id y attachment_id.\"\"\"\n",
    "    name, ext = os.path.splitext(attachment_name)\n",
    "    name = \"\".join([c for c in name if c.isalnum() or c in (' ', '_', '-')]).rstrip()\n",
    "    return f\"{name}_OID{object_id}_ATT{attachment_id}{ext}\"\n"
   ]
  },
  {
   "cell_type": "code",
   "execution_count": 12,
   "id": "669efad6",
   "metadata": {},
   "outputs": [],
   "source": [
    "def get_unique_filename(file_path):\n",
    "    \"\"\"Obtener un nombre de archivo único si ya existe.\"\"\"\n",
    "    if not os.path.exists(file_path):\n",
    "        return file_path\n",
    "    base, extension = os.path.splitext(file_path)\n",
    "    i = 1\n",
    "    new_file_path = f\"{base}({i}){extension}\"\n",
    "    while os.path.exists(new_file_path):\n",
    "        i += 1\n",
    "        new_file_path = f\"{base}({i}){extension}\"\n",
    "    return new_file_path\n"
   ]
  },
  {
   "cell_type": "code",
   "execution_count": null,
   "id": "ea4b0d43",
   "metadata": {},
   "outputs": [],
   "source": [
    "def procesar_descargar_imagen(feature, attachment, feature_layer):\n",
    "    \"\"\"Procesar y descargar una imagen.\"\"\"\n",
    "    object_id = feature.attributes.get('objectid') or feature.attributes.get('OBJECTID') or feature.attributes.get('ObjectID')\n",
    "    if object_id is None:\n",
    "        logging.error(\"No se encontró el campo 'objectid' en los atributos de la feature.\")\n",
    "        errores.append((None, attachment['name'], \"Campo 'objectid' no encontrado\"))\n",
    "        return\n",
    "    \n",
    "    classification = feature.attributes.get(KEY_FIELD) or 'SinClasificacion'\n",
    "    class_dir = os.path.join(BASE_IMAGES_DIR, str(classification))\n",
    "    os.makedirs(class_dir, exist_ok=True)\n",
    "    \n",
    "    if is_image_attachment(attachment):\n",
    "        image_filename = generar_nombre_unico(attachment['name'], object_id, attachment['id'])\n",
    "        image_path = os.path.join(class_dir, image_filename)\n",
    "        \n",
    "        try:\n",
    "            # Descargar el adjunto\n",
    "            feature_layer.attachments.download(\n",
    "                oid=object_id,\n",
    "                attachment_id=attachment['id'],\n",
    "                save_path=class_dir\n",
    "            )\n",
    "            logging.info(f\"Descargada imagen a {class_dir}\")\n",
    "            \n",
    "            downloaded_path = os.path.join(class_dir, attachment['name'])\n",
    "            if not os.path.exists(downloaded_path):\n",
    "                logging.error(f\"El archivo descargado no existe: {downloaded_path}\")\n",
    "                errores.append((object_id, attachment['name'], \"Archivo descargado no encontrado\"))\n",
    "                return\n",
    "            \n",
    "            # Obtener nombre único si ya existe\n",
    "            unique_image_path = get_unique_filename(image_path)\n",
    "            if unique_image_path != image_path:\n",
    "                logging.warning(f\"El archivo {image_path} ya existía. Se guardará como {os.path.basename(unique_image_path)}\")\n",
    "                image_path = unique_image_path\n",
    "            \n",
    "            # Renombrar el archivo descargado\n",
    "            os.rename(downloaded_path, image_path)\n",
    "            logging.info(f\"Imagen renombrada a {image_path}\")\n",
    "            \n",
    "            # Redimensionar la imagen\n",
    "            resize_image(image_path)\n",
    "        except Exception as e:\n",
    "            logging.error(f\"Error al descargar o procesar la imagen {attachment['name']} para el object_id {object_id}: {e}\")\n",
    "            errores.append((object_id, attachment['name'], str(e)))\n"
   ]
  },
  {
   "cell_type": "code",
   "execution_count": 14,
   "id": "45a8a5e8",
   "metadata": {},
   "outputs": [
    {
     "ename": "",
     "evalue": "",
     "output_type": "error",
     "traceback": [
      "\u001b[1;31mThe Kernel crashed while executing code in the current cell or a previous cell. \n",
      "\u001b[1;31mPlease review the code in the cell(s) to identify a possible cause of the failure. \n",
      "\u001b[1;31mClick <a href='https://aka.ms/vscodeJupyterKernelCrash'>here</a> for more info. \n",
      "\u001b[1;31mView Jupyter <a href='command:jupyter.viewOutput'>log</a> for further details."
     ]
    }
   ],
   "source": [
    "def get_all_features_with_pagination(layer, page_size=1000):\n",
    "    \"\"\"Obtener todas las features utilizando paginación.\"\"\"\n",
    "    all_features = []\n",
    "    try:\n",
    "        # Inicializar la paginación\n",
    "        offset = 0\n",
    "        total_fetched = 0\n",
    "        query_result = layer.query(where=\"1=1\", out_fields=\"*\", result_offset=offset, result_record_count=page_size)\n",
    "        \n",
    "        # Continuar paginando hasta obtener todas las features\n",
    "        while query_result and query_result.features:\n",
    "            all_features.extend(query_result.features)\n",
    "            total_fetched += len(query_result.features)\n",
    "            logging.info(f\"Recuperadas {total_fetched} features hasta ahora...\")\n",
    "            \n",
    "            # Avanzar el offset para la siguiente página\n",
    "            offset += page_size\n",
    "            query_result = layer.query(where=\"1=1\", out_fields=\"*\", result_offset=offset, result_record_count=page_size)\n",
    "        \n",
    "        logging.info(f\"Total de features obtenidas: {len(all_features)}\")\n",
    "    except Exception as e:\n",
    "        logging.error(f\"Error al obtener las features con paginación: {e}\")\n",
    "        raise\n",
    "    return all_features\n"
   ]
  },
  {
   "cell_type": "markdown",
   "id": "71f9e14e",
   "metadata": {},
   "source": [
    "### 5. Conexión a ArcGIS y Obtención del Survey\n",
    "Se establece la conexión a ArcGIS utilizando las credenciales proporcionadas y se obtiene el survey específico mediante su ID."
   ]
  },
  {
   "cell_type": "code",
   "execution_count": null,
   "id": "fd518b6e",
   "metadata": {},
   "outputs": [],
   "source": [
    "# Conectar a ArcGIS\n",
    "gis = conectar_arcgis()\n"
   ]
  },
  {
   "cell_type": "code",
   "execution_count": null,
   "id": "5629ae54",
   "metadata": {},
   "outputs": [],
   "source": [
    "# Obtener el Survey\n",
    "survey = obtener_survey(gis, SURVEY_ID)\n"
   ]
  },
  {
   "cell_type": "markdown",
   "id": "0127d27a",
   "metadata": {},
   "source": [
    "### 6. Identificación de la Feature Layer\n",
    "Se identifica la feature layer que contiene el campo clave especificado (clasificacion), lo cual es esencial para filtrar y organizar las imágenes correctamente."
   ]
  },
  {
   "cell_type": "code",
   "execution_count": null,
   "id": "b9b2b448",
   "metadata": {},
   "outputs": [],
   "source": [
    "# Encontrar la Feature Layer\n",
    "feature_layer = encontrar_feature_layer(survey, KEY_FIELD)"
   ]
  },
  {
   "cell_type": "markdown",
   "id": "12ae0498",
   "metadata": {},
   "source": [
    "### 7. Obtención de Todas las Features\n",
    "Se recuperan todas las features de la feature layer en lotes, optimizando así la consulta y reduciendo la carga en la API."
   ]
  },
  {
   "cell_type": "code",
   "execution_count": null,
   "id": "bec0d4df",
   "metadata": {},
   "outputs": [],
   "source": [
    "# Obtener todas las features\n",
    "all_features = get_all_features(feature_layer)\n",
    "total_features = len(all_features)\n",
    "logging.info(f\"Total de features obtenidos: {total_features}\")\n",
    "print(f\"Total de features obtenidos: {total_features}\")"
   ]
  },
  {
   "cell_type": "markdown",
   "id": "714a0f89",
   "metadata": {},
   "source": [
    "### 8. Descarga y Procesamiento de Imágenes\n",
    "Las imágenes adjuntas se descargan en paralelo utilizando ThreadPoolExecutor. Cada imagen se descarga, renombra, redimensiona y se almacena en el directorio correspondiente según su clasificación."
   ]
  },
  {
   "cell_type": "code",
   "execution_count": null,
   "id": "22a83c2e",
   "metadata": {},
   "outputs": [],
   "source": [
    "# Descargar imágenes en paralelo\n",
    "with ThreadPoolExecutor(max_workers=MAX_WORKERS) as executor:\n",
    "    futuros = []\n",
    "    for feature in all_features:\n",
    "        object_id = feature.attributes.get('objectid') or feature.attributes.get('OBJECTID') or feature.attributes.get('ObjectID')\n",
    "        if object_id is None:\n",
    "            logging.error(\"No se encontró el campo 'objectid' en los atributos de la feature.\")\n",
    "            errores.append((None, None, \"Campo 'objectid' no encontrado\"))\n",
    "            continue\n",
    "        attachments = feature_layer.attachments.get_list(oid=object_id)\n",
    "        if not attachments:\n",
    "            logging.info(f\"No se encontraron adjuntos para el object_id: {object_id}\")\n",
    "            continue\n",
    "        for attachment in attachments:\n",
    "            futuros.append(executor.submit(procesar_descargar_imagen, feature, attachment, feature_layer))\n",
    "            time.sleep(API_SLEEP)  # Pausa para evitar límites de la API\n",
    "    \n",
    "    # Monitorear el progreso\n",
    "    for futuro in as_completed(futuros):\n",
    "        pass  # Puedes implementar seguimiento adicional si lo deseas\n"
   ]
  },
  {
   "cell_type": "code",
   "execution_count": null,
   "id": "413315b5",
   "metadata": {},
   "outputs": [],
   "source": [
    "logging.info(\"Descarga de imágenes completada.\")"
   ]
  },
  {
   "cell_type": "markdown",
   "id": "676cdb1f",
   "metadata": {},
   "source": [
    "### 9. Reporte de Errores y Verificación de Integridad\n",
    "Después de la descarga, se muestran los errores que hayan ocurrido durante el proceso y se verifica la integridad de las imágenes descargadas contando el número total de imágenes."
   ]
  },
  {
   "cell_type": "code",
   "execution_count": null,
   "id": "4326e5b7",
   "metadata": {},
   "outputs": [],
   "source": [
    "# Mostrar errores si los hay\n",
    "if errores:\n",
    "    logging.warning(f\"Total de errores: {len(errores)}\")\n",
    "    for oid, nombre, error in errores:\n",
    "        logging.warning(f\"Object ID {oid}, Archivo {nombre}: {error}\")\n",
    "    print(f\"\\nTotal de errores durante la descarga: {len(errores)}\")\n",
    "    for oid, nombre, error in errores:\n",
    "        print(f\"Object ID {oid}, Archivo {nombre}: {error}\")\n",
    "else:\n",
    "    logging.info(\"No se encontraron errores durante la descarga.\")\n",
    "    print(\"\\nNo se encontraron errores durante la descarga.\")\n"
   ]
  },
  {
   "cell_type": "code",
   "execution_count": null,
   "id": "a2ae9c58",
   "metadata": {},
   "outputs": [],
   "source": [
    "# Verificar la integridad de las imágenes descargadas\n",
    "total_descargadas = sum(\n",
    "    len([file for file in files if file.lower().endswith(('.png', '.jpg', '.jpeg', '.gif', '.bmp', '.tiff'))])\n",
    "    for _, _, files in os.walk(BASE_IMAGES_DIR)\n",
    ")\n",
    "\n",
    "logging.info(f\"Total de imágenes descargadas: {total_descargadas}\")\n",
    "print(f\"Imágenes descargadas y organizadas por clasificación en: {BASE_IMAGES_DIR}\")\n",
    "print(f\"Total de imágenes descargadas: {total_descargadas}\")\n"
   ]
  },
  {
   "cell_type": "code",
   "execution_count": 1,
   "id": "eac2ff88",
   "metadata": {},
   "outputs": [
    {
     "name": "stderr",
     "output_type": "stream",
     "text": [
      "C:\\Users\\ealda\\AppData\\Local\\Packages\\PythonSoftwareFoundation.Python.3.11_qbz5n2kfra8p0\\LocalCache\\local-packages\\Python311\\site-packages\\dask\\dataframe\\__init__.py:42: FutureWarning: \n",
      "Dask dataframe query planning is disabled because dask-expr is not installed.\n",
      "\n",
      "You can install it with `pip install dask[dataframe]` or `conda install dask`.\n",
      "This will raise in a future version.\n",
      "\n",
      "  warnings.warn(msg, FutureWarning)\n"
     ]
    },
    {
     "ename": "",
     "evalue": "",
     "output_type": "error",
     "traceback": [
      "\u001b[1;31mThe Kernel crashed while executing code in the current cell or a previous cell. \n",
      "\u001b[1;31mPlease review the code in the cell(s) to identify a possible cause of the failure. \n",
      "\u001b[1;31mClick <a href='https://aka.ms/vscodeJupyterKernelCrash'>here</a> for more info. \n",
      "\u001b[1;31mView Jupyter <a href='command:jupyter.viewOutput'>log</a> for further details."
     ]
    }
   ],
   "source": [
    "import os\n",
    "import logging\n",
    "import time\n",
    "from PIL import Image\n",
    "from arcgis.gis import GIS\n",
    "\n",
    "# # Montar Google Drive\n",
    "# drive.mount('/content/drive')\n",
    "\n",
    "# Configuración básica de logging\n",
    "logging.basicConfig(\n",
    "    filename='descarga_arcgis.log',  # Guardar log en Google Drive\n",
    "    filemode='a',\n",
    "    format='%(asctime)s - %(levelname)s - %(message)s',\n",
    "    level=logging.INFO\n",
    ")\n",
    "\n",
    "# Conexión a ArcGIS Online o Enterprise\n",
    "try:\n",
    "    gis = GIS(\"https://arcgismaps.pantaleon.com/portal\", \"uvg_2024\", \"Inicio2024.\")\n",
    "    logging.info(\"Conexión a ArcGIS establecida exitosamente.\")\n",
    "except Exception as e:\n",
    "    logging.error(f\"Error al conectar a ArcGIS: {e}\")\n",
    "    raise SystemExit(f\"Error al conectar a ArcGIS: {e}\")\n",
    "\n",
    "# Encuentra el elemento Survey123 por su ID\n",
    "survey_id = \"e9eff4bf0dff4d199ff5b889d8fd7980\"  # Reemplaza con el ID real de tu Survey\n",
    "survey = gis.content.get(survey_id)\n",
    "if not survey:\n",
    "    logging.error(f\"No se encontró el Survey con ID: {survey_id}\")\n",
    "    raise SystemExit(f\"No se encontró el Survey con ID: {survey_id}\")\n",
    "logging.info(f\"Survey encontrado: {survey.title}\")\n",
    "\n",
    "# Identificar la capa correcta basada en un campo específico\n",
    "nombre_campo_clave = 'clasificacion'  # Reemplaza con un campo específico de tu formulario\n",
    "\n",
    "capas = survey.layers\n",
    "capa_correcta = None\n",
    "\n",
    "for capa in capas:\n",
    "    nombres_campos = [campo['name'] for campo in capa.properties.fields]\n",
    "    if nombre_campo_clave in nombres_campos:\n",
    "        capa_correcta = capa\n",
    "        break\n",
    "\n",
    "if capa_correcta:\n",
    "    feature_layer = capa_correcta\n",
    "    logging.info(f\"Usando la capa: {feature_layer.properties.name}\")\n",
    "else:\n",
    "    logging.error(f\"No se encontró una capa que contenga el campo '{nombre_campo_clave}'.\")\n",
    "    raise SystemExit(f\"No se encontró una capa que contenga el campo '{nombre_campo_clave}'.\")\n",
    "\n",
    "# Función para verificar si un adjunto es una imagen\n",
    "def is_image_attachment(attachment):\n",
    "    return attachment['contentType'].lower() in [\n",
    "        'image/png',\n",
    "        'image/jpeg',\n",
    "        'image/jpg',\n",
    "        'image/gif',\n",
    "        'image/bmp',\n",
    "        'image/tiff'\n",
    "    ]\n",
    "\n",
    "# Directorio base para almacenar las imágenes en Google Drive\n",
    "base_images_dir = \"../data/arcgis-survey-images-new-last\"\n",
    "os.makedirs(base_images_dir, exist_ok=True)\n",
    "logging.info(f\"Directorio base para imágenes: {base_images_dir}\")\n",
    "\n",
    "# Lista para almacenar errores\n",
    "errores = []\n",
    "\n",
    "# Función para generar un nombre de archivo único basado en object_id y attachment_id\n",
    "def generar_nombre_unico(attachment_name, object_id, attachment_id):\n",
    "    name, ext = os.path.splitext(attachment_name)\n",
    "    name = \"\".join([c for c in name if c.isalpha() or c.isdigit() or c in (' ', '_', '-')]).rstrip()\n",
    "    nombre_unico = f\"{name}_OID{object_id}_ATT{attachment_id}{ext}\"\n",
    "    return nombre_unico\n",
    "\n",
    "# Función para procesar y descargar una imagen\n",
    "def procesar_descargar_imagen(feature, attachment):\n",
    "    object_id = feature.attributes.get('objectid') or feature.attributes.get('OBJECTID') or feature.attributes.get('ObjectID')\n",
    "    if object_id is None:\n",
    "        logging.error(\"No se encontró el campo 'objectid' en los atributos de la feature.\")\n",
    "        errores.append((None, attachment['name'], \"Campo 'objectid' no encontrado\"))\n",
    "        return\n",
    "    classification = feature.attributes.get('clasificacion') or feature.attributes.get('Clasificacion') or 'SinClasificacion'\n",
    "\n",
    "    # Crear un directorio para la clasificación si no existe\n",
    "    class_dir = os.path.join(base_images_dir, str(classification))\n",
    "    os.makedirs(class_dir, exist_ok=True)\n",
    "\n",
    "    if is_image_attachment(attachment):\n",
    "        image_filename = generar_nombre_unico(attachment['name'], object_id, attachment['id'])\n",
    "        image_path = os.path.join(class_dir, image_filename)\n",
    "\n",
    "        # Verificar si la imagen ya existe\n",
    "        if os.path.exists(image_path):\n",
    "            logging.info(f\"La imagen {image_filename} ya existe en {class_dir}, omitiendo descarga.\")\n",
    "            return  # Skip the image if it already exists\n",
    "\n",
    "        try:\n",
    "            # Descargar la imagen si no existe\n",
    "            feature_layer.attachments.download(\n",
    "                oid=object_id,\n",
    "                attachment_id=attachment['id'],\n",
    "                save_path=class_dir\n",
    "            )\n",
    "            logging.info(f\"Descargada imagen a {class_dir}\")\n",
    "\n",
    "            downloaded_path = os.path.join(class_dir, attachment['name'])\n",
    "\n",
    "            if not os.path.exists(downloaded_path):\n",
    "                logging.error(f\"El archivo descargado no existe: {downloaded_path}\")\n",
    "                errores.append((object_id, attachment['name'], \"Archivo descargado no encontrado\"))\n",
    "                return\n",
    "\n",
    "            os.rename(downloaded_path, image_path)\n",
    "            logging.info(f\"Imagen renombrada a {image_path}\")\n",
    "        except Exception as e:\n",
    "            logging.error(f\"Error al descargar o procesar la imagen {attachment['name']} para el object_id {object_id}: {e}\")\n",
    "            errores.append((object_id, attachment['name'], str(e)))\n",
    "\n",
    "# Función para obtener todas las features utilizando object IDs\n",
    "def get_all_features(layer):\n",
    "    all_features = []\n",
    "    try:\n",
    "        object_id_field = layer.properties.objectIdField\n",
    "        oid_info = layer.query(return_ids_only=True)\n",
    "        object_ids = oid_info['objectIds']\n",
    "        if not object_ids:\n",
    "            logging.error(\"No se pudieron obtener los Object IDs.\")\n",
    "            return []\n",
    "        total = len(object_ids)\n",
    "        logging.info(f\"Total de features disponibles: {total}\")\n",
    "\n",
    "        batch_size = 1000\n",
    "        for i in range(0, total, batch_size):\n",
    "            batch_ids = object_ids[i:i + batch_size]\n",
    "            where_clause = f\"{object_id_field} IN ({', '.join(map(str, batch_ids))})\"\n",
    "            query_result = layer.query(where=where_clause, out_fields='*')\n",
    "            all_features.extend(query_result.features)\n",
    "            logging.info(f\"Recuperados {len(all_features)} de {total} features...\")\n",
    "    except Exception as e:\n",
    "        logging.error(f\"Error al obtener las features: {e}\")\n",
    "        raise\n",
    "    return all_features\n",
    "\n",
    "# Descargar imágenes desde Survey123 y organizar en carpetas según la clasificación\n",
    "try:\n",
    "    all_features = get_all_features(feature_layer)\n",
    "    total_features = len(all_features)\n",
    "    logging.info(f\"Total de features obtenidos: {total_features}\")\n",
    "except Exception as e:\n",
    "    logging.error(f\"Error al realizar la consulta a la capa: {e}\")\n",
    "    raise SystemExit(f\"Error al realizar la consulta a la capa: {e}\")\n",
    "\n",
    "# Descargar todas las imágenes secuencialmente\n",
    "for feature in all_features:\n",
    "    object_id = feature.attributes.get('objectid') or feature.attributes.get('OBJECTID') or feature.attributes.get('ObjectID')\n",
    "    if object_id is None:\n",
    "        logging.error(\"No se encontró el campo 'objectid' en los atributos de la feature.\")\n",
    "        errores.append((None, None, \"Campo 'objectid' no encontrado\"))\n",
    "        continue\n",
    "    attachments = feature_layer.attachments.get_list(oid=object_id)\n",
    "    if not attachments:\n",
    "        logging.info(f\"No se encontraron adjuntos para el object_id: {object_id}\")\n",
    "        continue\n",
    "    for attachment in attachments:\n",
    "        procesar_descargar_imagen(feature, attachment)\n",
    "        time.sleep(0.05)  # Pausa de 50 ms\n",
    "\n",
    "logging.info(\"Descarga de imágenes completada.\")\n",
    "\n",
    "# Mostrar errores si los hay\n",
    "if errores:\n",
    "    logging.warning(f\"Total de errores: {len(errores)}\")\n",
    "    for oid, nombre, error in errores:\n",
    "        logging.warning(f\"Object ID {oid}, Archivo {nombre}: {error}\")\n",
    "else:\n",
    "    logging.info(\"No se encontraron errores durante la descarga.\")\n"
   ]
  }
 ],
 "metadata": {
  "kernelspec": {
   "display_name": "Python 3",
   "language": "python",
   "name": "python3"
  },
  "language_info": {
   "codemirror_mode": {
    "name": "ipython",
    "version": 3
   },
   "file_extension": ".py",
   "mimetype": "text/x-python",
   "name": "python",
   "nbconvert_exporter": "python",
   "pygments_lexer": "ipython3",
   "version": "3.11.9"
  }
 },
 "nbformat": 4,
 "nbformat_minor": 5
}

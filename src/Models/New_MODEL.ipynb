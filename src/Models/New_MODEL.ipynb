{
  "cells": [
    {
      "cell_type": "code",
      "execution_count": 1,
      "metadata": {
        "id": "cR1bP1llhb9I"
      },
      "outputs": [],
      "source": [
        "# !pip install arcgis"
      ]
    },
    {
      "cell_type": "code",
      "execution_count": 2,
      "metadata": {
        "id": "IWxe9QisAE4W"
      },
      "outputs": [],
      "source": [
        "\"\"\"Plague Classification Model with ArcGIS Data\"\"\"\n",
        "\n",
        "import os\n",
        "import shutil\n",
        "import numpy as np\n",
        "import tensorflow as tf\n",
        "import matplotlib.pyplot as plt\n",
        "import seaborn as sns\n",
        "from tensorflow.keras.preprocessing import image_dataset_from_directory\n",
        "# from arcgis.gis import GIS\n",
        "from PIL import Image\n",
        "import logging\n",
        "import time\n",
        "from concurrent.futures import ThreadPoolExecutor, as_completed\n",
        "from sklearn.utils import class_weight"
      ]
    },
    {
      "cell_type": "code",
      "execution_count": 3,
      "metadata": {
        "id": "V3kl2ZKjAE4b"
      },
      "outputs": [],
      "source": [
        "# import os\n",
        "# import logging\n",
        "# import time\n",
        "# from PIL import Image\n",
        "# from arcgis.gis import GIS\n",
        "\n",
        "# # Configuración básica de logging\n",
        "# logging.basicConfig(\n",
        "#     filename='descarga_arcgis.log',\n",
        "#     filemode='a',\n",
        "#     format='%(asctime)s - %(levelname)s - %(message)s',\n",
        "#     level=logging.INFO\n",
        "# )\n",
        "\n",
        "# # Conexión a ArcGIS Online o Enterprise\n",
        "# try:\n",
        "#     gis = GIS(\"https://arcgismaps.pantaleon.com/portal\", \"uvg_2024\", \"Inicio2024.\")\n",
        "#     logging.info(\"Conexión a ArcGIS establecida exitosamente.\")\n",
        "# except Exception as e:\n",
        "#     logging.error(f\"Error al conectar a ArcGIS: {e}\")\n",
        "#     raise SystemExit(f\"Error al conectar a ArcGIS: {e}\")\n",
        "\n",
        "# # Encuentra el elemento Survey123 por su ID\n",
        "# survey_id = \"e9eff4bf0dff4d199ff5b889d8fd7980\"  # Reemplaza con el ID real de tu Survey\n",
        "# survey = gis.content.get(survey_id)\n",
        "# if not survey:\n",
        "#     logging.error(f\"No se encontró el Survey con ID: {survey_id}\")\n",
        "#     raise SystemExit(f\"No se encontró el Survey con ID: {survey_id}\")\n",
        "# logging.info(f\"Survey encontrado: {survey.title}\")\n",
        "\n",
        "# # Identificar la capa correcta basada en un campo específico\n",
        "# nombre_campo_clave = 'clasificacion'  # Reemplaza con un campo específico de tu formulario\n",
        "\n",
        "# capas = survey.layers\n",
        "# capa_correcta = None\n",
        "\n",
        "# for capa in capas:\n",
        "#     nombres_campos = [campo['name'] for campo in capa.properties.fields]\n",
        "#     if nombre_campo_clave in nombres_campos:\n",
        "#         capa_correcta = capa\n",
        "#         break\n",
        "\n",
        "# if capa_correcta:\n",
        "#     feature_layer = capa_correcta\n",
        "#     logging.info(f\"Usando la capa: {feature_layer.properties.name}\")\n",
        "# else:\n",
        "#     logging.error(f\"No se encontró una capa que contenga el campo '{nombre_campo_clave}'.\")\n",
        "#     raise SystemExit(f\"No se encontró una capa que contenga el campo '{nombre_campo_clave}'.\")\n",
        "\n",
        "# # Función para verificar si un adjunto es una imagen\n",
        "# def is_image_attachment(attachment):\n",
        "#     return attachment['contentType'].lower() in [\n",
        "#         'image/png',\n",
        "#         'image/jpeg',\n",
        "#         'image/jpg',\n",
        "#         'image/gif',\n",
        "#         'image/bmp',\n",
        "#         'image/tiff'\n",
        "#     ]\n",
        "\n",
        "# # Función para redimensionar las imágenes\n",
        "# def resize_image(image_path, size=(128, 128)):\n",
        "#     try:\n",
        "#         with Image.open(image_path) as img:\n",
        "#             img = img.resize(size)\n",
        "#             img.save(image_path)\n",
        "#         logging.info(f\"Imagen redimensionada: {image_path}\")\n",
        "#     except Exception as e:\n",
        "#         logging.error(f\"Error al redimensionar la imagen {image_path}: {e}\")\n",
        "\n",
        "# # Directorio base para almacenar las imágenes descargadas\n",
        "# base_images_dir = \"arcgis-survey-images\"\n",
        "# os.makedirs(base_images_dir, exist_ok=True)\n",
        "# logging.info(f\"Directorio base para imágenes: {base_images_dir}\")\n",
        "\n",
        "# # Lista para almacenar errores\n",
        "# errores = []\n",
        "\n",
        "# # Función para generar un nombre de archivo único basado en object_id y attachment_id\n",
        "# def generar_nombre_unico(attachment_name, object_id, attachment_id):\n",
        "#     name, ext = os.path.splitext(attachment_name)\n",
        "#     # Sanitizar el nombre del archivo para evitar caracteres inválidos\n",
        "#     name = \"\".join([c for c in name if c.isalpha() or c.isdigit() or c in (' ', '_', '-')]).rstrip()\n",
        "#     # Puedes personalizar el formato del nombre según tus necesidades\n",
        "#     nombre_unico = f\"{name}_OID{object_id}_ATT{attachment_id}{ext}\"\n",
        "#     return nombre_unico\n",
        "\n",
        "# # Función para obtener un nombre de archivo único si ya existe\n",
        "# def get_unique_filename(file_path):\n",
        "#     if not os.path.exists(file_path):\n",
        "#         return file_path\n",
        "#     else:\n",
        "#         base, extension = os.path.splitext(file_path)\n",
        "#         i = 1\n",
        "#         new_file_path = f\"{base}({i}){extension}\"\n",
        "#         while os.path.exists(new_file_path):\n",
        "#             i += 1\n",
        "#             new_file_path = f\"{base}({i}){extension}\"\n",
        "#         return new_file_path\n",
        "\n",
        "# # Función para procesar y descargar una imagen\n",
        "# def procesar_descargar_imagen(feature, attachment):\n",
        "#     # Ajustar los nombres de los campos según tu data\n",
        "#     object_id = feature.attributes.get('objectid') or feature.attributes.get('OBJECTID') or feature.attributes.get('ObjectID')\n",
        "#     if object_id is None:\n",
        "#         logging.error(\"No se encontró el campo 'objectid' en los atributos de la feature.\")\n",
        "#         errores.append((None, attachment['name'], \"Campo 'objectid' no encontrado\"))\n",
        "#         return\n",
        "#     classification = feature.attributes.get('clasificacion') or feature.attributes.get('Clasificacion') or 'SinClasificacion'\n",
        "\n",
        "#     # Crear un directorio para la clasificación si no existe\n",
        "#     class_dir = os.path.join(base_images_dir, str(classification))\n",
        "#     os.makedirs(class_dir, exist_ok=True)\n",
        "\n",
        "#     if is_image_attachment(attachment):\n",
        "#         # Generar un nombre único para cada imagen\n",
        "#         image_filename = generar_nombre_unico(attachment['name'], object_id, attachment['id'])\n",
        "#         image_path = os.path.join(class_dir, image_filename)\n",
        "\n",
        "#         try:\n",
        "#             # Descargar el adjunto a la carpeta con el nombre original\n",
        "#             feature_layer.attachments.download(\n",
        "#                 oid=object_id,\n",
        "#                 attachment_id=attachment['id'],\n",
        "#                 save_path=class_dir\n",
        "#                 # No se utiliza file_name aquí\n",
        "#             )\n",
        "#             logging.info(f\"Descargada imagen a {class_dir}\")\n",
        "\n",
        "#             # El archivo descargado se llama attachment['name']\n",
        "#             downloaded_path = os.path.join(class_dir, attachment['name'])\n",
        "\n",
        "#             # Verificar si el archivo descargado existe\n",
        "#             if not os.path.exists(downloaded_path):\n",
        "#                 logging.error(f\"El archivo descargado no existe: {downloaded_path}\")\n",
        "#                 errores.append((object_id, attachment['name'], \"Archivo descargado no encontrado\"))\n",
        "#                 return\n",
        "\n",
        "#             # Verificar si el archivo único ya existe y obtener un nombre único\n",
        "#             if os.path.exists(image_path):\n",
        "#                 original_image_path = image_path\n",
        "#                 image_path = get_unique_filename(image_path)\n",
        "#                 logging.warning(f\"El archivo {original_image_path} ya existía. Se guardará como {os.path.basename(image_path)}\")\n",
        "\n",
        "#             # Renombrar el archivo descargado a la ruta con el nombre único\n",
        "#             os.rename(downloaded_path, image_path)\n",
        "#             logging.info(f\"Imagen renombrada a {image_path}\")\n",
        "\n",
        "#             # Redimensionar la imagen\n",
        "#             resize_image(image_path)\n",
        "#         except Exception as e:\n",
        "#             logging.error(f\"Error al descargar o procesar la imagen {attachment['name']} para el object_id {object_id}: {e}\")\n",
        "#             errores.append((object_id, attachment['name'], str(e)))\n",
        "\n",
        "# # Función para obtener todas las features utilizando object IDs\n",
        "# def get_all_features(layer):\n",
        "#     all_features = []\n",
        "#     try:\n",
        "#         # Obtener el campo de Object ID\n",
        "#         object_id_field = layer.properties.objectIdField\n",
        "#         oid_info = layer.query(return_ids_only=True)\n",
        "#         object_ids = oid_info['objectIds']\n",
        "#         if not object_ids:\n",
        "#             logging.error(\"No se pudieron obtener los Object IDs.\")\n",
        "#             return []\n",
        "#         total = len(object_ids)\n",
        "#         logging.info(f\"Total de features disponibles: {total}\")\n",
        "\n",
        "#         # Procesar los Object IDs en lotes\n",
        "#         batch_size = 1000  # Puedes ajustar este valor según tus necesidades\n",
        "#         for i in range(0, total, batch_size):\n",
        "#             batch_ids = object_ids[i:i + batch_size]\n",
        "#             where_clause = f\"{object_id_field} IN ({', '.join(map(str, batch_ids))})\"\n",
        "#             query_result = layer.query(where=where_clause, out_fields='*')\n",
        "#             all_features.extend(query_result.features)\n",
        "#             logging.info(f\"Recuperados {len(all_features)} de {total} features...\")\n",
        "#     except Exception as e:\n",
        "#         logging.error(f\"Error al obtener las features: {e}\")\n",
        "#         raise\n",
        "#     return all_features\n",
        "\n",
        "# # Descargar imágenes desde Survey123 y organizar en carpetas según la clasificación\n",
        "# try:\n",
        "#     all_features = get_all_features(feature_layer)\n",
        "#     total_features = len(all_features)\n",
        "#     logging.info(f\"Total de features obtenidos: {total_features}\")\n",
        "# except Exception as e:\n",
        "#     logging.error(f\"Error al realizar la consulta a la capa: {e}\")\n",
        "#     raise SystemExit(f\"Error al realizar la consulta a la capa: {e}\")\n",
        "\n",
        "# # Descargar todas las imágenes secuencialmente\n",
        "# for feature in all_features:\n",
        "#     object_id = feature.attributes.get('objectid') or feature.attributes.get('OBJECTID') or feature.attributes.get('ObjectID')\n",
        "#     if object_id is None:\n",
        "#         logging.error(\"No se encontró el campo 'objectid' en los atributos de la feature.\")\n",
        "#         errores.append((None, None, \"Campo 'objectid' no encontrado\"))\n",
        "#         continue\n",
        "#     attachments = feature_layer.attachments.get_list(oid=object_id)\n",
        "#     if not attachments:\n",
        "#         logging.info(f\"No se encontraron adjuntos para el object_id: {object_id}\")\n",
        "#         continue\n",
        "#     for attachment in attachments:\n",
        "#         procesar_descargar_imagen(feature, attachment)\n",
        "#         # Implementar una pequeña pausa para evitar posibles límites de la API\n",
        "#         time.sleep(0.05)  # Pausa de 50 ms\n",
        "\n",
        "# logging.info(\"Descarga de imágenes completada.\")\n",
        "\n",
        "# # Mostrar errores si los hay\n",
        "# if errores:\n",
        "#     logging.warning(f\"Total de errores: {len(errores)}\")\n",
        "#     for oid, nombre, error in errores:\n",
        "#         logging.warning(f\"Object ID {oid}, Archivo {nombre}: {error}\")\n",
        "# else:\n",
        "#     logging.info(\"No se encontraron errores durante la descarga.\")\n",
        "\n",
        "# # Verificar la integridad de las imágenes descargadas\n",
        "# total_descargadas = 0\n",
        "# for root, dirs, files in os.walk(base_images_dir):\n",
        "#     for file in files:\n",
        "#         if file.lower().endswith(('.png', '.jpg', '.jpeg', '.gif', '.bmp', '.tiff')):\n",
        "#             total_descargadas += 1\n",
        "\n",
        "# logging.info(f\"Total de imágenes descargadas: {total_descargadas}\")\n",
        "# print(f\"Imágenes descargadas y organizadas por clasificación en: {base_images_dir}\")\n",
        "# print(f\"Total de imágenes descargadas: {total_descargadas}\")\n",
        "\n",
        "# # Mostrar errores en la consola\n",
        "# if errores:\n",
        "#     print(f\"\\nTotal de errores durante la descarga: {len(errores)}\")\n",
        "#     for oid, nombre, error in errores:\n",
        "#         print(f\"Object ID {oid}, Archivo {nombre}: {error}\")\n",
        "# else:\n",
        "#     print(\"\\nNo se encontraron errores durante la descarga.\")\n"
      ]
    },
    {
      "cell_type": "code",
      "execution_count": 4,
      "metadata": {
        "id": "ifgNe5mEAE4f"
      },
      "outputs": [],
      "source": [
        "# # Configuración básica de logging\n",
        "# logging.basicConfig(\n",
        "#     filename='descarga_arcgis.log',\n",
        "#     filemode='a',\n",
        "#     format='%(asctime)s - %(levelname)s - %(message)s',\n",
        "#     level=logging.INFO\n",
        "# )"
      ]
    },
    {
      "cell_type": "code",
      "execution_count": 5,
      "metadata": {
        "id": "tVZhGLsmAE4i"
      },
      "outputs": [],
      "source": [
        "# # Conexión a ArcGIS Online o Enterprise\n",
        "# try:\n",
        "#     gis = GIS(\"https://arcgismaps.pantaleon.com/portal\", \"uvg_2024\", \"Inicio2024.\")\n",
        "#     logging.info(\"Conexión a ArcGIS establecida exitosamente.\")\n",
        "# except Exception as e:\n",
        "#     logging.error(f\"Error al conectar a ArcGIS: {e}\")\n",
        "#     raise SystemExit(f\"Error al conectar a ArcGIS: {e}\")"
      ]
    },
    {
      "cell_type": "code",
      "execution_count": 6,
      "metadata": {
        "id": "mg6jagIQAE4k"
      },
      "outputs": [],
      "source": [
        "# # Encuentra el elemento Survey123 por su ID\n",
        "# survey_id = \"e9eff4bf0dff4d199ff5b889d8fd7980\"  # Reemplaza con el ID real de tu Survey\n",
        "# survey = gis.content.get(survey_id)\n",
        "# if not survey:\n",
        "#     logging.error(f\"No se encontró el Survey con ID: {survey_id}\")\n",
        "#     raise SystemExit(f\"No se encontró el Survey con ID: {survey_id}\")\n",
        "# logging.info(f\"Survey encontrado: {survey.title}\")\n",
        "\n",
        "# feature_layer = survey.layers[0]  # Capa que contiene las respuestas\n",
        "# print(feature_layer)"
      ]
    },
    {
      "cell_type": "code",
      "execution_count": 7,
      "metadata": {
        "id": "InHU2TjEAE4m"
      },
      "outputs": [],
      "source": [
        "# # Función para verificar si un adjunto es una imagen\n",
        "# def is_image_attachment(attachment):\n",
        "#     return attachment['contentType'].lower() in [\n",
        "#         'image/png',\n",
        "#         'image/jpeg',\n",
        "#         'image/jpg',\n",
        "#         'image/gif',\n",
        "#         'image/bmp',\n",
        "#         'image/tiff'\n",
        "#     ]"
      ]
    },
    {
      "cell_type": "code",
      "execution_count": 8,
      "metadata": {
        "id": "zg8k-9jNAE4o"
      },
      "outputs": [],
      "source": [
        "# # Función para redimensionar las imágenes\n",
        "# def resize_image(image_path, size=(128, 128)):\n",
        "#     try:\n",
        "#         with Image.open(image_path) as img:\n",
        "#             img = img.resize(size)\n",
        "#             img.save(image_path)\n",
        "#         logging.info(f\"Imagen redimensionada: {image_path}\")\n",
        "#     except Exception as e:\n",
        "#         logging.error(f\"Error al redimensionar la imagen {image_path}: {e}\")\n"
      ]
    },
    {
      "cell_type": "code",
      "execution_count": 9,
      "metadata": {
        "id": "7ZJI0l6qAE4p"
      },
      "outputs": [],
      "source": [
        "# # Directorio base para almacenar las imágenes descargadas\n",
        "# base_images_dir = \"arcgis-survey-images\"\n",
        "# os.makedirs(base_images_dir, exist_ok=True)\n",
        "# logging.info(f\"Directorio base para imágenes: {base_images_dir}\")\n",
        "\n",
        "# # Diccionario para almacenar las imágenes duplicadas\n",
        "# duplicated_images = {}\n",
        "\n",
        "# # Lista para almacenar errores\n",
        "# errores = []"
      ]
    },
    {
      "cell_type": "code",
      "execution_count": 10,
      "metadata": {
        "id": "RS1JV-2KAE4r"
      },
      "outputs": [],
      "source": [
        "# # Función para generar un nuevo nombre de archivo para duplicados\n",
        "# def generate_unique_filename(base_path):\n",
        "#     name, ext = os.path.splitext(base_path)\n",
        "#     counter = 1\n",
        "#     new_path = base_path\n",
        "#     while os.path.exists(new_path):\n",
        "#         new_path = f\"{name}({counter}){ext}\"\n",
        "#         counter += 1\n",
        "#     return new_path"
      ]
    },
    {
      "cell_type": "code",
      "execution_count": 11,
      "metadata": {
        "id": "Q-Po-ZO8AE4t"
      },
      "outputs": [],
      "source": [
        "# # Función para procesar y descargar una imagen\n",
        "# def procesar_descargar_imagen(feature, attachment):\n",
        "#     object_id = feature.attributes.get('objectid')\n",
        "#     classification = feature.attributes.get('clasificacion', 'SinClasificacion')\n",
        "\n",
        "#     # Crear un directorio para la clasificación si no existe\n",
        "#     class_dir = os.path.join(base_images_dir, str(classification))\n",
        "#     os.makedirs(class_dir, exist_ok=True)\n",
        "\n",
        "#     if is_image_attachment(attachment):\n",
        "#         original_path = os.path.join(class_dir, attachment['name'])\n",
        "#         image_path = generate_unique_filename(original_path)\n",
        "\n",
        "#         # Registrar si es una imagen duplicada\n",
        "#         if image_path != original_path:\n",
        "#             if original_path not in duplicated_images:\n",
        "#                 duplicated_images[original_path] = [image_path]\n",
        "#             else:\n",
        "#                 duplicated_images[original_path].append(image_path)\n",
        "\n",
        "#         try:\n",
        "#             logging.info(f\"Descargando imagen {os.path.basename(image_path)} para el object_id: {object_id}\")\n",
        "#             feature_layer.attachments.download(\n",
        "#                 oid=object_id,\n",
        "#                 attachment_id=attachment['id'],\n",
        "#                 save_path=os.path.dirname(image_path)\n",
        "#             )\n",
        "#             # Renombrar el archivo descargado si es necesario\n",
        "#             downloaded_path = os.path.join(os.path.dirname(image_path), attachment['name'])\n",
        "#             if downloaded_path != image_path:\n",
        "#                 os.rename(downloaded_path, image_path)\n",
        "#                 logging.info(f\"Imagen renombrada a {image_path}\")\n",
        "\n",
        "#             # Redimensionar la imagen\n",
        "#             resize_image(image_path)\n",
        "#         except Exception as e:\n",
        "#             logging.error(f\"Error al descargar o procesar la imagen {attachment['name']} para el object_id {object_id}: {e}\")\n",
        "#             errores.append((object_id, attachment['name'], str(e)))"
      ]
    },
    {
      "cell_type": "code",
      "execution_count": 12,
      "metadata": {
        "id": "LnLLPBh5AE4w"
      },
      "outputs": [],
      "source": [
        "# # Descargar imágenes desde Survey123 y organizar en carpetas según la clasificación\n",
        "# try:\n",
        "#     query_result = feature_layer.query(return_all=True)\n",
        "#     total_features = len(query_result.features)\n",
        "#     logging.info(f\"Total de features obtenidos: {total_features}\")\n",
        "# except Exception as e:\n",
        "#     logging.error(f\"Error al realizar la consulta a la capa: {e}\")\n",
        "#     raise SystemExit(f\"Error al realizar la consulta a la capa: {e}\")\n"
      ]
    },
    {
      "cell_type": "code",
      "execution_count": 13,
      "metadata": {
        "id": "66ay89ERAE4z"
      },
      "outputs": [],
      "source": [
        "# # Parámetros para descarga en paralelo\n",
        "# max_workers = 10  # Puedes ajustar este número según los recursos de tu sistema y límites de la API\n",
        "# with ThreadPoolExecutor(max_workers=max_workers) as executor:\n",
        "#     futuros = []\n",
        "#     for feature in query_result.features:\n",
        "#         object_id = feature.attributes.get('objectid')\n",
        "#         attachments = feature_layer.attachments.get_list(oid=object_id)\n",
        "#         if not attachments:\n",
        "#             logging.info(f\"No se encontraron adjuntos para el object_id: {object_id}\")\n",
        "#             continue\n",
        "#         for attachment in attachments:\n",
        "#             futuros.append(executor.submit(procesar_descargar_imagen, feature, attachment))\n",
        "#             # Implementar una pequeña pausa para evitar posibles límites de la API\n",
        "#             time.sleep(0.05)  # Pausa de 50 ms\n",
        "\n",
        "#     # Monitorear el progreso\n",
        "#     for futuro in as_completed(futuros):\n",
        "#         pass  # Aquí podrías implementar seguimiento si lo deseas\n",
        "\n",
        "# logging.info(\"Descarga de imágenes completada.\")"
      ]
    },
    {
      "cell_type": "code",
      "execution_count": 14,
      "metadata": {
        "id": "vFRJyBCaAE4z"
      },
      "outputs": [],
      "source": [
        "# # Identificar la capa correcta basada en un campo específico\n",
        "# nombre_campo_clave = 'clasificacion'  # Reemplaza con un campo específico de tu formulario\n",
        "\n",
        "# capas = survey.layers\n",
        "# capa_correcta = None\n",
        "\n",
        "# for capa in capas:\n",
        "#     nombres_campos = [campo['name'] for campo in capa.properties.fields]\n",
        "#     if nombre_campo_clave in nombres_campos:\n",
        "#         capa_correcta = capa\n",
        "#         break\n",
        "\n",
        "# if capa_correcta:\n",
        "#     feature_layer = capa_correcta\n",
        "#     print(f\"Usando la capa: {feature_layer.properties.name}\")\n",
        "# else:\n",
        "#     logging.error(f\"No se encontró una capa que contenga el campo '{nombre_campo_clave}'.\")\n",
        "#     raise SystemExit(f\"No se encontró una capa que contenga el campo '{nombre_campo_clave}'.\")"
      ]
    },
    {
      "cell_type": "code",
      "execution_count": 15,
      "metadata": {
        "id": "jGrzd2X_AE41"
      },
      "outputs": [],
      "source": [
        "# # Mostrar listado de imágenes duplicadas\n",
        "# if duplicated_images:\n",
        "#     logging.info(\"Listado de imágenes duplicadas:\")\n",
        "#     for original, duplicates in duplicated_images.items():\n",
        "#         logging.info(f\"Original: {original}\")\n",
        "#         for dup in duplicates:\n",
        "#             logging.info(f\"  Duplicado: {dup}\")\n",
        "# else:\n",
        "#     logging.info(\"No se encontraron imágenes duplicadas.\")\n",
        "\n",
        "# # Mostrar errores si los hay\n",
        "# if errores:\n",
        "#     logging.warning(f\"Total de errores: {len(errores)}\")\n",
        "#     for oid, nombre, error in errores:\n",
        "#         logging.warning(f\"Object ID {oid}, Archivo {nombre}: {error}\")\n",
        "# else:\n",
        "#     logging.info(\"No se encontraron errores durante la descarga.\")\n",
        "\n",
        "# # Verificar la integridad de las imágenes descargadas\n",
        "# total_descargadas = 0\n",
        "# for root, dirs, files in os.walk(base_images_dir):\n",
        "#     for file in files:\n",
        "#         if file.lower().endswith(('.png', '.jpg', '.jpeg', '.gif', '.bmp', '.tiff')):\n",
        "#             total_descargadas += 1\n",
        "\n",
        "# logging.info(f\"Total de imágenes descargadas: {total_descargadas}\")\n",
        "# print(f\"Imágenes descargadas y organizadas por clasificación en: {base_images_dir}\")\n",
        "# print(f\"Total de imágenes descargadas: {total_descargadas}\")\n",
        "\n",
        "# # Mostrar listado de imágenes duplicadas en la consola\n",
        "# if duplicated_images:\n",
        "#     print(\"\\nListado de imágenes duplicadas:\")\n",
        "#     for original, duplicates in duplicated_images.items():\n",
        "#         print(f\"Original: {original}\")\n",
        "#         for dup in duplicates:\n",
        "#             print(f\"  Duplicado: {dup}\")\n",
        "# else:\n",
        "#     print(\"\\nNo se encontraron imágenes duplicadas.\")\n",
        "\n",
        "# # Mostrar errores en la consola\n",
        "# if errores:\n",
        "#     print(f\"\\nTotal de errores durante la descarga: {len(errores)}\")\n",
        "#     for oid, nombre, error in errores:\n",
        "#         print(f\"Object ID {oid}, Archivo {nombre}: {error}\")\n",
        "# else:\n",
        "#     print(\"\\nNo se encontraron errores durante la descarga.\")"
      ]
    },
    {
      "cell_type": "code",
      "execution_count": 16,
      "metadata": {
        "id": "MpTYipAvAE42"
      },
      "outputs": [],
      "source": [
        "# import os\n",
        "\n",
        "# # Diccionario para almacenar las imágenes duplicadas\n",
        "# duplicated_images = {}\n",
        "\n",
        "# # Función para generar un nuevo nombre de archivo para duplicados\n",
        "# def generate_unique_filename(base_path, filename):\n",
        "#     name, ext = os.path.splitext(filename)\n",
        "#     counter = 1\n",
        "#     new_path = base_path\n",
        "#     while os.path.exists(new_path):\n",
        "#         new_path = os.path.join(os.path.dirname(base_path), f\"{name}({counter}){ext}\")\n",
        "#         counter += 1\n",
        "#     return new_path\n",
        "\n",
        "# # Descargar imágenes desde Survey123 y organizar en carpetas según la clasificación\n",
        "# for feature in feature_layer.query().features:\n",
        "#     try:\n",
        "#         object_id = feature.attributes['objectid']\n",
        "#         classification = feature.attributes['clasificacion']  # Clasificación de la plaga\n",
        "\n",
        "#         # Crear un directorio para la clasificación si no existe\n",
        "#         class_dir = os.path.join(base_images_dir, classification)\n",
        "#         if not os.path.exists(class_dir):\n",
        "#             os.makedirs(class_dir)\n",
        "\n",
        "#         # Descargar los adjuntos (imágenes) para el object_id\n",
        "#         attachments = feature_layer.attachments.get_list(oid=object_id)\n",
        "#         if not attachments:\n",
        "#             print(f\"No se encontraron adjuntos para el object_id: {object_id}\")\n",
        "\n",
        "#         for attachment in attachments:\n",
        "#             if is_image_attachment(attachment):\n",
        "#                 original_path = os.path.join(class_dir, attachment['name'])\n",
        "\n",
        "#                 # Generar un nombre único si la imagen ya existe\n",
        "#                 image_path = generate_unique_filename(original_path, attachment['name'])\n",
        "\n",
        "#                 # Registrar si es una imagen duplicada\n",
        "#                 if image_path != original_path:\n",
        "#                     if original_path not in duplicated_images:\n",
        "#                         duplicated_images[original_path] = [image_path]\n",
        "#                     else:\n",
        "#                         duplicated_images[original_path].append(image_path)\n",
        "\n",
        "#                 print(f\"Descargando imagen {os.path.basename(image_path)} para el object_id: {object_id}\")\n",
        "#                 feature_layer.attachments.download(oid=object_id, attachment_id=attachment['id'], save_path=os.path.dirname(image_path))\n",
        "#                 os.rename(os.path.join(os.path.dirname(image_path), attachment['name']), image_path)\n",
        "#                 resize_image(image_path)\n",
        "\n",
        "#     except Exception as e:\n",
        "#         print(f\"Error al procesar el object_id {object_id}: {e}\")\n",
        "\n",
        "# print(f\"Imágenes descargadas y organizadas por clasificación en: {base_images_dir}\")\n",
        "\n",
        "# # Mostrar listado de imágenes duplicadas\n",
        "# if duplicated_images:\n",
        "#     print(\"\\nListado de imágenes duplicadas:\")\n",
        "#     for original, duplicates in duplicated_images.items():\n",
        "#         print(f\"Original: {original}\")\n",
        "#         for dup in duplicates:\n",
        "#             print(f\"  Duplicado: {dup}\")\n",
        "# else:\n",
        "#     print(\"\\nNo se encontraron imágenes duplicadas.\")"
      ]
    },
    {
      "cell_type": "code",
      "execution_count": 17,
      "metadata": {
        "id": "DKa0flqCAE43"
      },
      "outputs": [],
      "source": [
        "# Parámetros de la red\n",
        "EPOCHS = 100\n",
        "IMAGE_SIZE = (128, 128)\n",
        "INPUT_SHAPE = (128, 128, 3)\n",
        "SEED = 123\n",
        "BATCH_SIZE = 32\n",
        "BUFFER_SIZE = 250\n",
        "LEARNING_RATE = 1e-5  # Tasa de aprendizaje reducida para fine-tuning"
      ]
    },
    {
      "cell_type": "code",
      "source": [
        "from google.colab import drive\n",
        "drive.mount('/content/drive')\n",
        "\n",
        "# Directorio de las imágenes\n",
        "images_dir = '/content/drive/My Drive/arcgis-survey-images'\n"
      ],
      "metadata": {
        "id": "945Y_cN7GKx4",
        "colab": {
          "base_uri": "https://localhost:8080/"
        },
        "outputId": "0f840b60-e426-4ed1-929f-e9f02f57a7d6"
      },
      "execution_count": 18,
      "outputs": [
        {
          "output_type": "stream",
          "name": "stdout",
          "text": [
            "Drive already mounted at /content/drive; to attempt to forcibly remount, call drive.mount(\"/content/drive\", force_remount=True).\n"
          ]
        }
      ]
    },
    {
      "cell_type": "code",
      "execution_count": 19,
      "metadata": {
        "id": "rJYQNL1FAE44",
        "outputId": "528fb168-3a90-4f88-c639-a1d860cd65b5",
        "colab": {
          "base_uri": "https://localhost:8080/"
        }
      },
      "outputs": [
        {
          "output_type": "stream",
          "name": "stdout",
          "text": [
            "Found 3289 files belonging to 5 classes.\n",
            "Using 2632 files for training.\n",
            "Found 3289 files belonging to 5 classes.\n",
            "Using 657 files for validation.\n"
          ]
        }
      ],
      "source": [
        "# Cargar dataset de imágenes\n",
        "train_ds = image_dataset_from_directory(\n",
        "    images_dir,\n",
        "    labels=\"inferred\",\n",
        "    batch_size=BATCH_SIZE,\n",
        "    image_size=IMAGE_SIZE,\n",
        "    validation_split=0.2,\n",
        "    subset=\"training\",\n",
        "    seed=SEED,\n",
        "    shuffle=True\n",
        ")\n",
        "\n",
        "validation_ds = image_dataset_from_directory(\n",
        "    images_dir,\n",
        "    labels=\"inferred\",\n",
        "    batch_size=BATCH_SIZE,\n",
        "    image_size=IMAGE_SIZE,\n",
        "    validation_split=0.2,\n",
        "    subset=\"validation\",\n",
        "    seed=SEED\n",
        ")\n",
        "\n",
        "# Obtener los nombres de las clases antes de aplicar las transformaciones\n",
        "class_names = train_ds.class_names\n",
        "\n",
        "# Aplicar las operaciones de optimización de cache y prefetch\n",
        "train_ds = train_ds.cache().shuffle(BUFFER_SIZE).prefetch(buffer_size=tf.data.AUTOTUNE)\n",
        "validation_ds = validation_ds.cache().prefetch(buffer_size=tf.data.AUTOTUNE)"
      ]
    },
    {
      "cell_type": "code",
      "source": [
        "# Obtener las etiquetas de entrenamiento\n",
        "all_labels = np.concatenate([y.numpy() for x, y in train_ds], axis=0)\n",
        "\n",
        "\n",
        "# Contar los ejemplos por clase\n",
        "unique_classes, counts = np.unique(all_labels, return_counts=True)\n",
        "class_distribution = dict(zip([class_names[i] for i in unique_classes], counts))\n",
        "\n",
        "print(\"Distribución de clases en el conjunto de entrenamiento:\")\n",
        "for class_name, count in class_distribution.items():\n",
        "    print(f\"{class_name}: {count}\")\n"
      ],
      "metadata": {
        "id": "P5mWwEUtGNmJ",
        "colab": {
          "base_uri": "https://localhost:8080/"
        },
        "outputId": "ba34ae77-f4ed-4ffb-ac5c-186759d7a2fc"
      },
      "execution_count": 41,
      "outputs": [
        {
          "output_type": "stream",
          "name": "stdout",
          "text": [
            "Distribución de clases en el conjunto de entrenamiento:\n",
            "Chinche salivosa: 661\n",
            "Clororis: 327\n",
            "Hoja sana: 664\n",
            "Roya naranja: 799\n",
            "Roya purpura: 181\n"
          ]
        }
      ]
    },
    {
      "cell_type": "code",
      "source": [
        "# Obtener las etiquetas de validación\n",
        "val_labels = np.concatenate([y.numpy() for x, y in validation_ds], axis=0)\n",
        "\n",
        "# Contar los ejemplos por clase\n",
        "unique_classes_val, counts_val = np.unique(val_labels, return_counts=True)\n",
        "class_distribution_val = dict(zip([class_names[i] for i in unique_classes_val], counts_val))\n",
        "\n",
        "print(\"\\nDistribución de clases en el conjunto de validación:\")\n",
        "for class_name, count in class_distribution_val.items():\n",
        "    print(f\"{class_name}: {count}\")\n"
      ],
      "metadata": {
        "colab": {
          "base_uri": "https://localhost:8080/"
        },
        "id": "70lu40HgRJpa",
        "outputId": "cd17d2b7-48e0-420e-bc02-2ee94aeebf47"
      },
      "execution_count": 42,
      "outputs": [
        {
          "output_type": "stream",
          "name": "stdout",
          "text": [
            "\n",
            "Distribución de clases en el conjunto de validación:\n",
            "Chinche salivosa: 164\n",
            "Clororis: 77\n",
            "Hoja sana: 173\n",
            "Roya naranja: 202\n",
            "Roya purpura: 41\n"
          ]
        }
      ]
    },
    {
      "cell_type": "code",
      "source": [
        "# Calcular los pesos de las clases\n",
        "class_weights_values = class_weight.compute_class_weight(\n",
        "    class_weight='balanced',\n",
        "    classes=np.unique(all_labels),\n",
        "    y=all_labels\n",
        ")\n",
        "class_weights = dict(enumerate(class_weights_values))\n",
        "\n",
        "# Asociar los pesos a los nombres de las clases\n",
        "class_weights_named = {class_names[key]: value for key, value in class_weights.items()}\n",
        "\n",
        "print(\"\\nPesos de las clases utilizados durante el entrenamiento:\")\n",
        "for class_name, weight in class_weights_named.items():\n",
        "    print(f\"{class_name}: {weight:.4f}\")\n"
      ],
      "metadata": {
        "colab": {
          "base_uri": "https://localhost:8080/"
        },
        "id": "2P5hdkw6ROqG",
        "outputId": "69483222-a9e4-4762-af89-ebc68ba9294d"
      },
      "execution_count": 43,
      "outputs": [
        {
          "output_type": "stream",
          "name": "stdout",
          "text": [
            "\n",
            "Pesos de las clases utilizados durante el entrenamiento:\n",
            "Chinche salivosa: 0.7964\n",
            "Clororis: 1.6098\n",
            "Hoja sana: 0.7928\n",
            "Roya naranja: 0.6588\n",
            "Roya purpura: 2.9083\n"
          ]
        }
      ]
    },
    {
      "cell_type": "code",
      "execution_count": 21,
      "metadata": {
        "id": "TpyewOGwAE49"
      },
      "outputs": [],
      "source": [
        "# # Data Augmentation\n",
        "# data_augmentation = tf.keras.Sequential([\n",
        "#     tf.keras.layers.RandomFlip('horizontal_and_vertical'),\n",
        "#     tf.keras.layers.RandomRotation(0.2),\n",
        "#     tf.keras.layers.RandomZoom(0.1),\n",
        "#     tf.keras.layers.RandomContrast(0.1),\n",
        "# ])"
      ]
    },
    {
      "cell_type": "code",
      "execution_count": 22,
      "metadata": {
        "id": "DfT6Hr6aAE49"
      },
      "outputs": [],
      "source": [
        "# augmented_train_ds = train_ds.map(lambda x, y: (data_augmentation(x, training=True), y))"
      ]
    },
    {
      "cell_type": "code",
      "execution_count": 23,
      "metadata": {
        "id": "_HpIOWAtAE4-"
      },
      "outputs": [],
      "source": [
        "# # Primero, contamos cuántos ejemplos tiene cada clase\n",
        "# class_counts = train_ds.reduce(\n",
        "#     tf.constant([0, 0, 0, 0, 0], dtype=tf.int64),\n",
        "#     lambda counts, batch: counts + tf.cast(tf.math.bincount(batch[1], minlength=5), dtype=tf.int64)\n",
        "# )"
      ]
    },
    {
      "cell_type": "code",
      "execution_count": 24,
      "metadata": {
        "id": "2RslOOgPAE4-"
      },
      "outputs": [],
      "source": [
        "\n",
        "# # Obtenemos el número máximo de ejemplos\n",
        "# max_count = tf.reduce_max(class_counts).numpy()"
      ]
    },
    {
      "cell_type": "code",
      "execution_count": 25,
      "metadata": {
        "id": "snqq24U5AE4-"
      },
      "outputs": [],
      "source": [
        "# # Función para aplicar augmentación a las clases minoritarias\n",
        "# def augment_minority_class(x, y):\n",
        "#     augmented_x = x\n",
        "#     # Convertimos y a int32 para asegurar que funcione bien en TensorFlow\n",
        "#     y_int = tf.cast(y, tf.int32)\n",
        "\n",
        "#     # Usamos tf.gather para obtener los valores de class_counts correspondientes a las etiquetas\n",
        "#     class_count_for_y = tf.gather(class_counts, y_int)\n",
        "\n",
        "#     # Aplicamos augmentación si el número de ejemplos para la clase es menor al máximo\n",
        "#     should_augment = tf.less(class_count_for_y, max_count)\n",
        "\n",
        "#     # Si should_augment es True, aplica augmentación; si no, deja la imagen como está\n",
        "#     augmented_x = tf.cond(tf.reduce_any(should_augment), lambda: data_augmentation(x, training=True), lambda: x)\n",
        "\n",
        "#     return augmented_x, y\n",
        "\n"
      ]
    },
    {
      "cell_type": "code",
      "execution_count": 26,
      "metadata": {
        "id": "FPjEWLnbAE4-"
      },
      "outputs": [],
      "source": [
        "\n",
        "# # Aplicamos data augmentation a las clases minoritarias\n",
        "# augmented_train_ds = train_ds.map(lambda x, y: augment_minority_class(x, y))\n",
        "\n"
      ]
    },
    {
      "cell_type": "code",
      "execution_count": 27,
      "metadata": {
        "id": "zUBNmT-UAE4_"
      },
      "outputs": [],
      "source": [
        "# # Finalmente, seguimos con el procesamiento normal de cache y prefetch\n",
        "# augmented_train_ds = augmented_train_ds.cache().shuffle(BUFFER_SIZE).prefetch(buffer_size=tf.data.AUTOTUNE)\n",
        "# validation_ds = validation_ds.cache().prefetch(buffer_size=tf.data.AUTOTUNE)"
      ]
    },
    {
      "cell_type": "code",
      "execution_count": 28,
      "metadata": {
        "id": "soq14f_nAE5A"
      },
      "outputs": [],
      "source": [
        "# # Cache y prefetch para mejorar rendimiento\n",
        "# train_ds = train_ds.cache().shuffle(BUFFER_SIZE).prefetch(buffer_size=tf.data.AUTOTUNE)\n",
        "# validation_ds = validation_ds.cache().prefetch(buffer_size=tf.data.AUTOTUNE)"
      ]
    },
    {
      "cell_type": "code",
      "source": [
        "from tensorflow.keras import layers\n",
        "from tensorflow.keras.callbacks import EarlyStopping, ReduceLROnPlateau\n",
        "from tensorflow.keras.applications import MobileNetV2\n"
      ],
      "metadata": {
        "id": "HuAxIGECSExQ"
      },
      "execution_count": 51,
      "outputs": []
    },
    {
      "cell_type": "code",
      "source": [
        "# 1. Identificar el tamaño de la clase mayoritaria\n",
        "all_labels = np.concatenate([y.numpy() for x, y in train_ds], axis=0)\n",
        "unique_classes, counts = np.unique(all_labels, return_counts=True)\n",
        "class_counts = dict(zip(unique_classes, counts))\n",
        "max_count = max(class_counts.values())\n",
        "print(f\"Tamaño de la clase mayoritaria: {max_count}\")\n",
        "\n",
        "# 2. Separar el dataset por clases\n",
        "datasets_per_class = {}\n",
        "for class_index in unique_classes:\n",
        "    filtered_ds = train_ds.filter(lambda x, y: tf.reduce_any(tf.equal(y, class_index)))\n",
        "    datasets_per_class[class_index] = filtered_ds\n",
        "\n",
        "# 3. Sobremuestrear las clases minoritarias\n",
        "balanced_datasets = []\n",
        "for class_index, dataset in datasets_per_class.items():\n",
        "    class_count = class_counts[class_index]\n",
        "    num_repeats = max_count // class_count\n",
        "    remainder = max_count % class_count\n",
        "\n",
        "    repeated_ds = dataset.repeat(num_repeats)\n",
        "\n",
        "    if remainder > 0:\n",
        "        extra_ds = dataset.shuffle(1000).repeat().take(remainder)\n",
        "        repeated_ds = repeated_ds.concatenate(extra_ds)\n",
        "\n",
        "    balanced_datasets.append(repeated_ds)\n",
        "\n",
        "# 4. Combinar los datasets balanceados\n",
        "balanced_train_ds = balanced_datasets[0]\n",
        "for ds in balanced_datasets[1:]:\n",
        "    balanced_train_ds = balanced_train_ds.concatenate(ds)\n",
        "\n",
        "# 5. Aplicar data augmentation y preparar el dataset\n",
        "augmented_balanced_train_ds = balanced_train_ds.map(\n",
        "    lambda x, y: (data_augmentation(x, training=True), y)\n",
        ")\n",
        "augmented_balanced_train_ds = augmented_balanced_train_ds.cache().shuffle(BUFFER_SIZE).prefetch(buffer_size=tf.data.AUTOTUNE)\n",
        "\n",
        "# 6. Verificar que las clases están balanceadas\n",
        "balanced_class_counts = np.zeros(len(class_names))\n",
        "for images, labels in augmented_balanced_train_ds:\n",
        "    for label in labels:\n",
        "        balanced_class_counts[label.numpy()] += 1\n",
        "\n",
        "print(\"Distribución de clases en el dataset balanceado:\")\n",
        "for i, count in enumerate(balanced_class_counts):\n",
        "    print(f\"Clase: {class_names[i]}, Número de ejemplos: {int(count)}\")\n",
        "\n"
      ],
      "metadata": {
        "colab": {
          "base_uri": "https://localhost:8080/"
        },
        "id": "6r-Pb8p8SDsf",
        "outputId": "6cbdf689-d91c-43ea-9f9a-685e11e4ea57"
      },
      "execution_count": null,
      "outputs": [
        {
          "output_type": "stream",
          "name": "stdout",
          "text": [
            "Tamaño de la clase mayoritaria: 799\n"
          ]
        }
      ]
    },
    {
      "cell_type": "code",
      "source": [
        "# augmented_train_ds = augmented_train_ds.cache().shuffle(BUFFER_SIZE).prefetch(buffer_size=tf.data.AUTOTUNE)\n",
        "# validation_ds = validation_ds.cache().prefetch(buffer_size=tf.data.AUTOTUNE)\n"
      ],
      "metadata": {
        "id": "MEagOVFuGT6M"
      },
      "execution_count": 46,
      "outputs": []
    },
    {
      "cell_type": "code",
      "source": [
        "import numpy as np\n",
        "\n",
        "# Contar cuántos ejemplos pertenecen a cada clase\n",
        "class_counts = np.zeros(len(class_names))\n",
        "\n",
        "# Iteramos sobre todo el dataset\n",
        "for images, labels in augmented_train_ds:\n",
        "    for label in labels:\n",
        "        class_counts[label.numpy()] += 1\n",
        "\n",
        "# Mostrar la distribución de las clases en texto\n",
        "for i, count in enumerate(class_counts):\n",
        "    print(f\"Clase: {class_names[i]}, Número de ejemplos: {int(count)}\")\n"
      ],
      "metadata": {
        "colab": {
          "base_uri": "https://localhost:8080/"
        },
        "id": "wWJFOVX6SJvM",
        "outputId": "84f9c8bb-fe1d-4c35-91f4-5ce9479be5b3"
      },
      "execution_count": 50,
      "outputs": [
        {
          "output_type": "stream",
          "name": "stdout",
          "text": [
            "Clase: Chinche salivosa, Número de ejemplos: 661\n",
            "Clase: Clororis, Número de ejemplos: 327\n",
            "Clase: Hoja sana, Número de ejemplos: 664\n",
            "Clase: Roya naranja, Número de ejemplos: 799\n",
            "Clase: Roya purpura, Número de ejemplos: 181\n"
          ]
        }
      ]
    },
    {
      "cell_type": "code",
      "execution_count": 30,
      "metadata": {
        "id": "4PrzVJNmAE5B"
      },
      "outputs": [],
      "source": [
        "# Cargar el modelo base (MobileNetV2)\n",
        "base_model = MobileNetV2(input_shape=INPUT_SHAPE,\n",
        "                         include_top=False,\n",
        "                         weights='imagenet')"
      ]
    },
    {
      "cell_type": "code",
      "execution_count": 31,
      "metadata": {
        "id": "wOP0lJ6oAE5C"
      },
      "outputs": [],
      "source": [
        "# Hacer que todas las capas del modelo base sean entrenables\n",
        "for layer in base_model.layers:\n",
        "    layer.trainable = True\n"
      ]
    },
    {
      "cell_type": "code",
      "execution_count": 32,
      "metadata": {
        "id": "s17WRvZjAE5E"
      },
      "outputs": [],
      "source": [
        "model = tf.keras.models.Sequential([\n",
        "    tf.keras.layers.Rescaling(1./127.5, offset=-1),\n",
        "    base_model,\n",
        "    tf.keras.layers.GlobalAveragePooling2D(),\n",
        "    tf.keras.layers.Dense(128, activation='relu', kernel_regularizer=tf.keras.regularizers.l2(0.01)),\n",
        "    tf.keras.layers.BatchNormalization(),\n",
        "    tf.keras.layers.Dropout(0.5),\n",
        "    tf.keras.layers.Dense(64, activation='relu', kernel_regularizer=tf.keras.regularizers.l2(0.01)),\n",
        "    tf.keras.layers.BatchNormalization(),\n",
        "    tf.keras.layers.Dropout(0.5),\n",
        "    tf.keras.layers.Dense(len(class_names), activation='softmax')\n",
        "])\n"
      ]
    },
    {
      "cell_type": "code",
      "source": [
        "LEARNING_RATE = 1e-4\n",
        "\n",
        "model.compile(optimizer=tf.keras.optimizers.Adam(learning_rate=LEARNING_RATE),\n",
        "              loss=tf.keras.losses.SparseCategoricalCrossentropy(from_logits=False),\n",
        "              metrics=['accuracy'])\n"
      ],
      "metadata": {
        "id": "q2RQTq2FGfKD"
      },
      "execution_count": 33,
      "outputs": []
    },
    {
      "cell_type": "code",
      "execution_count": 34,
      "metadata": {
        "id": "SEQsw4whAE5I",
        "outputId": "2626fab6-f5f5-464d-cde2-cd1c798a51df",
        "colab": {
          "base_uri": "https://localhost:8080/"
        }
      },
      "outputs": [
        {
          "output_type": "stream",
          "name": "stdout",
          "text": [
            "Epoch 1/100\n",
            "\u001b[1m83/83\u001b[0m \u001b[32m━━━━━━━━━━━━━━━━━━━━\u001b[0m\u001b[37m\u001b[0m \u001b[1m100s\u001b[0m 469ms/step - accuracy: 0.2576 - loss: 5.6084 - val_accuracy: 0.3866 - val_loss: 4.7264 - learning_rate: 1.0000e-04\n",
            "Epoch 2/100\n",
            "\u001b[1m83/83\u001b[0m \u001b[32m━━━━━━━━━━━━━━━━━━━━\u001b[0m\u001b[37m\u001b[0m \u001b[1m12s\u001b[0m 49ms/step - accuracy: 0.4243 - loss: 4.8730 - val_accuracy: 0.4810 - val_loss: 4.4105 - learning_rate: 1.0000e-04\n",
            "Epoch 3/100\n",
            "\u001b[1m83/83\u001b[0m \u001b[32m━━━━━━━━━━━━━━━━━━━━\u001b[0m\u001b[37m\u001b[0m \u001b[1m4s\u001b[0m 49ms/step - accuracy: 0.5383 - loss: 4.3987 - val_accuracy: 0.5540 - val_loss: 4.2324 - learning_rate: 1.0000e-04\n",
            "Epoch 4/100\n",
            "\u001b[1m83/83\u001b[0m \u001b[32m━━━━━━━━━━━━━━━━━━━━\u001b[0m\u001b[37m\u001b[0m \u001b[1m5s\u001b[0m 44ms/step - accuracy: 0.6213 - loss: 4.0945 - val_accuracy: 0.6743 - val_loss: 4.0347 - learning_rate: 1.0000e-04\n",
            "Epoch 5/100\n",
            "\u001b[1m83/83\u001b[0m \u001b[32m━━━━━━━━━━━━━━━━━━━━\u001b[0m\u001b[37m\u001b[0m \u001b[1m5s\u001b[0m 46ms/step - accuracy: 0.6613 - loss: 3.9959 - val_accuracy: 0.6834 - val_loss: 3.9533 - learning_rate: 1.0000e-04\n",
            "Epoch 6/100\n",
            "\u001b[1m83/83\u001b[0m \u001b[32m━━━━━━━━━━━━━━━━━━━━\u001b[0m\u001b[37m\u001b[0m \u001b[1m5s\u001b[0m 44ms/step - accuracy: 0.7130 - loss: 3.8016 - val_accuracy: 0.6758 - val_loss: 3.9316 - learning_rate: 1.0000e-04\n",
            "Epoch 7/100\n",
            "\u001b[1m83/83\u001b[0m \u001b[32m━━━━━━━━━━━━━━━━━━━━\u001b[0m\u001b[37m\u001b[0m \u001b[1m5s\u001b[0m 47ms/step - accuracy: 0.8073 - loss: 3.5373 - val_accuracy: 0.6941 - val_loss: 3.8293 - learning_rate: 1.0000e-04\n",
            "Epoch 8/100\n",
            "\u001b[1m83/83\u001b[0m \u001b[32m━━━━━━━━━━━━━━━━━━━━\u001b[0m\u001b[37m\u001b[0m \u001b[1m5s\u001b[0m 45ms/step - accuracy: 0.7958 - loss: 3.5139 - val_accuracy: 0.6880 - val_loss: 3.8226 - learning_rate: 1.0000e-04\n",
            "Epoch 9/100\n",
            "\u001b[1m83/83\u001b[0m \u001b[32m━━━━━━━━━━━━━━━━━━━━\u001b[0m\u001b[37m\u001b[0m \u001b[1m4s\u001b[0m 44ms/step - accuracy: 0.8490 - loss: 3.3834 - val_accuracy: 0.6971 - val_loss: 3.7478 - learning_rate: 1.0000e-04\n",
            "Epoch 10/100\n",
            "\u001b[1m83/83\u001b[0m \u001b[32m━━━━━━━━━━━━━━━━━━━━\u001b[0m\u001b[37m\u001b[0m \u001b[1m5s\u001b[0m 47ms/step - accuracy: 0.8584 - loss: 3.2498 - val_accuracy: 0.7184 - val_loss: 3.6639 - learning_rate: 1.0000e-04\n",
            "Epoch 11/100\n",
            "\u001b[1m83/83\u001b[0m \u001b[32m━━━━━━━━━━━━━━━━━━━━\u001b[0m\u001b[37m\u001b[0m \u001b[1m4s\u001b[0m 43ms/step - accuracy: 0.8904 - loss: 3.1636 - val_accuracy: 0.7230 - val_loss: 3.5682 - learning_rate: 1.0000e-04\n",
            "Epoch 12/100\n",
            "\u001b[1m83/83\u001b[0m \u001b[32m━━━━━━━━━━━━━━━━━━━━\u001b[0m\u001b[37m\u001b[0m \u001b[1m5s\u001b[0m 43ms/step - accuracy: 0.9099 - loss: 3.0873 - val_accuracy: 0.7473 - val_loss: 3.5161 - learning_rate: 1.0000e-04\n",
            "Epoch 13/100\n",
            "\u001b[1m83/83\u001b[0m \u001b[32m━━━━━━━━━━━━━━━━━━━━\u001b[0m\u001b[37m\u001b[0m \u001b[1m4s\u001b[0m 49ms/step - accuracy: 0.9214 - loss: 2.9984 - val_accuracy: 0.7458 - val_loss: 3.4712 - learning_rate: 1.0000e-04\n",
            "Epoch 14/100\n",
            "\u001b[1m83/83\u001b[0m \u001b[32m━━━━━━━━━━━━━━━━━━━━\u001b[0m\u001b[37m\u001b[0m \u001b[1m4s\u001b[0m 52ms/step - accuracy: 0.9233 - loss: 2.9468 - val_accuracy: 0.7215 - val_loss: 3.4496 - learning_rate: 1.0000e-04\n",
            "Epoch 15/100\n",
            "\u001b[1m83/83\u001b[0m \u001b[32m━━━━━━━━━━━━━━━━━━━━\u001b[0m\u001b[37m\u001b[0m \u001b[1m4s\u001b[0m 44ms/step - accuracy: 0.9416 - loss: 2.8668 - val_accuracy: 0.7245 - val_loss: 3.4105 - learning_rate: 1.0000e-04\n",
            "Epoch 16/100\n",
            "\u001b[1m83/83\u001b[0m \u001b[32m━━━━━━━━━━━━━━━━━━━━\u001b[0m\u001b[37m\u001b[0m \u001b[1m5s\u001b[0m 45ms/step - accuracy: 0.9571 - loss: 2.7868 - val_accuracy: 0.7489 - val_loss: 3.3246 - learning_rate: 1.0000e-04\n",
            "Epoch 17/100\n",
            "\u001b[1m83/83\u001b[0m \u001b[32m━━━━━━━━━━━━━━━━━━━━\u001b[0m\u001b[37m\u001b[0m \u001b[1m5s\u001b[0m 44ms/step - accuracy: 0.9692 - loss: 2.6921 - val_accuracy: 0.7275 - val_loss: 3.2954 - learning_rate: 1.0000e-04\n",
            "Epoch 18/100\n",
            "\u001b[1m83/83\u001b[0m \u001b[32m━━━━━━━━━━━━━━━━━━━━\u001b[0m\u001b[37m\u001b[0m \u001b[1m4s\u001b[0m 43ms/step - accuracy: 0.9653 - loss: 2.6463 - val_accuracy: 0.7595 - val_loss: 3.1999 - learning_rate: 1.0000e-04\n",
            "Epoch 19/100\n",
            "\u001b[1m83/83\u001b[0m \u001b[32m━━━━━━━━━━━━━━━━━━━━\u001b[0m\u001b[37m\u001b[0m \u001b[1m4s\u001b[0m 44ms/step - accuracy: 0.9654 - loss: 2.5953 - val_accuracy: 0.7534 - val_loss: 3.1729 - learning_rate: 1.0000e-04\n",
            "Epoch 20/100\n",
            "\u001b[1m83/83\u001b[0m \u001b[32m━━━━━━━━━━━━━━━━━━━━\u001b[0m\u001b[37m\u001b[0m \u001b[1m5s\u001b[0m 44ms/step - accuracy: 0.9783 - loss: 2.5083 - val_accuracy: 0.7443 - val_loss: 3.1291 - learning_rate: 1.0000e-04\n",
            "Epoch 21/100\n",
            "\u001b[1m83/83\u001b[0m \u001b[32m━━━━━━━━━━━━━━━━━━━━\u001b[0m\u001b[37m\u001b[0m \u001b[1m5s\u001b[0m 42ms/step - accuracy: 0.9801 - loss: 2.4477 - val_accuracy: 0.7123 - val_loss: 3.1780 - learning_rate: 1.0000e-04\n",
            "Epoch 22/100\n",
            "\u001b[1m83/83\u001b[0m \u001b[32m━━━━━━━━━━━━━━━━━━━━\u001b[0m\u001b[37m\u001b[0m \u001b[1m6s\u001b[0m 47ms/step - accuracy: 0.9816 - loss: 2.3922 - val_accuracy: 0.6819 - val_loss: 3.2163 - learning_rate: 1.0000e-04\n",
            "Epoch 23/100\n",
            "\u001b[1m83/83\u001b[0m \u001b[32m━━━━━━━━━━━━━━━━━━━━\u001b[0m\u001b[37m\u001b[0m \u001b[1m5s\u001b[0m 43ms/step - accuracy: 0.9801 - loss: 2.3316 - val_accuracy: 0.7047 - val_loss: 3.1104 - learning_rate: 1.0000e-04\n",
            "Epoch 24/100\n",
            "\u001b[1m83/83\u001b[0m \u001b[32m━━━━━━━━━━━━━━━━━━━━\u001b[0m\u001b[37m\u001b[0m \u001b[1m4s\u001b[0m 43ms/step - accuracy: 0.9837 - loss: 2.2613 - val_accuracy: 0.6880 - val_loss: 3.0901 - learning_rate: 1.0000e-04\n",
            "Epoch 25/100\n",
            "\u001b[1m83/83\u001b[0m \u001b[32m━━━━━━━━━━━━━━━━━━━━\u001b[0m\u001b[37m\u001b[0m \u001b[1m4s\u001b[0m 46ms/step - accuracy: 0.9878 - loss: 2.1982 - val_accuracy: 0.7093 - val_loss: 2.9765 - learning_rate: 1.0000e-04\n",
            "Epoch 26/100\n",
            "\u001b[1m83/83\u001b[0m \u001b[32m━━━━━━━━━━━━━━━━━━━━\u001b[0m\u001b[37m\u001b[0m \u001b[1m4s\u001b[0m 44ms/step - accuracy: 0.9901 - loss: 2.1298 - val_accuracy: 0.6925 - val_loss: 3.0002 - learning_rate: 1.0000e-04\n",
            "Epoch 27/100\n",
            "\u001b[1m83/83\u001b[0m \u001b[32m━━━━━━━━━━━━━━━━━━━━\u001b[0m\u001b[37m\u001b[0m \u001b[1m5s\u001b[0m 44ms/step - accuracy: 0.9918 - loss: 2.0608 - val_accuracy: 0.6925 - val_loss: 2.9761 - learning_rate: 1.0000e-04\n",
            "Epoch 28/100\n",
            "\u001b[1m83/83\u001b[0m \u001b[32m━━━━━━━━━━━━━━━━━━━━\u001b[0m\u001b[37m\u001b[0m \u001b[1m5s\u001b[0m 47ms/step - accuracy: 0.9910 - loss: 2.0096 - val_accuracy: 0.7230 - val_loss: 2.7732 - learning_rate: 1.0000e-04\n",
            "Epoch 29/100\n",
            "\u001b[1m83/83\u001b[0m \u001b[32m━━━━━━━━━━━━━━━━━━━━\u001b[0m\u001b[37m\u001b[0m \u001b[1m5s\u001b[0m 44ms/step - accuracy: 0.9947 - loss: 1.9338 - val_accuracy: 0.7123 - val_loss: 2.7800 - learning_rate: 1.0000e-04\n",
            "Epoch 30/100\n",
            "\u001b[1m83/83\u001b[0m \u001b[32m━━━━━━━━━━━━━━━━━━━━\u001b[0m\u001b[37m\u001b[0m \u001b[1m5s\u001b[0m 43ms/step - accuracy: 0.9920 - loss: 1.8820 - val_accuracy: 0.6956 - val_loss: 2.7544 - learning_rate: 1.0000e-04\n",
            "Epoch 31/100\n",
            "\u001b[1m83/83\u001b[0m \u001b[32m━━━━━━━━━━━━━━━━━━━━\u001b[0m\u001b[37m\u001b[0m \u001b[1m5s\u001b[0m 46ms/step - accuracy: 0.9947 - loss: 1.8011 - val_accuracy: 0.7093 - val_loss: 2.7368 - learning_rate: 1.0000e-04\n",
            "Epoch 32/100\n",
            "\u001b[1m83/83\u001b[0m \u001b[32m━━━━━━━━━━━━━━━━━━━━\u001b[0m\u001b[37m\u001b[0m \u001b[1m5s\u001b[0m 45ms/step - accuracy: 0.9912 - loss: 1.7591 - val_accuracy: 0.7078 - val_loss: 2.6363 - learning_rate: 1.0000e-04\n",
            "Epoch 33/100\n",
            "\u001b[1m83/83\u001b[0m \u001b[32m━━━━━━━━━━━━━━━━━━━━\u001b[0m\u001b[37m\u001b[0m \u001b[1m4s\u001b[0m 44ms/step - accuracy: 0.9923 - loss: 1.6830 - val_accuracy: 0.7139 - val_loss: 2.5496 - learning_rate: 1.0000e-04\n",
            "Epoch 34/100\n",
            "\u001b[1m83/83\u001b[0m \u001b[32m━━━━━━━━━━━━━━━━━━━━\u001b[0m\u001b[37m\u001b[0m \u001b[1m5s\u001b[0m 44ms/step - accuracy: 0.9986 - loss: 1.6138 - val_accuracy: 0.7199 - val_loss: 2.4587 - learning_rate: 1.0000e-04\n",
            "Epoch 35/100\n",
            "\u001b[1m83/83\u001b[0m \u001b[32m━━━━━━━━━━━━━━━━━━━━\u001b[0m\u001b[37m\u001b[0m \u001b[1m4s\u001b[0m 42ms/step - accuracy: 0.9978 - loss: 1.5543 - val_accuracy: 0.7108 - val_loss: 2.4777 - learning_rate: 1.0000e-04\n",
            "Epoch 36/100\n",
            "\u001b[1m83/83\u001b[0m \u001b[32m━━━━━━━━━━━━━━━━━━━━\u001b[0m\u001b[37m\u001b[0m \u001b[1m5s\u001b[0m 46ms/step - accuracy: 0.9974 - loss: 1.4931 - val_accuracy: 0.7215 - val_loss: 2.3678 - learning_rate: 1.0000e-04\n",
            "Epoch 37/100\n",
            "\u001b[1m83/83\u001b[0m \u001b[32m━━━━━━━━━━━━━━━━━━━━\u001b[0m\u001b[37m\u001b[0m \u001b[1m5s\u001b[0m 44ms/step - accuracy: 0.9988 - loss: 1.4260 - val_accuracy: 0.7336 - val_loss: 2.2540 - learning_rate: 1.0000e-04\n",
            "Epoch 38/100\n",
            "\u001b[1m83/83\u001b[0m \u001b[32m━━━━━━━━━━━━━━━━━━━━\u001b[0m\u001b[37m\u001b[0m \u001b[1m4s\u001b[0m 43ms/step - accuracy: 0.9988 - loss: 1.3704 - val_accuracy: 0.7306 - val_loss: 2.2040 - learning_rate: 1.0000e-04\n",
            "Epoch 39/100\n",
            "\u001b[1m83/83\u001b[0m \u001b[32m━━━━━━━━━━━━━━━━━━━━\u001b[0m\u001b[37m\u001b[0m \u001b[1m5s\u001b[0m 46ms/step - accuracy: 0.9960 - loss: 1.3125 - val_accuracy: 0.7169 - val_loss: 2.1778 - learning_rate: 1.0000e-04\n",
            "Epoch 40/100\n",
            "\u001b[1m83/83\u001b[0m \u001b[32m━━━━━━━━━━━━━━━━━━━━\u001b[0m\u001b[37m\u001b[0m \u001b[1m5s\u001b[0m 44ms/step - accuracy: 0.9987 - loss: 1.2483 - val_accuracy: 0.7504 - val_loss: 2.0029 - learning_rate: 1.0000e-04\n",
            "Epoch 41/100\n",
            "\u001b[1m83/83\u001b[0m \u001b[32m━━━━━━━━━━━━━━━━━━━━\u001b[0m\u001b[37m\u001b[0m \u001b[1m4s\u001b[0m 43ms/step - accuracy: 0.9980 - loss: 1.1924 - val_accuracy: 0.7504 - val_loss: 1.9278 - learning_rate: 1.0000e-04\n",
            "Epoch 42/100\n",
            "\u001b[1m83/83\u001b[0m \u001b[32m━━━━━━━━━━━━━━━━━━━━\u001b[0m\u001b[37m\u001b[0m \u001b[1m6s\u001b[0m 50ms/step - accuracy: 0.9981 - loss: 1.1318 - val_accuracy: 0.7656 - val_loss: 1.8910 - learning_rate: 1.0000e-04\n",
            "Epoch 43/100\n",
            "\u001b[1m83/83\u001b[0m \u001b[32m━━━━━━━━━━━━━━━━━━━━\u001b[0m\u001b[37m\u001b[0m \u001b[1m5s\u001b[0m 44ms/step - accuracy: 0.9970 - loss: 1.0744 - val_accuracy: 0.7534 - val_loss: 1.8968 - learning_rate: 1.0000e-04\n",
            "Epoch 44/100\n",
            "\u001b[1m83/83\u001b[0m \u001b[32m━━━━━━━━━━━━━━━━━━━━\u001b[0m\u001b[37m\u001b[0m \u001b[1m4s\u001b[0m 43ms/step - accuracy: 0.9990 - loss: 1.0206 - val_accuracy: 0.7078 - val_loss: 1.9627 - learning_rate: 1.0000e-04\n",
            "Epoch 45/100\n",
            "\u001b[1m83/83\u001b[0m \u001b[32m━━━━━━━━━━━━━━━━━━━━\u001b[0m\u001b[37m\u001b[0m \u001b[1m4s\u001b[0m 45ms/step - accuracy: 0.9990 - loss: 0.9685 - val_accuracy: 0.6819 - val_loss: 2.0798 - learning_rate: 1.0000e-04\n",
            "Epoch 46/100\n",
            "\u001b[1m83/83\u001b[0m \u001b[32m━━━━━━━━━━━━━━━━━━━━\u001b[0m\u001b[37m\u001b[0m \u001b[1m5s\u001b[0m 43ms/step - accuracy: 0.9958 - loss: 0.9381 - val_accuracy: 0.7199 - val_loss: 1.8921 - learning_rate: 2.0000e-05\n",
            "Epoch 47/100\n",
            "\u001b[1m83/83\u001b[0m \u001b[32m━━━━━━━━━━━━━━━━━━━━\u001b[0m\u001b[37m\u001b[0m \u001b[1m5s\u001b[0m 45ms/step - accuracy: 0.9972 - loss: 0.9146 - val_accuracy: 0.7093 - val_loss: 1.8708 - learning_rate: 2.0000e-05\n",
            "Epoch 48/100\n",
            "\u001b[1m83/83\u001b[0m \u001b[32m━━━━━━━━━━━━━━━━━━━━\u001b[0m\u001b[37m\u001b[0m \u001b[1m5s\u001b[0m 47ms/step - accuracy: 0.9968 - loss: 0.9074 - val_accuracy: 0.7291 - val_loss: 1.8249 - learning_rate: 2.0000e-05\n",
            "Epoch 49/100\n",
            "\u001b[1m83/83\u001b[0m \u001b[32m━━━━━━━━━━━━━━━━━━━━\u001b[0m\u001b[37m\u001b[0m \u001b[1m5s\u001b[0m 44ms/step - accuracy: 0.9989 - loss: 0.8909 - val_accuracy: 0.7260 - val_loss: 1.8048 - learning_rate: 2.0000e-05\n",
            "Epoch 50/100\n",
            "\u001b[1m83/83\u001b[0m \u001b[32m━━━━━━━━━━━━━━━━━━━━\u001b[0m\u001b[37m\u001b[0m \u001b[1m5s\u001b[0m 46ms/step - accuracy: 0.9996 - loss: 0.8792 - val_accuracy: 0.7306 - val_loss: 1.7612 - learning_rate: 2.0000e-05\n",
            "Epoch 51/100\n",
            "\u001b[1m83/83\u001b[0m \u001b[32m━━━━━━━━━━━━━━━━━━━━\u001b[0m\u001b[37m\u001b[0m \u001b[1m5s\u001b[0m 44ms/step - accuracy: 0.9989 - loss: 0.8721 - val_accuracy: 0.7336 - val_loss: 1.7377 - learning_rate: 2.0000e-05\n",
            "Epoch 52/100\n",
            "\u001b[1m83/83\u001b[0m \u001b[32m━━━━━━━━━━━━━━━━━━━━\u001b[0m\u001b[37m\u001b[0m \u001b[1m5s\u001b[0m 44ms/step - accuracy: 1.0000 - loss: 0.8569 - val_accuracy: 0.7336 - val_loss: 1.7291 - learning_rate: 2.0000e-05\n",
            "Epoch 53/100\n",
            "\u001b[1m83/83\u001b[0m \u001b[32m━━━━━━━━━━━━━━━━━━━━\u001b[0m\u001b[37m\u001b[0m \u001b[1m5s\u001b[0m 48ms/step - accuracy: 0.9995 - loss: 0.8434 - val_accuracy: 0.7428 - val_loss: 1.6925 - learning_rate: 2.0000e-05\n",
            "Epoch 54/100\n",
            "\u001b[1m83/83\u001b[0m \u001b[32m━━━━━━━━━━━━━━━━━━━━\u001b[0m\u001b[37m\u001b[0m \u001b[1m5s\u001b[0m 44ms/step - accuracy: 0.9966 - loss: 0.8368 - val_accuracy: 0.7504 - val_loss: 1.6637 - learning_rate: 2.0000e-05\n",
            "Epoch 55/100\n",
            "\u001b[1m83/83\u001b[0m \u001b[32m━━━━━━━━━━━━━━━━━━━━\u001b[0m\u001b[37m\u001b[0m \u001b[1m5s\u001b[0m 44ms/step - accuracy: 0.9995 - loss: 0.8193 - val_accuracy: 0.7565 - val_loss: 1.6458 - learning_rate: 2.0000e-05\n",
            "Epoch 56/100\n",
            "\u001b[1m83/83\u001b[0m \u001b[32m━━━━━━━━━━━━━━━━━━━━\u001b[0m\u001b[37m\u001b[0m \u001b[1m4s\u001b[0m 48ms/step - accuracy: 1.0000 - loss: 0.8066 - val_accuracy: 0.7458 - val_loss: 1.6546 - learning_rate: 2.0000e-05\n",
            "Epoch 57/100\n",
            "\u001b[1m83/83\u001b[0m \u001b[32m━━━━━━━━━━━━━━━━━━━━\u001b[0m\u001b[37m\u001b[0m \u001b[1m4s\u001b[0m 44ms/step - accuracy: 0.9994 - loss: 0.7927 - val_accuracy: 0.7458 - val_loss: 1.6343 - learning_rate: 2.0000e-05\n",
            "Epoch 58/100\n",
            "\u001b[1m83/83\u001b[0m \u001b[32m━━━━━━━━━━━━━━━━━━━━\u001b[0m\u001b[37m\u001b[0m \u001b[1m5s\u001b[0m 48ms/step - accuracy: 0.9999 - loss: 0.7807 - val_accuracy: 0.7443 - val_loss: 1.6271 - learning_rate: 2.0000e-05\n",
            "Epoch 59/100\n",
            "\u001b[1m83/83\u001b[0m \u001b[32m━━━━━━━━━━━━━━━━━━━━\u001b[0m\u001b[37m\u001b[0m \u001b[1m5s\u001b[0m 47ms/step - accuracy: 0.9987 - loss: 0.7675 - val_accuracy: 0.7519 - val_loss: 1.5956 - learning_rate: 2.0000e-05\n",
            "Epoch 60/100\n",
            "\u001b[1m83/83\u001b[0m \u001b[32m━━━━━━━━━━━━━━━━━━━━\u001b[0m\u001b[37m\u001b[0m \u001b[1m5s\u001b[0m 43ms/step - accuracy: 1.0000 - loss: 0.7545 - val_accuracy: 0.7489 - val_loss: 1.5998 - learning_rate: 2.0000e-05\n",
            "Epoch 61/100\n",
            "\u001b[1m83/83\u001b[0m \u001b[32m━━━━━━━━━━━━━━━━━━━━\u001b[0m\u001b[37m\u001b[0m \u001b[1m5s\u001b[0m 46ms/step - accuracy: 1.0000 - loss: 0.7389 - val_accuracy: 0.7504 - val_loss: 1.5774 - learning_rate: 2.0000e-05\n",
            "Epoch 62/100\n",
            "\u001b[1m83/83\u001b[0m \u001b[32m━━━━━━━━━━━━━━━━━━━━\u001b[0m\u001b[37m\u001b[0m \u001b[1m4s\u001b[0m 46ms/step - accuracy: 1.0000 - loss: 0.7278 - val_accuracy: 0.7458 - val_loss: 1.5778 - learning_rate: 2.0000e-05\n",
            "Epoch 63/100\n",
            "\u001b[1m83/83\u001b[0m \u001b[32m━━━━━━━━━━━━━━━━━━━━\u001b[0m\u001b[37m\u001b[0m \u001b[1m4s\u001b[0m 43ms/step - accuracy: 0.9997 - loss: 0.7146 - val_accuracy: 0.7336 - val_loss: 1.5880 - learning_rate: 2.0000e-05\n",
            "Epoch 64/100\n",
            "\u001b[1m83/83\u001b[0m \u001b[32m━━━━━━━━━━━━━━━━━━━━\u001b[0m\u001b[37m\u001b[0m \u001b[1m5s\u001b[0m 45ms/step - accuracy: 1.0000 - loss: 0.6979 - val_accuracy: 0.7443 - val_loss: 1.5457 - learning_rate: 2.0000e-05\n",
            "Epoch 65/100\n",
            "\u001b[1m83/83\u001b[0m \u001b[32m━━━━━━━━━━━━━━━━━━━━\u001b[0m\u001b[37m\u001b[0m \u001b[1m4s\u001b[0m 47ms/step - accuracy: 0.9998 - loss: 0.6858 - val_accuracy: 0.7473 - val_loss: 1.5300 - learning_rate: 2.0000e-05\n",
            "Epoch 66/100\n",
            "\u001b[1m83/83\u001b[0m \u001b[32m━━━━━━━━━━━━━━━━━━━━\u001b[0m\u001b[37m\u001b[0m \u001b[1m5s\u001b[0m 44ms/step - accuracy: 0.9996 - loss: 0.6704 - val_accuracy: 0.7443 - val_loss: 1.5253 - learning_rate: 2.0000e-05\n",
            "Epoch 67/100\n",
            "\u001b[1m83/83\u001b[0m \u001b[32m━━━━━━━━━━━━━━━━━━━━\u001b[0m\u001b[37m\u001b[0m \u001b[1m4s\u001b[0m 44ms/step - accuracy: 1.0000 - loss: 0.6567 - val_accuracy: 0.7473 - val_loss: 1.5010 - learning_rate: 2.0000e-05\n",
            "Epoch 68/100\n",
            "\u001b[1m83/83\u001b[0m \u001b[32m━━━━━━━━━━━━━━━━━━━━\u001b[0m\u001b[37m\u001b[0m \u001b[1m4s\u001b[0m 47ms/step - accuracy: 0.9997 - loss: 0.6448 - val_accuracy: 0.7321 - val_loss: 1.5278 - learning_rate: 2.0000e-05\n",
            "Epoch 69/100\n",
            "\u001b[1m83/83\u001b[0m \u001b[32m━━━━━━━━━━━━━━━━━━━━\u001b[0m\u001b[37m\u001b[0m \u001b[1m5s\u001b[0m 43ms/step - accuracy: 1.0000 - loss: 0.6274 - val_accuracy: 0.7412 - val_loss: 1.4905 - learning_rate: 2.0000e-05\n",
            "Epoch 70/100\n",
            "\u001b[1m83/83\u001b[0m \u001b[32m━━━━━━━━━━━━━━━━━━━━\u001b[0m\u001b[37m\u001b[0m \u001b[1m4s\u001b[0m 44ms/step - accuracy: 0.9996 - loss: 0.6142 - val_accuracy: 0.7275 - val_loss: 1.5343 - learning_rate: 2.0000e-05\n",
            "Epoch 71/100\n",
            "\u001b[1m83/83\u001b[0m \u001b[32m━━━━━━━━━━━━━━━━━━━━\u001b[0m\u001b[37m\u001b[0m \u001b[1m4s\u001b[0m 46ms/step - accuracy: 0.9998 - loss: 0.5996 - val_accuracy: 0.7397 - val_loss: 1.5038 - learning_rate: 2.0000e-05\n",
            "Epoch 72/100\n",
            "\u001b[1m83/83\u001b[0m \u001b[32m━━━━━━━━━━━━━━━━━━━━\u001b[0m\u001b[37m\u001b[0m \u001b[1m5s\u001b[0m 43ms/step - accuracy: 1.0000 - loss: 0.5864 - val_accuracy: 0.7580 - val_loss: 1.4369 - learning_rate: 2.0000e-05\n",
            "Epoch 73/100\n",
            "\u001b[1m83/83\u001b[0m \u001b[32m━━━━━━━━━━━━━━━━━━━━\u001b[0m\u001b[37m\u001b[0m \u001b[1m4s\u001b[0m 43ms/step - accuracy: 0.9989 - loss: 0.5745 - val_accuracy: 0.7397 - val_loss: 1.4754 - learning_rate: 2.0000e-05\n",
            "Epoch 74/100\n",
            "\u001b[1m83/83\u001b[0m \u001b[32m━━━━━━━━━━━━━━━━━━━━\u001b[0m\u001b[37m\u001b[0m \u001b[1m5s\u001b[0m 46ms/step - accuracy: 0.9995 - loss: 0.5569 - val_accuracy: 0.7519 - val_loss: 1.4525 - learning_rate: 2.0000e-05\n",
            "Epoch 75/100\n",
            "\u001b[1m83/83\u001b[0m \u001b[32m━━━━━━━━━━━━━━━━━━━━\u001b[0m\u001b[37m\u001b[0m \u001b[1m4s\u001b[0m 44ms/step - accuracy: 0.9987 - loss: 0.5429 - val_accuracy: 0.7397 - val_loss: 1.4430 - learning_rate: 2.0000e-05\n",
            "Epoch 76/100\n",
            "\u001b[1m83/83\u001b[0m \u001b[32m━━━━━━━━━━━━━━━━━━━━\u001b[0m\u001b[37m\u001b[0m \u001b[1m5s\u001b[0m 43ms/step - accuracy: 1.0000 - loss: 0.5312 - val_accuracy: 0.7412 - val_loss: 1.4416 - learning_rate: 4.0000e-06\n",
            "Epoch 77/100\n",
            "\u001b[1m83/83\u001b[0m \u001b[32m━━━━━━━━━━━━━━━━━━━━\u001b[0m\u001b[37m\u001b[0m \u001b[1m4s\u001b[0m 45ms/step - accuracy: 1.0000 - loss: 0.5305 - val_accuracy: 0.7412 - val_loss: 1.4440 - learning_rate: 4.0000e-06\n"
          ]
        }
      ],
      "source": [
        "# Callbacks para early stopping y reducción del learning rate\n",
        "early_stopping = EarlyStopping(monitor='val_loss', patience=5, restore_best_weights=True)\n",
        "reduce_lr = ReduceLROnPlateau(monitor='val_loss', factor=0.2, patience=3, min_lr=1e-6)\n",
        "\n",
        "# 7. Entrenar el modelo\n",
        "history = model.fit(\n",
        "    augmented_balanced_train_ds,\n",
        "    validation_data=validation_ds,\n",
        "    epochs=EPOCHS,\n",
        "    callbacks=[early_stopping, reduce_lr]\n",
        ")\n",
        "\n"
      ]
    },
    {
      "cell_type": "code",
      "execution_count": 35,
      "metadata": {
        "id": "2gWKptPpAE5J"
      },
      "outputs": [],
      "source": [
        "# Guardar el modelo en formato .keras\n",
        "model.save('final_model.keras')"
      ]
    },
    {
      "cell_type": "code",
      "execution_count": 36,
      "metadata": {
        "id": "aUkwV6KWAE5J",
        "outputId": "efa906eb-5277-48c0-ecaf-05cbf125fc6e",
        "colab": {
          "base_uri": "https://localhost:8080/",
          "height": 547
        }
      },
      "outputs": [
        {
          "output_type": "display_data",
          "data": {
            "text/plain": [
              "<Figure size 1600x600 with 2 Axes>"
            ],
            "image/png": "[encoded data removed]"
          },
          "metadata": {}
        }
      ],
      "source": [
        "# Gráfica de la pérdida y precisión\n",
        "metrics = history.history\n",
        "plt.figure(figsize=(16, 6))\n",
        "plt.subplot(1, 2, 1)\n",
        "plt.plot(history.epoch, metrics['loss'], metrics['val_loss'])\n",
        "plt.legend(['training', 'validation'])\n",
        "plt.ylim([0, max(plt.ylim())])\n",
        "plt.ylabel('Loss')\n",
        "plt.xlabel('Epoch')\n",
        "\n",
        "plt.subplot(1, 2, 2)\n",
        "plt.plot(history.epoch, metrics['accuracy'], metrics['val_accuracy'])\n",
        "plt.legend(['training', 'validation'])\n",
        "plt.ylim([0, 1])\n",
        "plt.ylabel('Accuracy')\n",
        "plt.xlabel('Epoch')\n",
        "plt.show()"
      ]
    },
    {
      "cell_type": "code",
      "execution_count": 37,
      "metadata": {
        "id": "BdJ0qrzWAE5J",
        "outputId": "9fb7086d-d99a-4f7c-f310-1c6566f55eed",
        "colab": {
          "base_uri": "https://localhost:8080/"
        }
      },
      "outputs": [
        {
          "output_type": "stream",
          "name": "stdout",
          "text": [
            "\u001b[1m10/10\u001b[0m \u001b[32m━━━━━━━━━━━━━━━━━━━━\u001b[0m\u001b[37m\u001b[0m \u001b[1m0s\u001b[0m 17ms/step - accuracy: 0.7603 - loss: 1.4340\n",
            "Resultados de evaluación en test set:\n",
            "accuracy: 0.7656\n",
            "loss: 1.4180\n"
          ]
        }
      ],
      "source": [
        "# Evaluación en el conjunto de test\n",
        "test_ds = validation_ds.shard(num_shards=2, index=1)\n",
        "test_results = model.evaluate(test_ds, return_dict=True)\n",
        "print(\"Resultados de evaluación en test set:\")\n",
        "for metric, value in test_results.items():\n",
        "    print(f\"{metric}: {value:.4f}\")\n",
        "\n"
      ]
    },
    {
      "cell_type": "code",
      "execution_count": 38,
      "metadata": {
        "id": "77-9ZhivAE5L",
        "outputId": "1368e5d7-1769-465a-9129-44f8305d648b",
        "colab": {
          "base_uri": "https://localhost:8080/",
          "height": 735
        }
      },
      "outputs": [
        {
          "output_type": "stream",
          "name": "stdout",
          "text": [
            "\u001b[1m10/10\u001b[0m \u001b[32m━━━━━━━━━━━━━━━━━━━━\u001b[0m\u001b[37m\u001b[0m \u001b[1m3s\u001b[0m 12ms/step\n"
          ]
        },
        {
          "output_type": "display_data",
          "data": {
            "text/plain": [
              "<Figure size 1000x800 with 2 Axes>"
            ],
            "image/png": "[encoded data removed]"
          },
          "metadata": {}
        }
      ],
      "source": [
        "# Matriz de confusión\n",
        "y_pred = model.predict(test_ds)\n",
        "y_pred_classes = np.argmax(y_pred, axis=1)\n",
        "y_true = np.concatenate([y for x, y in test_ds], axis=0)\n",
        "\n",
        "conf_matrix = tf.math.confusion_matrix(y_true, y_pred_classes)\n",
        "plt.figure(figsize=(10, 8))\n",
        "sns.heatmap(conf_matrix, xticklabels=class_names, yticklabels=class_names, annot=True, fmt='g')\n",
        "plt.xlabel('Prediction')\n",
        "plt.ylabel('Label')\n",
        "plt.title('Matriz de Confusión')\n",
        "plt.show()"
      ]
    },
    {
      "cell_type": "code",
      "execution_count": 39,
      "metadata": {
        "id": "VARqUfWCAE5M",
        "outputId": "c5b90a0f-ceb4-403d-b3a2-2ca77db29271",
        "colab": {
          "base_uri": "https://localhost:8080/"
        }
      },
      "outputs": [
        {
          "output_type": "stream",
          "name": "stdout",
          "text": [
            "Reporte de clasificación:\n",
            "                  precision    recall  f1-score   support\n",
            "\n",
            "Chinche salivosa       0.90      0.75      0.82        75\n",
            "        Clororis       0.83      0.51      0.63        37\n",
            "       Hoja sana       0.77      0.93      0.84        86\n",
            "    Roya naranja       0.86      0.77      0.81       103\n",
            "    Roya purpura       0.28      0.58      0.38        19\n",
            "\n",
            "        accuracy                           0.77       320\n",
            "       macro avg       0.73      0.71      0.70       320\n",
            "    weighted avg       0.81      0.77      0.77       320\n",
            "\n"
          ]
        }
      ],
      "source": [
        "# Reporte de clasificación\n",
        "from sklearn.metrics import classification_report\n",
        "print(\"Reporte de clasificación:\")\n",
        "print(classification_report(y_true, y_pred_classes, target_names=class_names))"
      ]
    }
  ],
  "metadata": {
    "accelerator": "GPU",
    "colab": {
      "gpuType": "T4",
      "provenance": []
    },
    "kaggle": {
      "accelerator": "gpu",
      "dataSources": [
        {
          "datasetId": 4320051,
          "sourceId": 7424766,
          "sourceType": "datasetVersion"
        }
      ],
      "dockerImageVersionId": 30747,
      "isGpuEnabled": true,
      "isInternetEnabled": true,
      "language": "python",
      "sourceType": "notebook"
    },
    "kernelspec": {
      "display_name": "Python 3",
      "name": "python3"
    },
    "language_info": {
      "codemirror_mode": {
        "name": "ipython",
        "version": 3
      },
      "file_extension": ".py",
      "mimetype": "text/x-python",
      "name": "python",
      "nbconvert_exporter": "python",
      "pygments_lexer": "ipython3",
      "version": "3.11.9"
    }
  },
  "nbformat": 4,
  "nbformat_minor": 0
}
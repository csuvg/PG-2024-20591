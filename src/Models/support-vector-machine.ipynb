{
 "cells": [
  {
   "cell_type": "code",
   "execution_count": 1,
   "metadata": {
    "execution": {
     "iopub.execute_input": "2024-08-28T02:15:26.334223Z",
     "iopub.status.busy": "2024-08-28T02:15:26.333301Z",
     "iopub.status.idle": "2024-08-28T02:15:26.339583Z",
     "shell.execute_reply": "2024-08-28T02:15:26.338498Z",
     "shell.execute_reply.started": "2024-08-28T02:15:26.334181Z"
    },
    "trusted": true
   },
   "outputs": [],
   "source": [
    "import tensorflow as tf\n",
    "import numpy as np\n",
    "from sklearn.svm import SVC\n",
    "from sklearn.metrics import classification_report\n",
    "import shap  # SHAP library\n",
    "from sklearn.model_selection import train_test_split"
   ]
  },
  {
   "cell_type": "code",
   "execution_count": 2,
   "metadata": {
    "execution": {
     "iopub.execute_input": "2024-08-28T02:15:26.343221Z",
     "iopub.status.busy": "2024-08-28T02:15:26.342034Z",
     "iopub.status.idle": "2024-08-28T02:15:26.349963Z",
     "shell.execute_reply": "2024-08-28T02:15:26.348977Z",
     "shell.execute_reply.started": "2024-08-28T02:15:26.343168Z"
    },
    "trusted": true
   },
   "outputs": [],
   "source": [
    "# Configuración de hiperparámetros\n",
    "IMAGE_SIZE = (128, 128)\n",
    "BATCH_SIZE = 32\n",
    "# DATASET_DIR = \"arcgis-survey-images\"\n",
    "DATASET_DIR = '../last_data'\n",
    "SEED = 123"
   ]
  },
  {
   "cell_type": "code",
   "execution_count": 3,
   "metadata": {
    "execution": {
     "iopub.execute_input": "2024-08-28T02:15:26.351773Z",
     "iopub.status.busy": "2024-08-28T02:15:26.351381Z",
     "iopub.status.idle": "2024-08-28T02:15:28.025082Z",
     "shell.execute_reply": "2024-08-28T02:15:28.023988Z",
     "shell.execute_reply.started": "2024-08-28T02:15:26.351721Z"
    },
    "trusted": true
   },
   "outputs": [
    {
     "name": "stdout",
     "output_type": "stream",
     "text": [
      "Found 4308 files belonging to 5 classes.\n",
      "Using 3447 files for training.\n",
      "Found 4308 files belonging to 5 classes.\n",
      "Using 861 files for validation.\n"
     ]
    }
   ],
   "source": [
    "# Cargar el conjunto de datos\n",
    "def load_dataset(dataset_dir, image_size, batch_size, validation_split, subset, seed):\n",
    "    return tf.keras.preprocessing.image_dataset_from_directory(\n",
    "        dataset_dir,\n",
    "        labels='inferred',\n",
    "        image_size=image_size,\n",
    "        validation_split=validation_split,\n",
    "        subset=subset,\n",
    "        seed=seed,\n",
    "        batch_size=batch_size\n",
    "    )\n",
    "\n",
    "train_ds = load_dataset(DATASET_DIR, IMAGE_SIZE, BATCH_SIZE, validation_split=0.2, subset='training', seed=SEED)\n",
    "validation_ds = load_dataset(DATASET_DIR, IMAGE_SIZE, BATCH_SIZE, validation_split=0.2, subset='validation', seed=SEED)"
   ]
  },
  {
   "cell_type": "code",
   "execution_count": 4,
   "metadata": {
    "execution": {
     "iopub.execute_input": "2024-08-28T02:15:28.026832Z",
     "iopub.status.busy": "2024-08-28T02:15:28.026494Z",
     "iopub.status.idle": "2024-08-28T02:15:35.752805Z",
     "shell.execute_reply": "2024-08-28T02:15:35.751846Z",
     "shell.execute_reply.started": "2024-08-28T02:15:28.026791Z"
    },
    "trusted": true
   },
   "outputs": [],
   "source": [
    "# Preprocesar los datos\n",
    "def preprocess_dataset(dataset):\n",
    "    X, y = [], []\n",
    "    for images, labels in dataset:\n",
    "        X.append(images.numpy())\n",
    "        y.append(labels.numpy())\n",
    "    X = np.concatenate(X)\n",
    "    y = np.concatenate(y)\n",
    "    return X, y\n",
    "\n",
    "X_train, y_train = preprocess_dataset(train_ds)\n",
    "X_val, y_val = preprocess_dataset(validation_ds)"
   ]
  },
  {
   "cell_type": "code",
   "execution_count": 5,
   "metadata": {
    "execution": {
     "iopub.execute_input": "2024-08-28T02:15:35.755740Z",
     "iopub.status.busy": "2024-08-28T02:15:35.755355Z",
     "iopub.status.idle": "2024-08-28T02:15:35.761481Z",
     "shell.execute_reply": "2024-08-28T02:15:35.760337Z",
     "shell.execute_reply.started": "2024-08-28T02:15:35.755702Z"
    },
    "trusted": true
   },
   "outputs": [],
   "source": [
    "# Aplanar las imágenes para usar con SVM\n",
    "X_train_flat = X_train.reshape(X_train.shape[0], -1)\n",
    "X_val_flat = X_val.reshape(X_val.shape[0], -1)"
   ]
  },
  {
   "cell_type": "code",
   "execution_count": 6,
   "metadata": {
    "execution": {
     "iopub.execute_input": "2024-08-28T02:15:35.763264Z",
     "iopub.status.busy": "2024-08-28T02:15:35.762818Z",
     "iopub.status.idle": "2024-08-28T02:15:35.805807Z",
     "shell.execute_reply": "2024-08-28T02:15:35.804723Z",
     "shell.execute_reply.started": "2024-08-28T02:15:35.763224Z"
    },
    "trusted": true
   },
   "outputs": [],
   "source": [
    "# División adicional del conjunto de validación para crear un conjunto de prueba\n",
    "X_val_flat, X_test_flat, y_val, y_test = train_test_split(X_val_flat, y_val, test_size=0.5, random_state=SEED)"
   ]
  },
  {
   "cell_type": "code",
   "execution_count": null,
   "metadata": {
    "execution": {
     "iopub.execute_input": "2024-08-28T02:15:35.807864Z",
     "iopub.status.busy": "2024-08-28T02:15:35.807388Z",
     "iopub.status.idle": "2024-08-28T02:23:29.653665Z",
     "shell.execute_reply": "2024-08-28T02:23:29.652641Z",
     "shell.execute_reply.started": "2024-08-28T02:15:35.807813Z"
    },
    "trusted": true
   },
   "outputs": [],
   "source": [
    "# Entrenar un SVM\n",
    "svm_model = SVC(kernel='linear', probability=True, random_state=SEED)\n",
    "svm_model.fit(X_train_flat, y_train)"
   ]
  },
  {
   "cell_type": "code",
   "execution_count": 8,
   "metadata": {
    "execution": {
     "iopub.execute_input": "2024-08-28T02:23:29.655581Z",
     "iopub.status.busy": "2024-08-28T02:23:29.655157Z",
     "iopub.status.idle": "2024-08-28T02:23:37.625723Z",
     "shell.execute_reply": "2024-08-28T02:23:37.624732Z",
     "shell.execute_reply.started": "2024-08-28T02:23:29.655526Z"
    },
    "trusted": true
   },
   "outputs": [
    {
     "name": "stdout",
     "output_type": "stream",
     "text": [
      "Reporte de clasificación para el conjunto de validación:\n",
      "              precision    recall  f1-score   support\n",
      "\n",
      "           0       0.44      0.49      0.46        76\n",
      "           1       0.60      0.50      0.55        54\n",
      "           2       0.58      0.66      0.62        79\n",
      "           3       0.61      0.64      0.62       116\n",
      "           4       0.51      0.44      0.47       105\n",
      "\n",
      "    accuracy                           0.55       430\n",
      "   macro avg       0.55      0.54      0.54       430\n",
      "weighted avg       0.55      0.55      0.55       430\n",
      "\n"
     ]
    }
   ],
   "source": [
    "# Evaluar el modelo en el conjunto de validación\n",
    "y_pred_svm_val = svm_model.predict(X_val_flat)\n",
    "print(\"Reporte de clasificación para el conjunto de validación:\")\n",
    "print(classification_report(y_val, y_pred_svm_val))"
   ]
  },
  {
   "cell_type": "code",
   "execution_count": 9,
   "metadata": {
    "execution": {
     "iopub.execute_input": "2024-08-28T02:23:37.634539Z",
     "iopub.status.busy": "2024-08-28T02:23:37.630297Z",
     "iopub.status.idle": "2024-08-28T02:23:45.757385Z",
     "shell.execute_reply": "2024-08-28T02:23:45.756403Z",
     "shell.execute_reply.started": "2024-08-28T02:23:37.634491Z"
    },
    "trusted": true
   },
   "outputs": [
    {
     "name": "stdout",
     "output_type": "stream",
     "text": [
      "Reporte de clasificación para el conjunto de prueba:\n",
      "              precision    recall  f1-score   support\n",
      "\n",
      "           0       0.45      0.56      0.50        79\n",
      "           1       0.65      0.53      0.58        53\n",
      "           2       0.69      0.67      0.68        86\n",
      "           3       0.61      0.70      0.66       118\n",
      "           4       0.48      0.36      0.41        95\n",
      "\n",
      "    accuracy                           0.57       431\n",
      "   macro avg       0.58      0.56      0.57       431\n",
      "weighted avg       0.57      0.57      0.57       431\n",
      "\n"
     ]
    }
   ],
   "source": [
    "# Evaluar el modelo en el conjunto de prueba\n",
    "y_pred_svm_test = svm_model.predict(X_test_flat)\n",
    "print(\"Reporte de clasificación para el conjunto de prueba:\")\n",
    "print(classification_report(y_test, y_pred_svm_test))"
   ]
  },
  {
   "cell_type": "code",
   "execution_count": 10,
   "metadata": {
    "execution": {
     "iopub.execute_input": "2024-08-28T02:23:45.765441Z",
     "iopub.status.busy": "2024-08-28T02:23:45.761515Z"
    },
    "trusted": true
   },
   "outputs": [],
   "source": [
    "# # SHAP para SVM\n",
    "# explainer = shap.KernelExplainer(svm_model.predict_proba, X_train_flat[:100])\n",
    "# shap_values = explainer.shap_values(X_val_flat[:5])"
   ]
  },
  {
   "cell_type": "code",
   "execution_count": 11,
   "metadata": {
    "trusted": true
   },
   "outputs": [],
   "source": [
    "# # Graficar los valores SHAP\n",
    "# shap.summary_plot(shap_values, X_val_flat[:5])"
   ]
  },
  {
   "cell_type": "code",
   "execution_count": 12,
   "metadata": {
    "trusted": true
   },
   "outputs": [],
   "source": [
    "# # Graficar la importancia de las características\n",
    "# plt.figure(figsize=(10, 8))\n",
    "# shap.summary_plot(shap_values, X_val_flat[:5], plot_type=\"bar\")\n",
    "# plt.show()\n"
   ]
  }
 ],
 "metadata": {
  "kaggle": {
   "accelerator": "nvidiaTeslaT4",
   "dataSources": [
    {
     "datasetId": 4320051,
     "sourceId": 7424766,
     "sourceType": "datasetVersion"
    }
   ],
   "dockerImageVersionId": 30762,
   "isGpuEnabled": true,
   "isInternetEnabled": true,
   "language": "python",
   "sourceType": "notebook"
  },
  "kernelspec": {
   "display_name": "Python 3",
   "language": "python",
   "name": "python3"
  },
  "language_info": {
   "codemirror_mode": {
    "name": "ipython",
    "version": 3
   },
   "file_extension": ".py",
   "mimetype": "text/x-python",
   "name": "python",
   "nbconvert_exporter": "python",
   "pygments_lexer": "ipython3",
   "version": "3.11.9"
  }
 },
 "nbformat": 4,
 "nbformat_minor": 4
}

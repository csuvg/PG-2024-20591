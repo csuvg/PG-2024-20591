{
  "nbformat": 4,
  "nbformat_minor": 0,
  "metadata": {
    "colab": {
      "provenance": [],
      "gpuType": "T4"
    },
    "kernelspec": {
      "name": "python3",
      "display_name": "Python 3"
    },
    "language_info": {
      "name": "python"
    },
    "accelerator": "GPU"
  },
  "cells": [
    {
      "cell_type": "code",
      "source": [
        "# Importar bibliotecas necesarias\n",
        "import os\n",
        "import pandas as pd\n",
        "import numpy as np\n",
        "import matplotlib.pyplot as plt\n",
        "import seaborn as sns\n",
        "\n",
        "from sklearn.model_selection import train_test_split\n",
        "from sklearn.metrics import classification_report\n",
        "from sklearn.utils import class_weight\n",
        "\n",
        "import tensorflow as tf\n",
        "from tensorflow.keras.applications import MobileNetV2, ResNet50, EfficientNetB0\n",
        "from tensorflow.keras.callbacks import EarlyStopping, ModelCheckpoint, ReduceLROnPlateau, TensorBoard\n",
        "from tensorflow.keras import regularizers\n",
        "from tensorflow.keras.layers import Concatenate, Input, Dense, Dropout, GlobalAveragePooling2D, BatchNormalization\n",
        "from tensorflow.keras.models import Model"
      ],
      "metadata": {
        "id": "m2wyMWhLZalE"
      },
      "execution_count": 1,
      "outputs": []
    },
    {
      "cell_type": "code",
      "source": [
        "# Definir parámetros de la red y del entrenamiento\n",
        "EPOCHS = 100\n",
        "IMAGE_SIZE = (224, 224)\n",
        "INPUT_SHAPE = (224, 224, 3)\n",
        "SEED = 123\n",
        "BATCH_SIZE = 32\n",
        "BUFFER_SIZE = 1000\n",
        "LEARNING_RATE = 1e-4"
      ],
      "metadata": {
        "id": "pmgHdP8iZbyp"
      },
      "execution_count": 2,
      "outputs": []
    },
    {
      "cell_type": "code",
      "source": [
        "# Montar Google Drive si estás utilizando Colab\n",
        "from google.colab import drive\n",
        "drive.mount('/content/drive')\n",
        "\n",
        "# Directorio de imágenes\n",
        "images_dir = '/content/drive/My Drive/last_data'"
      ],
      "metadata": {
        "id": "jFGs8jHdZcuw",
        "colab": {
          "base_uri": "https://localhost:8080/"
        },
        "outputId": "f5a50644-a383-44c5-8abd-9516efb8eab6"
      },
      "execution_count": 3,
      "outputs": [
        {
          "output_type": "stream",
          "name": "stdout",
          "text": [
            "Mounted at /content/drive\n"
          ]
        }
      ]
    },
    {
      "cell_type": "code",
      "source": [
        "# Obtener las clases y asignar etiquetas numéricas\n",
        "class_names = sorted([d for d in os.listdir(images_dir) if os.path.isdir(os.path.join(images_dir, d))])\n",
        "class_to_label = {class_name: idx for idx, class_name in enumerate(class_names)}\n",
        "\n",
        "print(f\"Clases encontradas: {class_names}\")"
      ],
      "metadata": {
        "id": "-k02IVH1Zdnq",
        "colab": {
          "base_uri": "https://localhost:8080/"
        },
        "outputId": "3e183017-9662-476d-bdae-d453a551b820"
      },
      "execution_count": 4,
      "outputs": [
        {
          "output_type": "stream",
          "name": "stdout",
          "text": [
            "Clases encontradas: ['Chinche salivosa', 'Clororis', 'Hoja sana', 'Roya naranja', 'Roya purpura']\n"
          ]
        }
      ]
    },
    {
      "cell_type": "code",
      "source": [
        "# Crear listas para almacenar rutas y etiquetas\n",
        "image_paths = []\n",
        "labels = []\n",
        "\n",
        "for class_name in class_names:\n",
        "    class_dir = os.path.join(images_dir, class_name)\n",
        "    for fname in os.listdir(class_dir):\n",
        "        if fname.lower().endswith(('.png', '.jpg', '.jpeg', '.bmp', '.gif')):\n",
        "            image_paths.append(os.path.join(class_dir, fname))\n",
        "            labels.append(class_to_label[class_name])\n",
        "\n",
        "# Crear el DataFrame\n",
        "data_df = pd.DataFrame({\n",
        "    'filepath': image_paths,\n",
        "    'label': labels\n",
        "})\n",
        "\n",
        "print(f\"Distribución original de clases:\\n{data_df['label'].value_counts()}\")"
      ],
      "metadata": {
        "id": "y91brtDgZe3y",
        "colab": {
          "base_uri": "https://localhost:8080/"
        },
        "outputId": "c69a2da4-f216-4cef-8797-31acc0dec62c"
      },
      "execution_count": 5,
      "outputs": [
        {
          "output_type": "stream",
          "name": "stdout",
          "text": [
            "Distribución original de clases:\n",
            "label\n",
            "3    1161\n",
            "4     907\n",
            "2     846\n",
            "0     825\n",
            "1     569\n",
            "Name: count, dtype: int64\n"
          ]
        }
      ]
    },
    {
      "cell_type": "code",
      "source": [
        "# Dividir en entrenamiento y validación\n",
        "train_df, val_df = train_test_split(\n",
        "    data_df,\n",
        "    test_size=0.2,\n",
        "    stratify=data_df['label'],\n",
        "    random_state=SEED\n",
        ")\n",
        "\n",
        "print(f\"Distribución de clases en entrenamiento:\\n{train_df['label'].value_counts()}\")\n",
        "print(f\"Distribución de clases en validación:\\n{val_df['label'].value_counts()}\")"
      ],
      "metadata": {
        "id": "Voaa12VmZgEC",
        "colab": {
          "base_uri": "https://localhost:8080/"
        },
        "outputId": "78d9a127-b847-433b-c544-979f3594fef9"
      },
      "execution_count": 6,
      "outputs": [
        {
          "output_type": "stream",
          "name": "stdout",
          "text": [
            "Distribución de clases en entrenamiento:\n",
            "label\n",
            "3    929\n",
            "4    725\n",
            "2    677\n",
            "0    660\n",
            "1    455\n",
            "Name: count, dtype: int64\n",
            "Distribución de clases en validación:\n",
            "label\n",
            "3    232\n",
            "4    182\n",
            "2    169\n",
            "0    165\n",
            "1    114\n",
            "Name: count, dtype: int64\n"
          ]
        }
      ]
    },
    {
      "cell_type": "code",
      "source": [
        "# Calcular los pesos de clase\n",
        "class_weights = class_weight.compute_class_weight(\n",
        "    class_weight='balanced',\n",
        "    classes=np.unique(train_df['label']),\n",
        "    y=train_df['label']\n",
        ")\n",
        "class_weights = dict(enumerate(class_weights))\n",
        "print(f\"Pesos de clase: {class_weights}\")\n"
      ],
      "metadata": {
        "id": "qrrPgjS-Zg7d",
        "colab": {
          "base_uri": "https://localhost:8080/"
        },
        "outputId": "4c0e187f-9219-4763-9517-79f6bae4eede"
      },
      "execution_count": 7,
      "outputs": [
        {
          "output_type": "stream",
          "name": "stdout",
          "text": [
            "Pesos de clase: {0: 1.0442424242424242, 1: 1.5147252747252746, 2: 1.0180206794682423, 3: 0.7418729817007536, 4: 0.9506206896551724}\n"
          ]
        }
      ]
    },
    {
      "cell_type": "code",
      "source": [
        "# Definir data augmentation mejorada\n",
        "data_augmentation = tf.keras.Sequential([\n",
        "    tf.keras.layers.RandomFlip('horizontal_and_vertical'),\n",
        "    tf.keras.layers.RandomRotation(0.2),\n",
        "    tf.keras.layers.RandomZoom(0.2),\n",
        "    tf.keras.layers.RandomContrast(0.2),\n",
        "    tf.keras.layers.RandomBrightness(0.2),\n",
        "])"
      ],
      "metadata": {
        "id": "Lkz2TjaPZiZF"
      },
      "execution_count": 8,
      "outputs": []
    },
    {
      "cell_type": "code",
      "source": [
        "# Función para cargar y preprocesar las imágenes\n",
        "def load_and_preprocess_image(path, label):\n",
        "    image = tf.io.read_file(path)\n",
        "    image = tf.image.decode_image(image, channels=3, expand_animations=False)\n",
        "    image = tf.image.resize(image, IMAGE_SIZE)\n",
        "    image = tf.cast(image, tf.float32)\n",
        "    image = data_augmentation(image)\n",
        "    # Preprocesamiento específico para MobileNetV2\n",
        "    image = tf.keras.applications.mobilenet_v2.preprocess_input(image)\n",
        "    return image, label\n",
        "\n",
        "# Función para extraer rutas y etiquetas del DataFrame\n",
        "def path_to_image_label(df):\n",
        "    return df['filepath'].values, df['label'].values\n"
      ],
      "metadata": {
        "id": "Kt3BkPs2Zj53"
      },
      "execution_count": 9,
      "outputs": []
    },
    {
      "cell_type": "code",
      "source": [
        "# Extraer rutas y etiquetas\n",
        "train_paths, train_labels = path_to_image_label(train_df)\n",
        "val_paths, val_labels = path_to_image_label(val_df)\n",
        "\n",
        "# Crear TensorFlow Datasets\n",
        "train_ds = tf.data.Dataset.from_tensor_slices((train_paths, train_labels))\n",
        "val_ds = tf.data.Dataset.from_tensor_slices((val_paths, val_labels))\n",
        "\n",
        "# Aplicar la función de preprocesamiento\n",
        "train_ds = train_ds.map(load_and_preprocess_image, num_parallel_calls=tf.data.AUTOTUNE)\n",
        "train_ds = train_ds.shuffle(BUFFER_SIZE).batch(BATCH_SIZE).prefetch(buffer_size=tf.data.AUTOTUNE)\n",
        "\n",
        "val_ds = val_ds.map(load_and_preprocess_image, num_parallel_calls=tf.data.AUTOTUNE)\n",
        "val_ds = val_ds.batch(BATCH_SIZE).prefetch(buffer_size=tf.data.AUTOTUNE)\n"
      ],
      "metadata": {
        "id": "ELUtO_2QZlLX"
      },
      "execution_count": 10,
      "outputs": []
    },
    {
      "cell_type": "code",
      "source": [
        "# Definir las entradas del modelo\n",
        "inputs = Input(shape=INPUT_SHAPE)\n"
      ],
      "metadata": {
        "id": "oecKWCh2ZmNP"
      },
      "execution_count": 11,
      "outputs": []
    },
    {
      "cell_type": "code",
      "source": [
        "# Modelos base con fine-tuning\n",
        "# Modelo base 1: MobileNetV2\n",
        "base_model_mobilenet = MobileNetV2(input_shape=INPUT_SHAPE, include_top=False, weights='imagenet')\n",
        "base_model_mobilenet.trainable = True  # Permitir fine-tuning\n",
        "# Descongelar las últimas 20 capas\n",
        "for layer in base_model_mobilenet.layers[:-20]:\n",
        "    layer.trainable = False\n",
        "\n",
        "x1 = base_model_mobilenet(inputs)\n",
        "x1 = GlobalAveragePooling2D()(x1)\n",
        "x1 = BatchNormalization()(x1)"
      ],
      "metadata": {
        "id": "yc_4AjbtZoX3",
        "colab": {
          "base_uri": "https://localhost:8080/"
        },
        "outputId": "e6d9e092-725c-41a1-eb44-cc16e760f6f2"
      },
      "execution_count": 12,
      "outputs": [
        {
          "output_type": "stream",
          "name": "stdout",
          "text": [
            "Downloading data from https://storage.googleapis.com/tensorflow/keras-applications/mobilenet_v2/mobilenet_v2_weights_tf_dim_ordering_tf_kernels_1.0_224_no_top.h5\n",
            "\u001b[1m9406464/9406464\u001b[0m \u001b[32m━━━━━━━━━━━━━━━━━━━━\u001b[0m\u001b[37m\u001b[0m \u001b[1m0s\u001b[0m 0us/step\n"
          ]
        }
      ]
    },
    {
      "cell_type": "code",
      "source": [
        "# Modelo base 2: ResNet50\n",
        "base_model_resnet = ResNet50(input_shape=INPUT_SHAPE, include_top=False, weights='imagenet')\n",
        "base_model_resnet.trainable = True\n",
        "for layer in base_model_resnet.layers[:-20]:\n",
        "    layer.trainable = False\n",
        "\n",
        "x2 = base_model_resnet(inputs)\n",
        "x2 = GlobalAveragePooling2D()(x2)\n",
        "x2 = BatchNormalization()(x2)"
      ],
      "metadata": {
        "id": "q7I0SV5IZpXg",
        "colab": {
          "base_uri": "https://localhost:8080/"
        },
        "outputId": "4d817142-3e0e-4dbb-9b90-dee530bb176a"
      },
      "execution_count": 13,
      "outputs": [
        {
          "output_type": "stream",
          "name": "stdout",
          "text": [
            "Downloading data from https://storage.googleapis.com/tensorflow/keras-applications/resnet/resnet50_weights_tf_dim_ordering_tf_kernels_notop.h5\n",
            "\u001b[1m94765736/94765736\u001b[0m \u001b[32m━━━━━━━━━━━━━━━━━━━━\u001b[0m\u001b[37m\u001b[0m \u001b[1m1s\u001b[0m 0us/step\n"
          ]
        }
      ]
    },
    {
      "cell_type": "code",
      "source": [
        "# Modelo base 3: EfficientNetB0\n",
        "base_model_efficientnet = EfficientNetB0(input_shape=INPUT_SHAPE, include_top=False, weights='imagenet')\n",
        "base_model_efficientnet.trainable = True\n",
        "for layer in base_model_efficientnet.layers[:-20]:\n",
        "    layer.trainable = False\n",
        "\n",
        "x3 = base_model_efficientnet(inputs)\n",
        "x3 = GlobalAveragePooling2D()(x3)\n",
        "x3 = BatchNormalization()(x3)\n"
      ],
      "metadata": {
        "id": "UeM9shJLZqih",
        "colab": {
          "base_uri": "https://localhost:8080/"
        },
        "outputId": "60ca42c5-d0fd-4992-e373-82dfbc841de9"
      },
      "execution_count": 14,
      "outputs": [
        {
          "output_type": "stream",
          "name": "stdout",
          "text": [
            "Downloading data from https://storage.googleapis.com/keras-applications/efficientnetb0_notop.h5\n",
            "\u001b[1m16705208/16705208\u001b[0m \u001b[32m━━━━━━━━━━━━━━━━━━━━\u001b[0m\u001b[37m\u001b[0m \u001b[1m0s\u001b[0m 0us/step\n"
          ]
        }
      ]
    },
    {
      "cell_type": "code",
      "source": [
        "# Concatenar las salidas de los tres modelos\n",
        "combined = Concatenate()([x1, x2, x3])\n"
      ],
      "metadata": {
        "id": "pN9hmBQnZrwi"
      },
      "execution_count": 15,
      "outputs": []
    },
    {
      "cell_type": "code",
      "source": [
        "# Agregar capas densas adicionales con regularización y dropout\n",
        "x = Dense(256, activation='relu', kernel_regularizer=regularizers.l2(0.01))(combined)\n",
        "x = BatchNormalization()(x)\n",
        "x = Dropout(0.5)(x)\n",
        "x = Dense(128, activation='relu', kernel_regularizer=regularizers.l2(0.01))(x)\n",
        "x = BatchNormalization()(x)\n",
        "x = Dropout(0.5)(x)\n",
        "outputs = Dense(len(class_names), activation='softmax')(x)\n"
      ],
      "metadata": {
        "id": "ap19H4pCZsxK"
      },
      "execution_count": 16,
      "outputs": []
    },
    {
      "cell_type": "code",
      "source": [
        "# Crear el modelo final\n",
        "ensemble_model = Model(inputs=inputs, outputs=outputs)\n",
        "\n",
        "# Compilar el modelo con un learning rate reducido\n",
        "ensemble_model.compile(optimizer=tf.keras.optimizers.Adam(learning_rate=LEARNING_RATE),\n",
        "                       loss=tf.keras.losses.SparseCategoricalCrossentropy(),\n",
        "                       metrics=['accuracy'])\n"
      ],
      "metadata": {
        "id": "ZKoWQziJZt_z"
      },
      "execution_count": 17,
      "outputs": []
    },
    {
      "cell_type": "code",
      "source": [
        "# Resumen del modelo\n",
        "ensemble_model.summary()"
      ],
      "metadata": {
        "id": "N7WvBGV9Zvyt",
        "colab": {
          "base_uri": "https://localhost:8080/",
          "height": 969
        },
        "outputId": "a35545e4-4eb6-4486-e2ea-433db6e7303e"
      },
      "execution_count": 18,
      "outputs": [
        {
          "output_type": "display_data",
          "data": {
            "text/plain": [
              "\u001b[1mModel: \"functional_1\"\u001b[0m\n"
            ],
            "text/html": [
              "<pre style=\"white-space:pre;overflow-x:auto;line-height:normal;font-family:Menlo,'DejaVu Sans Mono',consolas,'Courier New',monospace\"><span style=\"font-weight: bold\">Model: \"functional_1\"</span>\n",
              "</pre>\n"
            ]
          },
          "metadata": {}
        },
        {
          "output_type": "display_data",
          "data": {
            "text/plain": [
              "┏━━━━━━━━━━━━━━━━━━━━━━━━━━━┳━━━━━━━━━━━━━━━━━━━━━━━━┳━━━━━━━━━━━━━━━━┳━━━━━━━━━━━━━━━━━━━━━━━━┓\n",
              "┃\u001b[1m \u001b[0m\u001b[1mLayer (type)             \u001b[0m\u001b[1m \u001b[0m┃\u001b[1m \u001b[0m\u001b[1mOutput Shape          \u001b[0m\u001b[1m \u001b[0m┃\u001b[1m \u001b[0m\u001b[1m       Param #\u001b[0m\u001b[1m \u001b[0m┃\u001b[1m \u001b[0m\u001b[1mConnected to          \u001b[0m\u001b[1m \u001b[0m┃\n",
              "┡━━━━━━━━━━━━━━━━━━━━━━━━━━━╇━━━━━━━━━━━━━━━━━━━━━━━━╇━━━━━━━━━━━━━━━━╇━━━━━━━━━━━━━━━━━━━━━━━━┩\n",
              "│ input_layer_1             │ (\u001b[38;5;45mNone\u001b[0m, \u001b[38;5;34m224\u001b[0m, \u001b[38;5;34m224\u001b[0m, \u001b[38;5;34m3\u001b[0m)    │              \u001b[38;5;34m0\u001b[0m │ -                      │\n",
              "│ (\u001b[38;5;33mInputLayer\u001b[0m)              │                        │                │                        │\n",
              "├───────────────────────────┼────────────────────────┼────────────────┼────────────────────────┤\n",
              "│ mobilenetv2_1.00_224      │ (\u001b[38;5;45mNone\u001b[0m, \u001b[38;5;34m7\u001b[0m, \u001b[38;5;34m7\u001b[0m, \u001b[38;5;34m1280\u001b[0m)     │      \u001b[38;5;34m2,257,984\u001b[0m │ input_layer_1[\u001b[38;5;34m0\u001b[0m][\u001b[38;5;34m0\u001b[0m]    │\n",
              "│ (\u001b[38;5;33mFunctional\u001b[0m)              │                        │                │                        │\n",
              "├───────────────────────────┼────────────────────────┼────────────────┼────────────────────────┤\n",
              "│ resnet50 (\u001b[38;5;33mFunctional\u001b[0m)     │ (\u001b[38;5;45mNone\u001b[0m, \u001b[38;5;34m7\u001b[0m, \u001b[38;5;34m7\u001b[0m, \u001b[38;5;34m2048\u001b[0m)     │     \u001b[38;5;34m23,587,712\u001b[0m │ input_layer_1[\u001b[38;5;34m0\u001b[0m][\u001b[38;5;34m0\u001b[0m]    │\n",
              "├───────────────────────────┼────────────────────────┼────────────────┼────────────────────────┤\n",
              "│ efficientnetb0            │ (\u001b[38;5;45mNone\u001b[0m, \u001b[38;5;34m7\u001b[0m, \u001b[38;5;34m7\u001b[0m, \u001b[38;5;34m1280\u001b[0m)     │      \u001b[38;5;34m4,049,571\u001b[0m │ input_layer_1[\u001b[38;5;34m0\u001b[0m][\u001b[38;5;34m0\u001b[0m]    │\n",
              "│ (\u001b[38;5;33mFunctional\u001b[0m)              │                        │                │                        │\n",
              "├───────────────────────────┼────────────────────────┼────────────────┼────────────────────────┤\n",
              "│ global_average_pooling2d  │ (\u001b[38;5;45mNone\u001b[0m, \u001b[38;5;34m1280\u001b[0m)           │              \u001b[38;5;34m0\u001b[0m │ mobilenetv2_1.00_224[\u001b[38;5;34m…\u001b[0m │\n",
              "│ (\u001b[38;5;33mGlobalAveragePooling2D\u001b[0m)  │                        │                │                        │\n",
              "├───────────────────────────┼────────────────────────┼────────────────┼────────────────────────┤\n",
              "│ global_average_pooling2d… │ (\u001b[38;5;45mNone\u001b[0m, \u001b[38;5;34m2048\u001b[0m)           │              \u001b[38;5;34m0\u001b[0m │ resnet50[\u001b[38;5;34m0\u001b[0m][\u001b[38;5;34m0\u001b[0m]         │\n",
              "│ (\u001b[38;5;33mGlobalAveragePooling2D\u001b[0m)  │                        │                │                        │\n",
              "├───────────────────────────┼────────────────────────┼────────────────┼────────────────────────┤\n",
              "│ global_average_pooling2d… │ (\u001b[38;5;45mNone\u001b[0m, \u001b[38;5;34m1280\u001b[0m)           │              \u001b[38;5;34m0\u001b[0m │ efficientnetb0[\u001b[38;5;34m0\u001b[0m][\u001b[38;5;34m0\u001b[0m]   │\n",
              "│ (\u001b[38;5;33mGlobalAveragePooling2D\u001b[0m)  │                        │                │                        │\n",
              "├───────────────────────────┼────────────────────────┼────────────────┼────────────────────────┤\n",
              "│ batch_normalization       │ (\u001b[38;5;45mNone\u001b[0m, \u001b[38;5;34m1280\u001b[0m)           │          \u001b[38;5;34m5,120\u001b[0m │ global_average_poolin… │\n",
              "│ (\u001b[38;5;33mBatchNormalization\u001b[0m)      │                        │                │                        │\n",
              "├───────────────────────────┼────────────────────────┼────────────────┼────────────────────────┤\n",
              "│ batch_normalization_1     │ (\u001b[38;5;45mNone\u001b[0m, \u001b[38;5;34m2048\u001b[0m)           │          \u001b[38;5;34m8,192\u001b[0m │ global_average_poolin… │\n",
              "│ (\u001b[38;5;33mBatchNormalization\u001b[0m)      │                        │                │                        │\n",
              "├───────────────────────────┼────────────────────────┼────────────────┼────────────────────────┤\n",
              "│ batch_normalization_2     │ (\u001b[38;5;45mNone\u001b[0m, \u001b[38;5;34m1280\u001b[0m)           │          \u001b[38;5;34m5,120\u001b[0m │ global_average_poolin… │\n",
              "│ (\u001b[38;5;33mBatchNormalization\u001b[0m)      │                        │                │                        │\n",
              "├───────────────────────────┼────────────────────────┼────────────────┼────────────────────────┤\n",
              "│ concatenate (\u001b[38;5;33mConcatenate\u001b[0m) │ (\u001b[38;5;45mNone\u001b[0m, \u001b[38;5;34m4608\u001b[0m)           │              \u001b[38;5;34m0\u001b[0m │ batch_normalization[\u001b[38;5;34m0\u001b[0m… │\n",
              "│                           │                        │                │ batch_normalization_1… │\n",
              "│                           │                        │                │ batch_normalization_2… │\n",
              "├───────────────────────────┼────────────────────────┼────────────────┼────────────────────────┤\n",
              "│ dense (\u001b[38;5;33mDense\u001b[0m)             │ (\u001b[38;5;45mNone\u001b[0m, \u001b[38;5;34m256\u001b[0m)            │      \u001b[38;5;34m1,179,904\u001b[0m │ concatenate[\u001b[38;5;34m0\u001b[0m][\u001b[38;5;34m0\u001b[0m]      │\n",
              "├───────────────────────────┼────────────────────────┼────────────────┼────────────────────────┤\n",
              "│ batch_normalization_3     │ (\u001b[38;5;45mNone\u001b[0m, \u001b[38;5;34m256\u001b[0m)            │          \u001b[38;5;34m1,024\u001b[0m │ dense[\u001b[38;5;34m0\u001b[0m][\u001b[38;5;34m0\u001b[0m]            │\n",
              "│ (\u001b[38;5;33mBatchNormalization\u001b[0m)      │                        │                │                        │\n",
              "├───────────────────────────┼────────────────────────┼────────────────┼────────────────────────┤\n",
              "│ dropout (\u001b[38;5;33mDropout\u001b[0m)         │ (\u001b[38;5;45mNone\u001b[0m, \u001b[38;5;34m256\u001b[0m)            │              \u001b[38;5;34m0\u001b[0m │ batch_normalization_3… │\n",
              "├───────────────────────────┼────────────────────────┼────────────────┼────────────────────────┤\n",
              "│ dense_1 (\u001b[38;5;33mDense\u001b[0m)           │ (\u001b[38;5;45mNone\u001b[0m, \u001b[38;5;34m128\u001b[0m)            │         \u001b[38;5;34m32,896\u001b[0m │ dropout[\u001b[38;5;34m0\u001b[0m][\u001b[38;5;34m0\u001b[0m]          │\n",
              "├───────────────────────────┼────────────────────────┼────────────────┼────────────────────────┤\n",
              "│ batch_normalization_4     │ (\u001b[38;5;45mNone\u001b[0m, \u001b[38;5;34m128\u001b[0m)            │            \u001b[38;5;34m512\u001b[0m │ dense_1[\u001b[38;5;34m0\u001b[0m][\u001b[38;5;34m0\u001b[0m]          │\n",
              "│ (\u001b[38;5;33mBatchNormalization\u001b[0m)      │                        │                │                        │\n",
              "├───────────────────────────┼────────────────────────┼────────────────┼────────────────────────┤\n",
              "│ dropout_1 (\u001b[38;5;33mDropout\u001b[0m)       │ (\u001b[38;5;45mNone\u001b[0m, \u001b[38;5;34m128\u001b[0m)            │              \u001b[38;5;34m0\u001b[0m │ batch_normalization_4… │\n",
              "├───────────────────────────┼────────────────────────┼────────────────┼────────────────────────┤\n",
              "│ dense_2 (\u001b[38;5;33mDense\u001b[0m)           │ (\u001b[38;5;45mNone\u001b[0m, \u001b[38;5;34m5\u001b[0m)              │            \u001b[38;5;34m645\u001b[0m │ dropout_1[\u001b[38;5;34m0\u001b[0m][\u001b[38;5;34m0\u001b[0m]        │\n",
              "└───────────────────────────┴────────────────────────┴────────────────┴────────────────────────┘\n"
            ],
            "text/html": [
              "<pre style=\"white-space:pre;overflow-x:auto;line-height:normal;font-family:Menlo,'DejaVu Sans Mono',consolas,'Courier New',monospace\">┏━━━━━━━━━━━━━━━━━━━━━━━━━━━┳━━━━━━━━━━━━━━━━━━━━━━━━┳━━━━━━━━━━━━━━━━┳━━━━━━━━━━━━━━━━━━━━━━━━┓\n",
              "┃<span style=\"font-weight: bold\"> Layer (type)              </span>┃<span style=\"font-weight: bold\"> Output Shape           </span>┃<span style=\"font-weight: bold\">        Param # </span>┃<span style=\"font-weight: bold\"> Connected to           </span>┃\n",
              "┡━━━━━━━━━━━━━━━━━━━━━━━━━━━╇━━━━━━━━━━━━━━━━━━━━━━━━╇━━━━━━━━━━━━━━━━╇━━━━━━━━━━━━━━━━━━━━━━━━┩\n",
              "│ input_layer_1             │ (<span style=\"color: #00d7ff; text-decoration-color: #00d7ff\">None</span>, <span style=\"color: #00af00; text-decoration-color: #00af00\">224</span>, <span style=\"color: #00af00; text-decoration-color: #00af00\">224</span>, <span style=\"color: #00af00; text-decoration-color: #00af00\">3</span>)    │              <span style=\"color: #00af00; text-decoration-color: #00af00\">0</span> │ -                      │\n",
              "│ (<span style=\"color: #0087ff; text-decoration-color: #0087ff\">InputLayer</span>)              │                        │                │                        │\n",
              "├───────────────────────────┼────────────────────────┼────────────────┼────────────────────────┤\n",
              "│ mobilenetv2_1.00_224      │ (<span style=\"color: #00d7ff; text-decoration-color: #00d7ff\">None</span>, <span style=\"color: #00af00; text-decoration-color: #00af00\">7</span>, <span style=\"color: #00af00; text-decoration-color: #00af00\">7</span>, <span style=\"color: #00af00; text-decoration-color: #00af00\">1280</span>)     │      <span style=\"color: #00af00; text-decoration-color: #00af00\">2,257,984</span> │ input_layer_1[<span style=\"color: #00af00; text-decoration-color: #00af00\">0</span>][<span style=\"color: #00af00; text-decoration-color: #00af00\">0</span>]    │\n",
              "│ (<span style=\"color: #0087ff; text-decoration-color: #0087ff\">Functional</span>)              │                        │                │                        │\n",
              "├───────────────────────────┼────────────────────────┼────────────────┼────────────────────────┤\n",
              "│ resnet50 (<span style=\"color: #0087ff; text-decoration-color: #0087ff\">Functional</span>)     │ (<span style=\"color: #00d7ff; text-decoration-color: #00d7ff\">None</span>, <span style=\"color: #00af00; text-decoration-color: #00af00\">7</span>, <span style=\"color: #00af00; text-decoration-color: #00af00\">7</span>, <span style=\"color: #00af00; text-decoration-color: #00af00\">2048</span>)     │     <span style=\"color: #00af00; text-decoration-color: #00af00\">23,587,712</span> │ input_layer_1[<span style=\"color: #00af00; text-decoration-color: #00af00\">0</span>][<span style=\"color: #00af00; text-decoration-color: #00af00\">0</span>]    │\n",
              "├───────────────────────────┼────────────────────────┼────────────────┼────────────────────────┤\n",
              "│ efficientnetb0            │ (<span style=\"color: #00d7ff; text-decoration-color: #00d7ff\">None</span>, <span style=\"color: #00af00; text-decoration-color: #00af00\">7</span>, <span style=\"color: #00af00; text-decoration-color: #00af00\">7</span>, <span style=\"color: #00af00; text-decoration-color: #00af00\">1280</span>)     │      <span style=\"color: #00af00; text-decoration-color: #00af00\">4,049,571</span> │ input_layer_1[<span style=\"color: #00af00; text-decoration-color: #00af00\">0</span>][<span style=\"color: #00af00; text-decoration-color: #00af00\">0</span>]    │\n",
              "│ (<span style=\"color: #0087ff; text-decoration-color: #0087ff\">Functional</span>)              │                        │                │                        │\n",
              "├───────────────────────────┼────────────────────────┼────────────────┼────────────────────────┤\n",
              "│ global_average_pooling2d  │ (<span style=\"color: #00d7ff; text-decoration-color: #00d7ff\">None</span>, <span style=\"color: #00af00; text-decoration-color: #00af00\">1280</span>)           │              <span style=\"color: #00af00; text-decoration-color: #00af00\">0</span> │ mobilenetv2_1.00_224[<span style=\"color: #00af00; text-decoration-color: #00af00\">…</span> │\n",
              "│ (<span style=\"color: #0087ff; text-decoration-color: #0087ff\">GlobalAveragePooling2D</span>)  │                        │                │                        │\n",
              "├───────────────────────────┼────────────────────────┼────────────────┼────────────────────────┤\n",
              "│ global_average_pooling2d… │ (<span style=\"color: #00d7ff; text-decoration-color: #00d7ff\">None</span>, <span style=\"color: #00af00; text-decoration-color: #00af00\">2048</span>)           │              <span style=\"color: #00af00; text-decoration-color: #00af00\">0</span> │ resnet50[<span style=\"color: #00af00; text-decoration-color: #00af00\">0</span>][<span style=\"color: #00af00; text-decoration-color: #00af00\">0</span>]         │\n",
              "│ (<span style=\"color: #0087ff; text-decoration-color: #0087ff\">GlobalAveragePooling2D</span>)  │                        │                │                        │\n",
              "├───────────────────────────┼────────────────────────┼────────────────┼────────────────────────┤\n",
              "│ global_average_pooling2d… │ (<span style=\"color: #00d7ff; text-decoration-color: #00d7ff\">None</span>, <span style=\"color: #00af00; text-decoration-color: #00af00\">1280</span>)           │              <span style=\"color: #00af00; text-decoration-color: #00af00\">0</span> │ efficientnetb0[<span style=\"color: #00af00; text-decoration-color: #00af00\">0</span>][<span style=\"color: #00af00; text-decoration-color: #00af00\">0</span>]   │\n",
              "│ (<span style=\"color: #0087ff; text-decoration-color: #0087ff\">GlobalAveragePooling2D</span>)  │                        │                │                        │\n",
              "├───────────────────────────┼────────────────────────┼────────────────┼────────────────────────┤\n",
              "│ batch_normalization       │ (<span style=\"color: #00d7ff; text-decoration-color: #00d7ff\">None</span>, <span style=\"color: #00af00; text-decoration-color: #00af00\">1280</span>)           │          <span style=\"color: #00af00; text-decoration-color: #00af00\">5,120</span> │ global_average_poolin… │\n",
              "│ (<span style=\"color: #0087ff; text-decoration-color: #0087ff\">BatchNormalization</span>)      │                        │                │                        │\n",
              "├───────────────────────────┼────────────────────────┼────────────────┼────────────────────────┤\n",
              "│ batch_normalization_1     │ (<span style=\"color: #00d7ff; text-decoration-color: #00d7ff\">None</span>, <span style=\"color: #00af00; text-decoration-color: #00af00\">2048</span>)           │          <span style=\"color: #00af00; text-decoration-color: #00af00\">8,192</span> │ global_average_poolin… │\n",
              "│ (<span style=\"color: #0087ff; text-decoration-color: #0087ff\">BatchNormalization</span>)      │                        │                │                        │\n",
              "├───────────────────────────┼────────────────────────┼────────────────┼────────────────────────┤\n",
              "│ batch_normalization_2     │ (<span style=\"color: #00d7ff; text-decoration-color: #00d7ff\">None</span>, <span style=\"color: #00af00; text-decoration-color: #00af00\">1280</span>)           │          <span style=\"color: #00af00; text-decoration-color: #00af00\">5,120</span> │ global_average_poolin… │\n",
              "│ (<span style=\"color: #0087ff; text-decoration-color: #0087ff\">BatchNormalization</span>)      │                        │                │                        │\n",
              "├───────────────────────────┼────────────────────────┼────────────────┼────────────────────────┤\n",
              "│ concatenate (<span style=\"color: #0087ff; text-decoration-color: #0087ff\">Concatenate</span>) │ (<span style=\"color: #00d7ff; text-decoration-color: #00d7ff\">None</span>, <span style=\"color: #00af00; text-decoration-color: #00af00\">4608</span>)           │              <span style=\"color: #00af00; text-decoration-color: #00af00\">0</span> │ batch_normalization[<span style=\"color: #00af00; text-decoration-color: #00af00\">0</span>… │\n",
              "│                           │                        │                │ batch_normalization_1… │\n",
              "│                           │                        │                │ batch_normalization_2… │\n",
              "├───────────────────────────┼────────────────────────┼────────────────┼────────────────────────┤\n",
              "│ dense (<span style=\"color: #0087ff; text-decoration-color: #0087ff\">Dense</span>)             │ (<span style=\"color: #00d7ff; text-decoration-color: #00d7ff\">None</span>, <span style=\"color: #00af00; text-decoration-color: #00af00\">256</span>)            │      <span style=\"color: #00af00; text-decoration-color: #00af00\">1,179,904</span> │ concatenate[<span style=\"color: #00af00; text-decoration-color: #00af00\">0</span>][<span style=\"color: #00af00; text-decoration-color: #00af00\">0</span>]      │\n",
              "├───────────────────────────┼────────────────────────┼────────────────┼────────────────────────┤\n",
              "│ batch_normalization_3     │ (<span style=\"color: #00d7ff; text-decoration-color: #00d7ff\">None</span>, <span style=\"color: #00af00; text-decoration-color: #00af00\">256</span>)            │          <span style=\"color: #00af00; text-decoration-color: #00af00\">1,024</span> │ dense[<span style=\"color: #00af00; text-decoration-color: #00af00\">0</span>][<span style=\"color: #00af00; text-decoration-color: #00af00\">0</span>]            │\n",
              "│ (<span style=\"color: #0087ff; text-decoration-color: #0087ff\">BatchNormalization</span>)      │                        │                │                        │\n",
              "├───────────────────────────┼────────────────────────┼────────────────┼────────────────────────┤\n",
              "│ dropout (<span style=\"color: #0087ff; text-decoration-color: #0087ff\">Dropout</span>)         │ (<span style=\"color: #00d7ff; text-decoration-color: #00d7ff\">None</span>, <span style=\"color: #00af00; text-decoration-color: #00af00\">256</span>)            │              <span style=\"color: #00af00; text-decoration-color: #00af00\">0</span> │ batch_normalization_3… │\n",
              "├───────────────────────────┼────────────────────────┼────────────────┼────────────────────────┤\n",
              "│ dense_1 (<span style=\"color: #0087ff; text-decoration-color: #0087ff\">Dense</span>)           │ (<span style=\"color: #00d7ff; text-decoration-color: #00d7ff\">None</span>, <span style=\"color: #00af00; text-decoration-color: #00af00\">128</span>)            │         <span style=\"color: #00af00; text-decoration-color: #00af00\">32,896</span> │ dropout[<span style=\"color: #00af00; text-decoration-color: #00af00\">0</span>][<span style=\"color: #00af00; text-decoration-color: #00af00\">0</span>]          │\n",
              "├───────────────────────────┼────────────────────────┼────────────────┼────────────────────────┤\n",
              "│ batch_normalization_4     │ (<span style=\"color: #00d7ff; text-decoration-color: #00d7ff\">None</span>, <span style=\"color: #00af00; text-decoration-color: #00af00\">128</span>)            │            <span style=\"color: #00af00; text-decoration-color: #00af00\">512</span> │ dense_1[<span style=\"color: #00af00; text-decoration-color: #00af00\">0</span>][<span style=\"color: #00af00; text-decoration-color: #00af00\">0</span>]          │\n",
              "│ (<span style=\"color: #0087ff; text-decoration-color: #0087ff\">BatchNormalization</span>)      │                        │                │                        │\n",
              "├───────────────────────────┼────────────────────────┼────────────────┼────────────────────────┤\n",
              "│ dropout_1 (<span style=\"color: #0087ff; text-decoration-color: #0087ff\">Dropout</span>)       │ (<span style=\"color: #00d7ff; text-decoration-color: #00d7ff\">None</span>, <span style=\"color: #00af00; text-decoration-color: #00af00\">128</span>)            │              <span style=\"color: #00af00; text-decoration-color: #00af00\">0</span> │ batch_normalization_4… │\n",
              "├───────────────────────────┼────────────────────────┼────────────────┼────────────────────────┤\n",
              "│ dense_2 (<span style=\"color: #0087ff; text-decoration-color: #0087ff\">Dense</span>)           │ (<span style=\"color: #00d7ff; text-decoration-color: #00d7ff\">None</span>, <span style=\"color: #00af00; text-decoration-color: #00af00\">5</span>)              │            <span style=\"color: #00af00; text-decoration-color: #00af00\">645</span> │ dropout_1[<span style=\"color: #00af00; text-decoration-color: #00af00\">0</span>][<span style=\"color: #00af00; text-decoration-color: #00af00\">0</span>]        │\n",
              "└───────────────────────────┴────────────────────────┴────────────────┴────────────────────────┘\n",
              "</pre>\n"
            ]
          },
          "metadata": {}
        },
        {
          "output_type": "display_data",
          "data": {
            "text/plain": [
              "\u001b[1m Total params: \u001b[0m\u001b[38;5;34m31,128,680\u001b[0m (118.75 MB)\n"
            ],
            "text/html": [
              "<pre style=\"white-space:pre;overflow-x:auto;line-height:normal;font-family:Menlo,'DejaVu Sans Mono',consolas,'Courier New',monospace\"><span style=\"font-weight: bold\"> Total params: </span><span style=\"color: #00af00; text-decoration-color: #00af00\">31,128,680</span> (118.75 MB)\n",
              "</pre>\n"
            ]
          },
          "metadata": {}
        },
        {
          "output_type": "display_data",
          "data": {
            "text/plain": [
              "\u001b[1m Trainable params: \u001b[0m\u001b[38;5;34m12,711,797\u001b[0m (48.49 MB)\n"
            ],
            "text/html": [
              "<pre style=\"white-space:pre;overflow-x:auto;line-height:normal;font-family:Menlo,'DejaVu Sans Mono',consolas,'Courier New',monospace\"><span style=\"font-weight: bold\"> Trainable params: </span><span style=\"color: #00af00; text-decoration-color: #00af00\">12,711,797</span> (48.49 MB)\n",
              "</pre>\n"
            ]
          },
          "metadata": {}
        },
        {
          "output_type": "display_data",
          "data": {
            "text/plain": [
              "\u001b[1m Non-trainable params: \u001b[0m\u001b[38;5;34m18,416,883\u001b[0m (70.25 MB)\n"
            ],
            "text/html": [
              "<pre style=\"white-space:pre;overflow-x:auto;line-height:normal;font-family:Menlo,'DejaVu Sans Mono',consolas,'Courier New',monospace\"><span style=\"font-weight: bold\"> Non-trainable params: </span><span style=\"color: #00af00; text-decoration-color: #00af00\">18,416,883</span> (70.25 MB)\n",
              "</pre>\n"
            ]
          },
          "metadata": {}
        }
      ]
    },
    {
      "cell_type": "code",
      "source": [
        "# Definir callbacks\n",
        "early_stop = EarlyStopping(monitor='val_loss',\n",
        "                           patience=10,\n",
        "                           restore_best_weights=True)\n",
        "\n",
        "checkpoint_path = 'best_ensemble_model.keras'\n",
        "model_checkpoint = ModelCheckpoint(filepath=checkpoint_path,\n",
        "                                   monitor='val_loss',\n",
        "                                   save_best_only=True,\n",
        "                                   verbose=1)\n",
        "\n",
        "reduce_lr = ReduceLROnPlateau(monitor='val_loss',\n",
        "                              factor=0.5,\n",
        "                              patience=5,\n",
        "                              min_lr=1e-6,\n",
        "                              verbose=1)\n",
        "\n",
        "tensorboard_log_dir = \"logs/fit/\" + pd.Timestamp.now().strftime(\"%Y%m%d-%H%M%S\")\n",
        "tensorboard_callback = TensorBoard(log_dir=tensorboard_log_dir, histogram_freq=1)"
      ],
      "metadata": {
        "id": "mDSIFzj-Zya3"
      },
      "execution_count": 19,
      "outputs": []
    },
    {
      "cell_type": "code",
      "source": [
        "# Entrenamiento del modelo de ensamble con pesos de clase\n",
        "history = ensemble_model.fit(\n",
        "    train_ds,\n",
        "    validation_data=val_ds,\n",
        "    epochs=EPOCHS,\n",
        "    class_weight=class_weights,\n",
        "    callbacks=[early_stop, model_checkpoint, reduce_lr, tensorboard_callback]\n",
        ")\n"
      ],
      "metadata": {
        "id": "dBSISnUIZzS4",
        "colab": {
          "base_uri": "https://localhost:8080/"
        },
        "outputId": "a09d049a-74cb-4cf8-cf5c-14e7ff120550"
      },
      "execution_count": 20,
      "outputs": [
        {
          "output_type": "stream",
          "name": "stdout",
          "text": [
            "Epoch 1/100\n",
            "\u001b[1m108/108\u001b[0m \u001b[32m━━━━━━━━━━━━━━━━━━━━\u001b[0m\u001b[37m\u001b[0m \u001b[1m0s\u001b[0m 4s/step - accuracy: 0.3494 - loss: 8.6193\n",
            "Epoch 1: val_loss improved from inf to 7.68697, saving model to best_ensemble_model.keras\n",
            "\u001b[1m108/108\u001b[0m \u001b[32m━━━━━━━━━━━━━━━━━━━━\u001b[0m\u001b[37m\u001b[0m \u001b[1m915s\u001b[0m 6s/step - accuracy: 0.3501 - loss: 8.6159 - val_accuracy: 0.4350 - val_loss: 7.6870 - learning_rate: 1.0000e-04\n",
            "Epoch 2/100\n",
            "\u001b[1m108/108\u001b[0m \u001b[32m━━━━━━━━━━━━━━━━━━━━\u001b[0m\u001b[37m\u001b[0m \u001b[1m0s\u001b[0m 575ms/step - accuracy: 0.5641 - loss: 7.6381\n",
            "Epoch 2: val_loss improved from 7.68697 to 7.38025, saving model to best_ensemble_model.keras\n",
            "\u001b[1m108/108\u001b[0m \u001b[32m━━━━━━━━━━━━━━━━━━━━\u001b[0m\u001b[37m\u001b[0m \u001b[1m119s\u001b[0m 954ms/step - accuracy: 0.5644 - loss: 7.6370 - val_accuracy: 0.6497 - val_loss: 7.3802 - learning_rate: 1.0000e-04\n",
            "Epoch 3/100\n",
            "\u001b[1m108/108\u001b[0m \u001b[32m━━━━━━━━━━━━━━━━━━━━\u001b[0m\u001b[37m\u001b[0m \u001b[1m0s\u001b[0m 541ms/step - accuracy: 0.6963 - loss: 7.1054\n",
            "Epoch 3: val_loss improved from 7.38025 to 7.08216, saving model to best_ensemble_model.keras\n",
            "\u001b[1m108/108\u001b[0m \u001b[32m━━━━━━━━━━━━━━━━━━━━\u001b[0m\u001b[37m\u001b[0m \u001b[1m139s\u001b[0m 925ms/step - accuracy: 0.6963 - loss: 7.1053 - val_accuracy: 0.6995 - val_loss: 7.0822 - learning_rate: 1.0000e-04\n",
            "Epoch 4/100\n",
            "\u001b[1m108/108\u001b[0m \u001b[32m━━━━━━━━━━━━━━━━━━━━\u001b[0m\u001b[37m\u001b[0m \u001b[1m0s\u001b[0m 530ms/step - accuracy: 0.7268 - loss: 6.8403\n",
            "Epoch 4: val_loss improved from 7.08216 to 6.76080, saving model to best_ensemble_model.keras\n",
            "\u001b[1m108/108\u001b[0m \u001b[32m━━━━━━━━━━━━━━━━━━━━\u001b[0m\u001b[37m\u001b[0m \u001b[1m134s\u001b[0m 840ms/step - accuracy: 0.7268 - loss: 6.8399 - val_accuracy: 0.7738 - val_loss: 6.7608 - learning_rate: 1.0000e-04\n",
            "Epoch 5/100\n",
            "\u001b[1m108/108\u001b[0m \u001b[32m━━━━━━━━━━━━━━━━━━━━\u001b[0m\u001b[37m\u001b[0m \u001b[1m0s\u001b[0m 528ms/step - accuracy: 0.7626 - loss: 6.5818\n",
            "Epoch 5: val_loss improved from 6.76080 to 6.41455, saving model to best_ensemble_model.keras\n",
            "\u001b[1m108/108\u001b[0m \u001b[32m━━━━━━━━━━━━━━━━━━━━\u001b[0m\u001b[37m\u001b[0m \u001b[1m145s\u001b[0m 883ms/step - accuracy: 0.7627 - loss: 6.5812 - val_accuracy: 0.8202 - val_loss: 6.4145 - learning_rate: 1.0000e-04\n",
            "Epoch 6/100\n",
            "\u001b[1m108/108\u001b[0m \u001b[32m━━━━━━━━━━━━━━━━━━━━\u001b[0m\u001b[37m\u001b[0m \u001b[1m0s\u001b[0m 525ms/step - accuracy: 0.7833 - loss: 6.3221\n",
            "Epoch 6: val_loss improved from 6.41455 to 6.16517, saving model to best_ensemble_model.keras\n",
            "\u001b[1m108/108\u001b[0m \u001b[32m━━━━━━━━━━━━━━━━━━━━\u001b[0m\u001b[37m\u001b[0m \u001b[1m107s\u001b[0m 837ms/step - accuracy: 0.7834 - loss: 6.3213 - val_accuracy: 0.8248 - val_loss: 6.1652 - learning_rate: 1.0000e-04\n",
            "Epoch 7/100\n",
            "\u001b[1m108/108\u001b[0m \u001b[32m━━━━━━━━━━━━━━━━━━━━\u001b[0m\u001b[37m\u001b[0m \u001b[1m0s\u001b[0m 544ms/step - accuracy: 0.8141 - loss: 6.0207\n",
            "Epoch 7: val_loss improved from 6.16517 to 5.96790, saving model to best_ensemble_model.keras\n",
            "\u001b[1m108/108\u001b[0m \u001b[32m━━━━━━━━━━━━━━━━━━━━\u001b[0m\u001b[37m\u001b[0m \u001b[1m108s\u001b[0m 853ms/step - accuracy: 0.8141 - loss: 6.0202 - val_accuracy: 0.8283 - val_loss: 5.9679 - learning_rate: 1.0000e-04\n",
            "Epoch 8/100\n",
            "\u001b[1m108/108\u001b[0m \u001b[32m━━━━━━━━━━━━━━━━━━━━\u001b[0m\u001b[37m\u001b[0m \u001b[1m0s\u001b[0m 528ms/step - accuracy: 0.8228 - loss: 5.7811\n",
            "Epoch 8: val_loss improved from 5.96790 to 5.75826, saving model to best_ensemble_model.keras\n",
            "\u001b[1m108/108\u001b[0m \u001b[32m━━━━━━━━━━━━━━━━━━━━\u001b[0m\u001b[37m\u001b[0m \u001b[1m118s\u001b[0m 942ms/step - accuracy: 0.8228 - loss: 5.7807 - val_accuracy: 0.8422 - val_loss: 5.7583 - learning_rate: 1.0000e-04\n",
            "Epoch 9/100\n",
            "\u001b[1m108/108\u001b[0m \u001b[32m━━━━━━━━━━━━━━━━━━━━\u001b[0m\u001b[37m\u001b[0m \u001b[1m0s\u001b[0m 549ms/step - accuracy: 0.8388 - loss: 5.5449\n",
            "Epoch 9: val_loss improved from 5.75826 to 5.36083, saving model to best_ensemble_model.keras\n",
            "\u001b[1m108/108\u001b[0m \u001b[32m━━━━━━━━━━━━━━━━━━━━\u001b[0m\u001b[37m\u001b[0m \u001b[1m133s\u001b[0m 868ms/step - accuracy: 0.8388 - loss: 5.5443 - val_accuracy: 0.8770 - val_loss: 5.3608 - learning_rate: 1.0000e-04\n",
            "Epoch 10/100\n",
            "\u001b[1m108/108\u001b[0m \u001b[32m━━━━━━━━━━━━━━━━━━━━\u001b[0m\u001b[37m\u001b[0m \u001b[1m0s\u001b[0m 545ms/step - accuracy: 0.8311 - loss: 5.3300\n",
            "Epoch 10: val_loss improved from 5.36083 to 5.20214, saving model to best_ensemble_model.keras\n",
            "\u001b[1m108/108\u001b[0m \u001b[32m━━━━━━━━━━━━━━━━━━━━\u001b[0m\u001b[37m\u001b[0m \u001b[1m147s\u001b[0m 913ms/step - accuracy: 0.8312 - loss: 5.3292 - val_accuracy: 0.8527 - val_loss: 5.2021 - learning_rate: 1.0000e-04\n",
            "Epoch 11/100\n",
            "\u001b[1m108/108\u001b[0m \u001b[32m━━━━━━━━━━━━━━━━━━━━\u001b[0m\u001b[37m\u001b[0m \u001b[1m0s\u001b[0m 537ms/step - accuracy: 0.8691 - loss: 5.0146\n",
            "Epoch 11: val_loss improved from 5.20214 to 5.05095, saving model to best_ensemble_model.keras\n",
            "\u001b[1m108/108\u001b[0m \u001b[32m━━━━━━━━━━━━━━━━━━━━\u001b[0m\u001b[37m\u001b[0m \u001b[1m144s\u001b[0m 915ms/step - accuracy: 0.8690 - loss: 5.0143 - val_accuracy: 0.8469 - val_loss: 5.0510 - learning_rate: 1.0000e-04\n",
            "Epoch 12/100\n",
            "\u001b[1m108/108\u001b[0m \u001b[32m━━━━━━━━━━━━━━━━━━━━\u001b[0m\u001b[37m\u001b[0m \u001b[1m0s\u001b[0m 539ms/step - accuracy: 0.8507 - loss: 4.8553\n",
            "Epoch 12: val_loss improved from 5.05095 to 4.76391, saving model to best_ensemble_model.keras\n",
            "\u001b[1m108/108\u001b[0m \u001b[32m━━━━━━━━━━━━━━━━━━━━\u001b[0m\u001b[37m\u001b[0m \u001b[1m140s\u001b[0m 912ms/step - accuracy: 0.8508 - loss: 4.8545 - val_accuracy: 0.8538 - val_loss: 4.7639 - learning_rate: 1.0000e-04\n",
            "Epoch 13/100\n",
            "\u001b[1m108/108\u001b[0m \u001b[32m━━━━━━━━━━━━━━━━━━━━\u001b[0m\u001b[37m\u001b[0m \u001b[1m0s\u001b[0m 543ms/step - accuracy: 0.8548 - loss: 4.5924\n",
            "Epoch 13: val_loss improved from 4.76391 to 4.55156, saving model to best_ensemble_model.keras\n",
            "\u001b[1m108/108\u001b[0m \u001b[32m━━━━━━━━━━━━━━━━━━━━\u001b[0m\u001b[37m\u001b[0m \u001b[1m141s\u001b[0m 906ms/step - accuracy: 0.8548 - loss: 4.5920 - val_accuracy: 0.8469 - val_loss: 4.5516 - learning_rate: 1.0000e-04\n",
            "Epoch 14/100\n",
            "\u001b[1m108/108\u001b[0m \u001b[32m━━━━━━━━━━━━━━━━━━━━\u001b[0m\u001b[37m\u001b[0m \u001b[1m0s\u001b[0m 540ms/step - accuracy: 0.8692 - loss: 4.3732\n",
            "Epoch 14: val_loss improved from 4.55156 to 4.36605, saving model to best_ensemble_model.keras\n",
            "\u001b[1m108/108\u001b[0m \u001b[32m━━━━━━━━━━━━━━━━━━━━\u001b[0m\u001b[37m\u001b[0m \u001b[1m149s\u001b[0m 974ms/step - accuracy: 0.8691 - loss: 4.3727 - val_accuracy: 0.8411 - val_loss: 4.3660 - learning_rate: 1.0000e-04\n",
            "Epoch 15/100\n",
            "\u001b[1m108/108\u001b[0m \u001b[32m━━━━━━━━━━━━━━━━━━━━\u001b[0m\u001b[37m\u001b[0m \u001b[1m0s\u001b[0m 549ms/step - accuracy: 0.8593 - loss: 4.1764\n",
            "Epoch 15: val_loss improved from 4.36605 to 4.10027, saving model to best_ensemble_model.keras\n",
            "\u001b[1m108/108\u001b[0m \u001b[32m━━━━━━━━━━━━━━━━━━━━\u001b[0m\u001b[37m\u001b[0m \u001b[1m146s\u001b[0m 1s/step - accuracy: 0.8593 - loss: 4.1759 - val_accuracy: 0.8666 - val_loss: 4.1003 - learning_rate: 1.0000e-04\n",
            "Epoch 16/100\n",
            "\u001b[1m108/108\u001b[0m \u001b[32m━━━━━━━━━━━━━━━━━━━━\u001b[0m\u001b[37m\u001b[0m \u001b[1m0s\u001b[0m 540ms/step - accuracy: 0.8779 - loss: 3.9283\n",
            "Epoch 16: val_loss improved from 4.10027 to 3.93599, saving model to best_ensemble_model.keras\n",
            "\u001b[1m108/108\u001b[0m \u001b[32m━━━━━━━━━━━━━━━━━━━━\u001b[0m\u001b[37m\u001b[0m \u001b[1m140s\u001b[0m 982ms/step - accuracy: 0.8779 - loss: 3.9280 - val_accuracy: 0.8677 - val_loss: 3.9360 - learning_rate: 1.0000e-04\n",
            "Epoch 17/100\n",
            "\u001b[1m108/108\u001b[0m \u001b[32m━━━━━━━━━━━━━━━━━━━━\u001b[0m\u001b[37m\u001b[0m \u001b[1m0s\u001b[0m 530ms/step - accuracy: 0.8860 - loss: 3.6952\n",
            "Epoch 17: val_loss improved from 3.93599 to 3.86893, saving model to best_ensemble_model.keras\n",
            "\u001b[1m108/108\u001b[0m \u001b[32m━━━━━━━━━━━━━━━━━━━━\u001b[0m\u001b[37m\u001b[0m \u001b[1m143s\u001b[0m 991ms/step - accuracy: 0.8859 - loss: 3.6950 - val_accuracy: 0.8422 - val_loss: 3.8689 - learning_rate: 1.0000e-04\n",
            "Epoch 18/100\n",
            "\u001b[1m108/108\u001b[0m \u001b[32m━━━━━━━━━━━━━━━━━━━━\u001b[0m\u001b[37m\u001b[0m \u001b[1m0s\u001b[0m 539ms/step - accuracy: 0.8849 - loss: 3.5390\n",
            "Epoch 18: val_loss improved from 3.86893 to 3.62159, saving model to best_ensemble_model.keras\n",
            "\u001b[1m108/108\u001b[0m \u001b[32m━━━━━━━━━━━━━━━━━━━━\u001b[0m\u001b[37m\u001b[0m \u001b[1m131s\u001b[0m 902ms/step - accuracy: 0.8849 - loss: 3.5385 - val_accuracy: 0.8515 - val_loss: 3.6216 - learning_rate: 1.0000e-04\n",
            "Epoch 19/100\n",
            "\u001b[1m108/108\u001b[0m \u001b[32m━━━━━━━━━━━━━━━━━━━━\u001b[0m\u001b[37m\u001b[0m \u001b[1m0s\u001b[0m 550ms/step - accuracy: 0.8759 - loss: 3.3807\n",
            "Epoch 19: val_loss improved from 3.62159 to 3.36567, saving model to best_ensemble_model.keras\n",
            "\u001b[1m108/108\u001b[0m \u001b[32m━━━━━━━━━━━━━━━━━━━━\u001b[0m\u001b[37m\u001b[0m \u001b[1m150s\u001b[0m 979ms/step - accuracy: 0.8760 - loss: 3.3800 - val_accuracy: 0.8538 - val_loss: 3.3657 - learning_rate: 1.0000e-04\n",
            "Epoch 20/100\n",
            "\u001b[1m108/108\u001b[0m \u001b[32m━━━━━━━━━━━━━━━━━━━━\u001b[0m\u001b[37m\u001b[0m \u001b[1m0s\u001b[0m 548ms/step - accuracy: 0.8804 - loss: 3.1577\n",
            "Epoch 20: val_loss improved from 3.36567 to 3.11073, saving model to best_ensemble_model.keras\n",
            "\u001b[1m108/108\u001b[0m \u001b[32m━━━━━━━━━━━━━━━━━━━━\u001b[0m\u001b[37m\u001b[0m \u001b[1m149s\u001b[0m 1s/step - accuracy: 0.8805 - loss: 3.1572 - val_accuracy: 0.8782 - val_loss: 3.1107 - learning_rate: 1.0000e-04\n",
            "Epoch 21/100\n",
            "\u001b[1m108/108\u001b[0m \u001b[32m━━━━━━━━━━━━━━━━━━━━\u001b[0m\u001b[37m\u001b[0m \u001b[1m0s\u001b[0m 546ms/step - accuracy: 0.9049 - loss: 2.9483\n",
            "Epoch 21: val_loss improved from 3.11073 to 3.00325, saving model to best_ensemble_model.keras\n",
            "\u001b[1m108/108\u001b[0m \u001b[32m━━━━━━━━━━━━━━━━━━━━\u001b[0m\u001b[37m\u001b[0m \u001b[1m140s\u001b[0m 1s/step - accuracy: 0.9048 - loss: 2.9481 - val_accuracy: 0.8643 - val_loss: 3.0032 - learning_rate: 1.0000e-04\n",
            "Epoch 22/100\n",
            "\u001b[1m108/108\u001b[0m \u001b[32m━━━━━━━━━━━━━━━━━━━━\u001b[0m\u001b[37m\u001b[0m \u001b[1m0s\u001b[0m 546ms/step - accuracy: 0.8864 - loss: 2.8222\n",
            "Epoch 22: val_loss improved from 3.00325 to 2.93594, saving model to best_ensemble_model.keras\n",
            "\u001b[1m108/108\u001b[0m \u001b[32m━━━━━━━━━━━━━━━━━━━━\u001b[0m\u001b[37m\u001b[0m \u001b[1m143s\u001b[0m 1s/step - accuracy: 0.8865 - loss: 2.8218 - val_accuracy: 0.8492 - val_loss: 2.9359 - learning_rate: 1.0000e-04\n",
            "Epoch 23/100\n",
            "\u001b[1m108/108\u001b[0m \u001b[32m━━━━━━━━━━━━━━━━━━━━\u001b[0m\u001b[37m\u001b[0m \u001b[1m0s\u001b[0m 548ms/step - accuracy: 0.8940 - loss: 2.6314\n",
            "Epoch 23: val_loss improved from 2.93594 to 2.72215, saving model to best_ensemble_model.keras\n",
            "\u001b[1m108/108\u001b[0m \u001b[32m━━━━━━━━━━━━━━━━━━━━\u001b[0m\u001b[37m\u001b[0m \u001b[1m123s\u001b[0m 989ms/step - accuracy: 0.8940 - loss: 2.6309 - val_accuracy: 0.8677 - val_loss: 2.7221 - learning_rate: 1.0000e-04\n",
            "Epoch 24/100\n",
            "\u001b[1m108/108\u001b[0m \u001b[32m━━━━━━━━━━━━━━━━━━━━\u001b[0m\u001b[37m\u001b[0m \u001b[1m0s\u001b[0m 555ms/step - accuracy: 0.8987 - loss: 2.4757\n",
            "Epoch 24: val_loss improved from 2.72215 to 2.55416, saving model to best_ensemble_model.keras\n",
            "\u001b[1m108/108\u001b[0m \u001b[32m━━━━━━━━━━━━━━━━━━━━\u001b[0m\u001b[37m\u001b[0m \u001b[1m147s\u001b[0m 1s/step - accuracy: 0.8987 - loss: 2.4752 - val_accuracy: 0.8677 - val_loss: 2.5542 - learning_rate: 1.0000e-04\n",
            "Epoch 25/100\n",
            "\u001b[1m108/108\u001b[0m \u001b[32m━━━━━━━━━━━━━━━━━━━━\u001b[0m\u001b[37m\u001b[0m \u001b[1m0s\u001b[0m 553ms/step - accuracy: 0.9057 - loss: 2.3388\n",
            "Epoch 25: val_loss improved from 2.55416 to 2.43389, saving model to best_ensemble_model.keras\n",
            "\u001b[1m108/108\u001b[0m \u001b[32m━━━━━━━━━━━━━━━━━━━━\u001b[0m\u001b[37m\u001b[0m \u001b[1m135s\u001b[0m 965ms/step - accuracy: 0.9057 - loss: 2.3383 - val_accuracy: 0.8596 - val_loss: 2.4339 - learning_rate: 1.0000e-04\n",
            "Epoch 26/100\n",
            "\u001b[1m108/108\u001b[0m \u001b[32m━━━━━━━━━━━━━━━━━━━━\u001b[0m\u001b[37m\u001b[0m \u001b[1m0s\u001b[0m 536ms/step - accuracy: 0.9093 - loss: 2.1625\n",
            "Epoch 26: val_loss improved from 2.43389 to 2.30896, saving model to best_ensemble_model.keras\n",
            "\u001b[1m108/108\u001b[0m \u001b[32m━━━━━━━━━━━━━━━━━━━━\u001b[0m\u001b[37m\u001b[0m \u001b[1m135s\u001b[0m 915ms/step - accuracy: 0.9093 - loss: 2.1622 - val_accuracy: 0.8654 - val_loss: 2.3090 - learning_rate: 1.0000e-04\n",
            "Epoch 27/100\n",
            "\u001b[1m108/108\u001b[0m \u001b[32m━━━━━━━━━━━━━━━━━━━━\u001b[0m\u001b[37m\u001b[0m \u001b[1m0s\u001b[0m 527ms/step - accuracy: 0.9102 - loss: 2.0479\n",
            "Epoch 27: val_loss improved from 2.30896 to 2.09606, saving model to best_ensemble_model.keras\n",
            "\u001b[1m108/108\u001b[0m \u001b[32m━━━━━━━━━━━━━━━━━━━━\u001b[0m\u001b[37m\u001b[0m \u001b[1m145s\u001b[0m 940ms/step - accuracy: 0.9102 - loss: 2.0476 - val_accuracy: 0.8875 - val_loss: 2.0961 - learning_rate: 1.0000e-04\n",
            "Epoch 28/100\n",
            "\u001b[1m108/108\u001b[0m \u001b[32m━━━━━━━━━━━━━━━━━━━━\u001b[0m\u001b[37m\u001b[0m \u001b[1m0s\u001b[0m 532ms/step - accuracy: 0.9164 - loss: 1.9195\n",
            "Epoch 28: val_loss improved from 2.09606 to 2.02288, saving model to best_ensemble_model.keras\n",
            "\u001b[1m108/108\u001b[0m \u001b[32m━━━━━━━━━━━━━━━━━━━━\u001b[0m\u001b[37m\u001b[0m \u001b[1m146s\u001b[0m 976ms/step - accuracy: 0.9164 - loss: 1.9194 - val_accuracy: 0.8689 - val_loss: 2.0229 - learning_rate: 1.0000e-04\n",
            "Epoch 29/100\n",
            "\u001b[1m108/108\u001b[0m \u001b[32m━━━━━━━━━━━━━━━━━━━━\u001b[0m\u001b[37m\u001b[0m \u001b[1m0s\u001b[0m 544ms/step - accuracy: 0.8955 - loss: 1.8538\n",
            "Epoch 29: val_loss improved from 2.02288 to 1.85531, saving model to best_ensemble_model.keras\n",
            "\u001b[1m108/108\u001b[0m \u001b[32m━━━━━━━━━━━━━━━━━━━━\u001b[0m\u001b[37m\u001b[0m \u001b[1m141s\u001b[0m 974ms/step - accuracy: 0.8956 - loss: 1.8535 - val_accuracy: 0.8759 - val_loss: 1.8553 - learning_rate: 1.0000e-04\n",
            "Epoch 30/100\n",
            "\u001b[1m108/108\u001b[0m \u001b[32m━━━━━━━━━━━━━━━━━━━━\u001b[0m\u001b[37m\u001b[0m \u001b[1m0s\u001b[0m 544ms/step - accuracy: 0.9048 - loss: 1.7195\n",
            "Epoch 30: val_loss improved from 1.85531 to 1.76648, saving model to best_ensemble_model.keras\n",
            "\u001b[1m108/108\u001b[0m \u001b[32m━━━━━━━━━━━━━━━━━━━━\u001b[0m\u001b[37m\u001b[0m \u001b[1m153s\u001b[0m 1s/step - accuracy: 0.9048 - loss: 1.7194 - val_accuracy: 0.8817 - val_loss: 1.7665 - learning_rate: 1.0000e-04\n",
            "Epoch 31/100\n",
            "\u001b[1m108/108\u001b[0m \u001b[32m━━━━━━━━━━━━━━━━━━━━\u001b[0m\u001b[37m\u001b[0m \u001b[1m0s\u001b[0m 529ms/step - accuracy: 0.9127 - loss: 1.6121\n",
            "Epoch 31: val_loss improved from 1.76648 to 1.64858, saving model to best_ensemble_model.keras\n",
            "\u001b[1m108/108\u001b[0m \u001b[32m━━━━━━━━━━━━━━━━━━━━\u001b[0m\u001b[37m\u001b[0m \u001b[1m126s\u001b[0m 1s/step - accuracy: 0.9127 - loss: 1.6118 - val_accuracy: 0.8956 - val_loss: 1.6486 - learning_rate: 1.0000e-04\n",
            "Epoch 32/100\n",
            "\u001b[1m108/108\u001b[0m \u001b[32m━━━━━━━━━━━━━━━━━━━━\u001b[0m\u001b[37m\u001b[0m \u001b[1m0s\u001b[0m 543ms/step - accuracy: 0.9092 - loss: 1.5433\n",
            "Epoch 32: val_loss improved from 1.64858 to 1.60502, saving model to best_ensemble_model.keras\n",
            "\u001b[1m108/108\u001b[0m \u001b[32m━━━━━━━━━━━━━━━━━━━━\u001b[0m\u001b[37m\u001b[0m \u001b[1m141s\u001b[0m 1s/step - accuracy: 0.9092 - loss: 1.5428 - val_accuracy: 0.8828 - val_loss: 1.6050 - learning_rate: 1.0000e-04\n",
            "Epoch 33/100\n",
            "\u001b[1m108/108\u001b[0m \u001b[32m━━━━━━━━━━━━━━━━━━━━\u001b[0m\u001b[37m\u001b[0m \u001b[1m0s\u001b[0m 537ms/step - accuracy: 0.9027 - loss: 1.4513\n",
            "Epoch 33: val_loss improved from 1.60502 to 1.49561, saving model to best_ensemble_model.keras\n",
            "\u001b[1m108/108\u001b[0m \u001b[32m━━━━━━━━━━━━━━━━━━━━\u001b[0m\u001b[37m\u001b[0m \u001b[1m141s\u001b[0m 1s/step - accuracy: 0.9028 - loss: 1.4509 - val_accuracy: 0.8863 - val_loss: 1.4956 - learning_rate: 1.0000e-04\n",
            "Epoch 34/100\n",
            "\u001b[1m108/108\u001b[0m \u001b[32m━━━━━━━━━━━━━━━━━━━━\u001b[0m\u001b[37m\u001b[0m \u001b[1m0s\u001b[0m 537ms/step - accuracy: 0.9213 - loss: 1.3334\n",
            "Epoch 34: val_loss improved from 1.49561 to 1.44433, saving model to best_ensemble_model.keras\n",
            "\u001b[1m108/108\u001b[0m \u001b[32m━━━━━━━━━━━━━━━━━━━━\u001b[0m\u001b[37m\u001b[0m \u001b[1m125s\u001b[0m 1s/step - accuracy: 0.9213 - loss: 1.3332 - val_accuracy: 0.8968 - val_loss: 1.4443 - learning_rate: 1.0000e-04\n",
            "Epoch 35/100\n",
            "\u001b[1m108/108\u001b[0m \u001b[32m━━━━━━━━━━━━━━━━━━━━\u001b[0m\u001b[37m\u001b[0m \u001b[1m0s\u001b[0m 543ms/step - accuracy: 0.9195 - loss: 1.2647\n",
            "Epoch 35: val_loss improved from 1.44433 to 1.43185, saving model to best_ensemble_model.keras\n",
            "\u001b[1m108/108\u001b[0m \u001b[32m━━━━━━━━━━━━━━━━━━━━\u001b[0m\u001b[37m\u001b[0m \u001b[1m137s\u001b[0m 959ms/step - accuracy: 0.9195 - loss: 1.2645 - val_accuracy: 0.8944 - val_loss: 1.4318 - learning_rate: 1.0000e-04\n",
            "Epoch 36/100\n",
            "\u001b[1m108/108\u001b[0m \u001b[32m━━━━━━━━━━━━━━━━━━━━\u001b[0m\u001b[37m\u001b[0m \u001b[1m0s\u001b[0m 542ms/step - accuracy: 0.9221 - loss: 1.1924\n",
            "Epoch 36: val_loss improved from 1.43185 to 1.30675, saving model to best_ensemble_model.keras\n",
            "\u001b[1m108/108\u001b[0m \u001b[32m━━━━━━━━━━━━━━━━━━━━\u001b[0m\u001b[37m\u001b[0m \u001b[1m149s\u001b[0m 1s/step - accuracy: 0.9221 - loss: 1.1921 - val_accuracy: 0.8840 - val_loss: 1.3067 - learning_rate: 1.0000e-04\n",
            "Epoch 37/100\n",
            "\u001b[1m108/108\u001b[0m \u001b[32m━━━━━━━━━━━━━━━━━━━━\u001b[0m\u001b[37m\u001b[0m \u001b[1m0s\u001b[0m 530ms/step - accuracy: 0.9220 - loss: 1.1192\n",
            "Epoch 37: val_loss improved from 1.30675 to 1.28070, saving model to best_ensemble_model.keras\n",
            "\u001b[1m108/108\u001b[0m \u001b[32m━━━━━━━━━━━━━━━━━━━━\u001b[0m\u001b[37m\u001b[0m \u001b[1m134s\u001b[0m 961ms/step - accuracy: 0.9220 - loss: 1.1191 - val_accuracy: 0.8968 - val_loss: 1.2807 - learning_rate: 1.0000e-04\n",
            "Epoch 38/100\n",
            "\u001b[1m108/108\u001b[0m \u001b[32m━━━━━━━━━━━━━━━━━━━━\u001b[0m\u001b[37m\u001b[0m \u001b[1m0s\u001b[0m 528ms/step - accuracy: 0.9262 - loss: 1.0324\n",
            "Epoch 38: val_loss improved from 1.28070 to 1.23582, saving model to best_ensemble_model.keras\n",
            "\u001b[1m108/108\u001b[0m \u001b[32m━━━━━━━━━━━━━━━━━━━━\u001b[0m\u001b[37m\u001b[0m \u001b[1m149s\u001b[0m 1s/step - accuracy: 0.9262 - loss: 1.0325 - val_accuracy: 0.8875 - val_loss: 1.2358 - learning_rate: 1.0000e-04\n",
            "Epoch 39/100\n",
            "\u001b[1m108/108\u001b[0m \u001b[32m━━━━━━━━━━━━━━━━━━━━\u001b[0m\u001b[37m\u001b[0m \u001b[1m0s\u001b[0m 535ms/step - accuracy: 0.9232 - loss: 1.0183\n",
            "Epoch 39: val_loss improved from 1.23582 to 1.15950, saving model to best_ensemble_model.keras\n",
            "\u001b[1m108/108\u001b[0m \u001b[32m━━━━━━━━━━━━━━━━━━━━\u001b[0m\u001b[37m\u001b[0m \u001b[1m139s\u001b[0m 1s/step - accuracy: 0.9231 - loss: 1.0183 - val_accuracy: 0.8875 - val_loss: 1.1595 - learning_rate: 1.0000e-04\n",
            "Epoch 40/100\n",
            "\u001b[1m108/108\u001b[0m \u001b[32m━━━━━━━━━━━━━━━━━━━━\u001b[0m\u001b[37m\u001b[0m \u001b[1m0s\u001b[0m 533ms/step - accuracy: 0.9273 - loss: 0.9528\n",
            "Epoch 40: val_loss improved from 1.15950 to 1.04115, saving model to best_ensemble_model.keras\n",
            "\u001b[1m108/108\u001b[0m \u001b[32m━━━━━━━━━━━━━━━━━━━━\u001b[0m\u001b[37m\u001b[0m \u001b[1m131s\u001b[0m 1s/step - accuracy: 0.9274 - loss: 0.9528 - val_accuracy: 0.9060 - val_loss: 1.0412 - learning_rate: 1.0000e-04\n",
            "Epoch 41/100\n",
            "\u001b[1m108/108\u001b[0m \u001b[32m━━━━━━━━━━━━━━━━━━━━\u001b[0m\u001b[37m\u001b[0m \u001b[1m0s\u001b[0m 534ms/step - accuracy: 0.9260 - loss: 0.9152\n",
            "Epoch 41: val_loss did not improve from 1.04115\n",
            "\u001b[1m108/108\u001b[0m \u001b[32m━━━━━━━━━━━━━━━━━━━━\u001b[0m\u001b[37m\u001b[0m \u001b[1m118s\u001b[0m 842ms/step - accuracy: 0.9260 - loss: 0.9151 - val_accuracy: 0.8747 - val_loss: 1.0751 - learning_rate: 1.0000e-04\n",
            "Epoch 42/100\n",
            "\u001b[1m108/108\u001b[0m \u001b[32m━━━━━━━━━━━━━━━━━━━━\u001b[0m\u001b[37m\u001b[0m \u001b[1m0s\u001b[0m 521ms/step - accuracy: 0.9273 - loss: 0.8661\n",
            "Epoch 42: val_loss improved from 1.04115 to 0.98625, saving model to best_ensemble_model.keras\n",
            "\u001b[1m108/108\u001b[0m \u001b[32m━━━━━━━━━━━━━━━━━━━━\u001b[0m\u001b[37m\u001b[0m \u001b[1m130s\u001b[0m 1s/step - accuracy: 0.9273 - loss: 0.8660 - val_accuracy: 0.9002 - val_loss: 0.9862 - learning_rate: 1.0000e-04\n",
            "Epoch 43/100\n",
            "\u001b[1m108/108\u001b[0m \u001b[32m━━━━━━━━━━━━━━━━━━━━\u001b[0m\u001b[37m\u001b[0m \u001b[1m0s\u001b[0m 538ms/step - accuracy: 0.9375 - loss: 0.7958\n",
            "Epoch 43: val_loss improved from 0.98625 to 0.88750, saving model to best_ensemble_model.keras\n",
            "\u001b[1m108/108\u001b[0m \u001b[32m━━━━━━━━━━━━━━━━━━━━\u001b[0m\u001b[37m\u001b[0m \u001b[1m143s\u001b[0m 1s/step - accuracy: 0.9375 - loss: 0.7958 - val_accuracy: 0.9084 - val_loss: 0.8875 - learning_rate: 1.0000e-04\n",
            "Epoch 44/100\n",
            "\u001b[1m108/108\u001b[0m \u001b[32m━━━━━━━━━━━━━━━━━━━━\u001b[0m\u001b[37m\u001b[0m \u001b[1m0s\u001b[0m 521ms/step - accuracy: 0.9298 - loss: 0.7717\n",
            "Epoch 44: val_loss improved from 0.88750 to 0.88431, saving model to best_ensemble_model.keras\n",
            "\u001b[1m108/108\u001b[0m \u001b[32m━━━━━━━━━━━━━━━━━━━━\u001b[0m\u001b[37m\u001b[0m \u001b[1m123s\u001b[0m 978ms/step - accuracy: 0.9298 - loss: 0.7717 - val_accuracy: 0.8979 - val_loss: 0.8843 - learning_rate: 1.0000e-04\n",
            "Epoch 45/100\n",
            "\u001b[1m108/108\u001b[0m \u001b[32m━━━━━━━━━━━━━━━━━━━━\u001b[0m\u001b[37m\u001b[0m \u001b[1m0s\u001b[0m 517ms/step - accuracy: 0.9220 - loss: 0.7596\n",
            "Epoch 45: val_loss did not improve from 0.88431\n",
            "\u001b[1m108/108\u001b[0m \u001b[32m━━━━━━━━━━━━━━━━━━━━\u001b[0m\u001b[37m\u001b[0m \u001b[1m120s\u001b[0m 792ms/step - accuracy: 0.9221 - loss: 0.7593 - val_accuracy: 0.8759 - val_loss: 0.9329 - learning_rate: 1.0000e-04\n",
            "Epoch 46/100\n",
            "\u001b[1m108/108\u001b[0m \u001b[32m━━━━━━━━━━━━━━━━━━━━\u001b[0m\u001b[37m\u001b[0m \u001b[1m0s\u001b[0m 532ms/step - accuracy: 0.9335 - loss: 0.7005\n",
            "Epoch 46: val_loss did not improve from 0.88431\n",
            "\u001b[1m108/108\u001b[0m \u001b[32m━━━━━━━━━━━━━━━━━━━━\u001b[0m\u001b[37m\u001b[0m \u001b[1m147s\u001b[0m 840ms/step - accuracy: 0.9335 - loss: 0.7004 - val_accuracy: 0.8805 - val_loss: 0.9079 - learning_rate: 1.0000e-04\n",
            "Epoch 47/100\n",
            "\u001b[1m108/108\u001b[0m \u001b[32m━━━━━━━━━━━━━━━━━━━━\u001b[0m\u001b[37m\u001b[0m \u001b[1m0s\u001b[0m 515ms/step - accuracy: 0.9356 - loss: 0.6660\n",
            "Epoch 47: val_loss improved from 0.88431 to 0.87969, saving model to best_ensemble_model.keras\n",
            "\u001b[1m108/108\u001b[0m \u001b[32m━━━━━━━━━━━━━━━━━━━━\u001b[0m\u001b[37m\u001b[0m \u001b[1m162s\u001b[0m 1s/step - accuracy: 0.9356 - loss: 0.6659 - val_accuracy: 0.8817 - val_loss: 0.8797 - learning_rate: 1.0000e-04\n",
            "Epoch 48/100\n",
            "\u001b[1m108/108\u001b[0m \u001b[32m━━━━━━━━━━━━━━━━━━━━\u001b[0m\u001b[37m\u001b[0m \u001b[1m0s\u001b[0m 529ms/step - accuracy: 0.9335 - loss: 0.6509\n",
            "Epoch 48: val_loss improved from 0.87969 to 0.84474, saving model to best_ensemble_model.keras\n",
            "\u001b[1m108/108\u001b[0m \u001b[32m━━━━━━━━━━━━━━━━━━━━\u001b[0m\u001b[37m\u001b[0m \u001b[1m137s\u001b[0m 982ms/step - accuracy: 0.9335 - loss: 0.6508 - val_accuracy: 0.8886 - val_loss: 0.8447 - learning_rate: 1.0000e-04\n",
            "Epoch 49/100\n",
            "\u001b[1m108/108\u001b[0m \u001b[32m━━━━━━━━━━━━━━━━━━━━\u001b[0m\u001b[37m\u001b[0m \u001b[1m0s\u001b[0m 530ms/step - accuracy: 0.9407 - loss: 0.6049\n",
            "Epoch 49: val_loss improved from 0.84474 to 0.76449, saving model to best_ensemble_model.keras\n",
            "\u001b[1m108/108\u001b[0m \u001b[32m━━━━━━━━━━━━━━━━━━━━\u001b[0m\u001b[37m\u001b[0m \u001b[1m147s\u001b[0m 1s/step - accuracy: 0.9406 - loss: 0.6049 - val_accuracy: 0.9107 - val_loss: 0.7645 - learning_rate: 1.0000e-04\n",
            "Epoch 50/100\n",
            "\u001b[1m108/108\u001b[0m \u001b[32m━━━━━━━━━━━━━━━━━━━━\u001b[0m\u001b[37m\u001b[0m \u001b[1m0s\u001b[0m 521ms/step - accuracy: 0.9349 - loss: 0.6015\n",
            "Epoch 50: val_loss improved from 0.76449 to 0.75344, saving model to best_ensemble_model.keras\n",
            "\u001b[1m108/108\u001b[0m \u001b[32m━━━━━━━━━━━━━━━━━━━━\u001b[0m\u001b[37m\u001b[0m \u001b[1m140s\u001b[0m 993ms/step - accuracy: 0.9348 - loss: 0.6014 - val_accuracy: 0.9037 - val_loss: 0.7534 - learning_rate: 1.0000e-04\n",
            "Epoch 51/100\n",
            "\u001b[1m108/108\u001b[0m \u001b[32m━━━━━━━━━━━━━━━━━━━━\u001b[0m\u001b[37m\u001b[0m \u001b[1m0s\u001b[0m 525ms/step - accuracy: 0.9310 - loss: 0.5796\n",
            "Epoch 51: val_loss did not improve from 0.75344\n",
            "\u001b[1m108/108\u001b[0m \u001b[32m━━━━━━━━━━━━━━━━━━━━\u001b[0m\u001b[37m\u001b[0m \u001b[1m103s\u001b[0m 803ms/step - accuracy: 0.9311 - loss: 0.5796 - val_accuracy: 0.8770 - val_loss: 0.8496 - learning_rate: 1.0000e-04\n",
            "Epoch 52/100\n",
            "\u001b[1m108/108\u001b[0m \u001b[32m━━━━━━━━━━━━━━━━━━━━\u001b[0m\u001b[37m\u001b[0m \u001b[1m0s\u001b[0m 515ms/step - accuracy: 0.9359 - loss: 0.5710\n",
            "Epoch 52: val_loss did not improve from 0.75344\n",
            "\u001b[1m108/108\u001b[0m \u001b[32m━━━━━━━━━━━━━━━━━━━━\u001b[0m\u001b[37m\u001b[0m \u001b[1m144s\u001b[0m 824ms/step - accuracy: 0.9359 - loss: 0.5710 - val_accuracy: 0.8910 - val_loss: 0.8550 - learning_rate: 1.0000e-04\n",
            "Epoch 53/100\n",
            "\u001b[1m108/108\u001b[0m \u001b[32m━━━━━━━━━━━━━━━━━━━━\u001b[0m\u001b[37m\u001b[0m \u001b[1m0s\u001b[0m 536ms/step - accuracy: 0.9402 - loss: 0.5183\n",
            "Epoch 53: val_loss improved from 0.75344 to 0.74509, saving model to best_ensemble_model.keras\n",
            "\u001b[1m108/108\u001b[0m \u001b[32m━━━━━━━━━━━━━━━━━━━━\u001b[0m\u001b[37m\u001b[0m \u001b[1m163s\u001b[0m 1s/step - accuracy: 0.9402 - loss: 0.5182 - val_accuracy: 0.8921 - val_loss: 0.7451 - learning_rate: 1.0000e-04\n",
            "Epoch 54/100\n",
            "\u001b[1m108/108\u001b[0m \u001b[32m━━━━━━━━━━━━━━━━━━━━\u001b[0m\u001b[37m\u001b[0m \u001b[1m0s\u001b[0m 517ms/step - accuracy: 0.9405 - loss: 0.5168\n",
            "Epoch 54: val_loss did not improve from 0.74509\n",
            "\u001b[1m108/108\u001b[0m \u001b[32m━━━━━━━━━━━━━━━━━━━━\u001b[0m\u001b[37m\u001b[0m \u001b[1m119s\u001b[0m 791ms/step - accuracy: 0.9406 - loss: 0.5166 - val_accuracy: 0.9095 - val_loss: 0.7732 - learning_rate: 1.0000e-04\n",
            "Epoch 55/100\n",
            "\u001b[1m108/108\u001b[0m \u001b[32m━━━━━━━━━━━━━━━━━━━━\u001b[0m\u001b[37m\u001b[0m \u001b[1m0s\u001b[0m 519ms/step - accuracy: 0.9310 - loss: 0.5002\n",
            "Epoch 55: val_loss improved from 0.74509 to 0.71527, saving model to best_ensemble_model.keras\n",
            "\u001b[1m108/108\u001b[0m \u001b[32m━━━━━━━━━━━━━━━━━━━━\u001b[0m\u001b[37m\u001b[0m \u001b[1m170s\u001b[0m 1s/step - accuracy: 0.9310 - loss: 0.5001 - val_accuracy: 0.9026 - val_loss: 0.7153 - learning_rate: 1.0000e-04\n",
            "Epoch 56/100\n",
            "\u001b[1m108/108\u001b[0m \u001b[32m━━━━━━━━━━━━━━━━━━━━\u001b[0m\u001b[37m\u001b[0m \u001b[1m0s\u001b[0m 523ms/step - accuracy: 0.9439 - loss: 0.4521\n",
            "Epoch 56: val_loss did not improve from 0.71527\n",
            "\u001b[1m108/108\u001b[0m \u001b[32m━━━━━━━━━━━━━━━━━━━━\u001b[0m\u001b[37m\u001b[0m \u001b[1m116s\u001b[0m 829ms/step - accuracy: 0.9438 - loss: 0.4521 - val_accuracy: 0.8677 - val_loss: 0.8125 - learning_rate: 1.0000e-04\n",
            "Epoch 57/100\n",
            "\u001b[1m108/108\u001b[0m \u001b[32m━━━━━━━━━━━━━━━━━━━━\u001b[0m\u001b[37m\u001b[0m \u001b[1m0s\u001b[0m 517ms/step - accuracy: 0.9567 - loss: 0.4174\n",
            "Epoch 57: val_loss improved from 0.71527 to 0.69858, saving model to best_ensemble_model.keras\n",
            "\u001b[1m108/108\u001b[0m \u001b[32m━━━━━━━━━━━━━━━━━━━━\u001b[0m\u001b[37m\u001b[0m \u001b[1m156s\u001b[0m 963ms/step - accuracy: 0.9566 - loss: 0.4175 - val_accuracy: 0.8979 - val_loss: 0.6986 - learning_rate: 1.0000e-04\n",
            "Epoch 58/100\n",
            "\u001b[1m108/108\u001b[0m \u001b[32m━━━━━━━━━━━━━━━━━━━━\u001b[0m\u001b[37m\u001b[0m \u001b[1m0s\u001b[0m 530ms/step - accuracy: 0.9322 - loss: 0.4768\n",
            "Epoch 58: val_loss improved from 0.69858 to 0.67206, saving model to best_ensemble_model.keras\n",
            "\u001b[1m108/108\u001b[0m \u001b[32m━━━━━━━━━━━━━━━━━━━━\u001b[0m\u001b[37m\u001b[0m \u001b[1m151s\u001b[0m 1s/step - accuracy: 0.9322 - loss: 0.4766 - val_accuracy: 0.8968 - val_loss: 0.6721 - learning_rate: 1.0000e-04\n",
            "Epoch 59/100\n",
            "\u001b[1m108/108\u001b[0m \u001b[32m━━━━━━━━━━━━━━━━━━━━\u001b[0m\u001b[37m\u001b[0m \u001b[1m0s\u001b[0m 515ms/step - accuracy: 0.9440 - loss: 0.4479\n",
            "Epoch 59: val_loss did not improve from 0.67206\n",
            "\u001b[1m108/108\u001b[0m \u001b[32m━━━━━━━━━━━━━━━━━━━━\u001b[0m\u001b[37m\u001b[0m \u001b[1m102s\u001b[0m 789ms/step - accuracy: 0.9440 - loss: 0.4477 - val_accuracy: 0.9049 - val_loss: 0.7032 - learning_rate: 1.0000e-04\n",
            "Epoch 60/100\n",
            "\u001b[1m108/108\u001b[0m \u001b[32m━━━━━━━━━━━━━━━━━━━━\u001b[0m\u001b[37m\u001b[0m \u001b[1m0s\u001b[0m 529ms/step - accuracy: 0.9506 - loss: 0.4023\n",
            "Epoch 60: val_loss improved from 0.67206 to 0.63152, saving model to best_ensemble_model.keras\n",
            "\u001b[1m108/108\u001b[0m \u001b[32m━━━━━━━━━━━━━━━━━━━━\u001b[0m\u001b[37m\u001b[0m \u001b[1m161s\u001b[0m 971ms/step - accuracy: 0.9506 - loss: 0.4023 - val_accuracy: 0.9037 - val_loss: 0.6315 - learning_rate: 1.0000e-04\n",
            "Epoch 61/100\n",
            "\u001b[1m108/108\u001b[0m \u001b[32m━━━━━━━━━━━━━━━━━━━━\u001b[0m\u001b[37m\u001b[0m \u001b[1m0s\u001b[0m 522ms/step - accuracy: 0.9514 - loss: 0.3936\n",
            "Epoch 61: val_loss improved from 0.63152 to 0.61468, saving model to best_ensemble_model.keras\n",
            "\u001b[1m108/108\u001b[0m \u001b[32m━━━━━━━━━━━━━━━━━━━━\u001b[0m\u001b[37m\u001b[0m \u001b[1m148s\u001b[0m 1s/step - accuracy: 0.9514 - loss: 0.3937 - val_accuracy: 0.9060 - val_loss: 0.6147 - learning_rate: 1.0000e-04\n",
            "Epoch 62/100\n",
            "\u001b[1m108/108\u001b[0m \u001b[32m━━━━━━━━━━━━━━━━━━━━\u001b[0m\u001b[37m\u001b[0m \u001b[1m0s\u001b[0m 519ms/step - accuracy: 0.9497 - loss: 0.3886\n",
            "Epoch 62: val_loss did not improve from 0.61468\n",
            "\u001b[1m108/108\u001b[0m \u001b[32m━━━━━━━━━━━━━━━━━━━━\u001b[0m\u001b[37m\u001b[0m \u001b[1m117s\u001b[0m 790ms/step - accuracy: 0.9497 - loss: 0.3885 - val_accuracy: 0.8921 - val_loss: 0.6548 - learning_rate: 1.0000e-04\n",
            "Epoch 63/100\n",
            "\u001b[1m108/108\u001b[0m \u001b[32m━━━━━━━━━━━━━━━━━━━━\u001b[0m\u001b[37m\u001b[0m \u001b[1m0s\u001b[0m 531ms/step - accuracy: 0.9490 - loss: 0.3592\n",
            "Epoch 63: val_loss did not improve from 0.61468\n",
            "\u001b[1m108/108\u001b[0m \u001b[32m━━━━━━━━━━━━━━━━━━━━\u001b[0m\u001b[37m\u001b[0m \u001b[1m147s\u001b[0m 835ms/step - accuracy: 0.9490 - loss: 0.3593 - val_accuracy: 0.8968 - val_loss: 0.6459 - learning_rate: 1.0000e-04\n",
            "Epoch 64/100\n",
            "\u001b[1m108/108\u001b[0m \u001b[32m━━━━━━━━━━━━━━━━━━━━\u001b[0m\u001b[37m\u001b[0m \u001b[1m0s\u001b[0m 521ms/step - accuracy: 0.9524 - loss: 0.3528\n",
            "Epoch 64: val_loss did not improve from 0.61468\n",
            "\u001b[1m108/108\u001b[0m \u001b[32m━━━━━━━━━━━━━━━━━━━━\u001b[0m\u001b[37m\u001b[0m \u001b[1m106s\u001b[0m 831ms/step - accuracy: 0.9523 - loss: 0.3530 - val_accuracy: 0.8968 - val_loss: 0.6398 - learning_rate: 1.0000e-04\n",
            "Epoch 65/100\n",
            "\u001b[1m108/108\u001b[0m \u001b[32m━━━━━━━━━━━━━━━━━━━━\u001b[0m\u001b[37m\u001b[0m \u001b[1m0s\u001b[0m 528ms/step - accuracy: 0.9461 - loss: 0.3890\n",
            "Epoch 65: val_loss did not improve from 0.61468\n",
            "\u001b[1m108/108\u001b[0m \u001b[32m━━━━━━━━━━━━━━━━━━━━\u001b[0m\u001b[37m\u001b[0m \u001b[1m141s\u001b[0m 829ms/step - accuracy: 0.9461 - loss: 0.3889 - val_accuracy: 0.8944 - val_loss: 0.6406 - learning_rate: 1.0000e-04\n",
            "Epoch 66/100\n",
            "\u001b[1m108/108\u001b[0m \u001b[32m━━━━━━━━━━━━━━━━━━━━\u001b[0m\u001b[37m\u001b[0m \u001b[1m0s\u001b[0m 520ms/step - accuracy: 0.9452 - loss: 0.3558\n",
            "Epoch 66: val_loss did not improve from 0.61468\n",
            "\n",
            "Epoch 66: ReduceLROnPlateau reducing learning rate to 4.999999873689376e-05.\n",
            "\u001b[1m108/108\u001b[0m \u001b[32m━━━━━━━━━━━━━━━━━━━━\u001b[0m\u001b[37m\u001b[0m \u001b[1m106s\u001b[0m 829ms/step - accuracy: 0.9452 - loss: 0.3558 - val_accuracy: 0.8979 - val_loss: 0.6312 - learning_rate: 1.0000e-04\n",
            "Epoch 67/100\n",
            "\u001b[1m108/108\u001b[0m \u001b[32m━━━━━━━━━━━━━━━━━━━━\u001b[0m\u001b[37m\u001b[0m \u001b[1m0s\u001b[0m 517ms/step - accuracy: 0.9446 - loss: 0.3404\n",
            "Epoch 67: val_loss improved from 0.61468 to 0.56502, saving model to best_ensemble_model.keras\n",
            "\u001b[1m108/108\u001b[0m \u001b[32m━━━━━━━━━━━━━━━━━━━━\u001b[0m\u001b[37m\u001b[0m \u001b[1m157s\u001b[0m 983ms/step - accuracy: 0.9446 - loss: 0.3403 - val_accuracy: 0.9211 - val_loss: 0.5650 - learning_rate: 5.0000e-05\n",
            "Epoch 68/100\n",
            "\u001b[1m108/108\u001b[0m \u001b[32m━━━━━━━━━━━━━━━━━━━━\u001b[0m\u001b[37m\u001b[0m \u001b[1m0s\u001b[0m 530ms/step - accuracy: 0.9584 - loss: 0.3068\n",
            "Epoch 68: val_loss improved from 0.56502 to 0.55877, saving model to best_ensemble_model.keras\n",
            "\u001b[1m108/108\u001b[0m \u001b[32m━━━━━━━━━━━━━━━━━━━━\u001b[0m\u001b[37m\u001b[0m \u001b[1m144s\u001b[0m 1s/step - accuracy: 0.9584 - loss: 0.3069 - val_accuracy: 0.8910 - val_loss: 0.5588 - learning_rate: 5.0000e-05\n",
            "Epoch 69/100\n",
            "\u001b[1m108/108\u001b[0m \u001b[32m━━━━━━━━━━━━━━━━━━━━\u001b[0m\u001b[37m\u001b[0m \u001b[1m0s\u001b[0m 538ms/step - accuracy: 0.9614 - loss: 0.2883\n",
            "Epoch 69: val_loss improved from 0.55877 to 0.54241, saving model to best_ensemble_model.keras\n",
            "\u001b[1m108/108\u001b[0m \u001b[32m━━━━━━━━━━━━━━━━━━━━\u001b[0m\u001b[37m\u001b[0m \u001b[1m125s\u001b[0m 1s/step - accuracy: 0.9614 - loss: 0.2883 - val_accuracy: 0.9130 - val_loss: 0.5424 - learning_rate: 5.0000e-05\n",
            "Epoch 70/100\n",
            "\u001b[1m108/108\u001b[0m \u001b[32m━━━━━━━━━━━━━━━━━━━━\u001b[0m\u001b[37m\u001b[0m \u001b[1m0s\u001b[0m 534ms/step - accuracy: 0.9648 - loss: 0.2888\n",
            "Epoch 70: val_loss improved from 0.54241 to 0.52651, saving model to best_ensemble_model.keras\n",
            "\u001b[1m108/108\u001b[0m \u001b[32m━━━━━━━━━━━━━━━━━━━━\u001b[0m\u001b[37m\u001b[0m \u001b[1m143s\u001b[0m 1s/step - accuracy: 0.9648 - loss: 0.2888 - val_accuracy: 0.9072 - val_loss: 0.5265 - learning_rate: 5.0000e-05\n",
            "Epoch 71/100\n",
            "\u001b[1m108/108\u001b[0m \u001b[32m━━━━━━━━━━━━━━━━━━━━\u001b[0m\u001b[37m\u001b[0m \u001b[1m0s\u001b[0m 516ms/step - accuracy: 0.9674 - loss: 0.2782\n",
            "Epoch 71: val_loss did not improve from 0.52651\n",
            "\u001b[1m108/108\u001b[0m \u001b[32m━━━━━━━━━━━━━━━━━━━━\u001b[0m\u001b[37m\u001b[0m \u001b[1m119s\u001b[0m 795ms/step - accuracy: 0.9673 - loss: 0.2783 - val_accuracy: 0.8910 - val_loss: 0.5675 - learning_rate: 5.0000e-05\n",
            "Epoch 72/100\n",
            "\u001b[1m108/108\u001b[0m \u001b[32m━━━━━━━━━━━━━━━━━━━━\u001b[0m\u001b[37m\u001b[0m \u001b[1m0s\u001b[0m 524ms/step - accuracy: 0.9600 - loss: 0.2808\n",
            "Epoch 72: val_loss did not improve from 0.52651\n",
            "\u001b[1m108/108\u001b[0m \u001b[32m━━━━━━━━━━━━━━━━━━━━\u001b[0m\u001b[37m\u001b[0m \u001b[1m102s\u001b[0m 795ms/step - accuracy: 0.9600 - loss: 0.2808 - val_accuracy: 0.9049 - val_loss: 0.5567 - learning_rate: 5.0000e-05\n",
            "Epoch 73/100\n",
            "\u001b[1m108/108\u001b[0m \u001b[32m━━━━━━━━━━━━━━━━━━━━\u001b[0m\u001b[37m\u001b[0m \u001b[1m0s\u001b[0m 521ms/step - accuracy: 0.9583 - loss: 0.3000\n",
            "Epoch 73: val_loss improved from 0.52651 to 0.50927, saving model to best_ensemble_model.keras\n",
            "\u001b[1m108/108\u001b[0m \u001b[32m━━━━━━━━━━━━━━━━━━━━\u001b[0m\u001b[37m\u001b[0m \u001b[1m119s\u001b[0m 958ms/step - accuracy: 0.9583 - loss: 0.2998 - val_accuracy: 0.9153 - val_loss: 0.5093 - learning_rate: 5.0000e-05\n",
            "Epoch 74/100\n",
            "\u001b[1m108/108\u001b[0m \u001b[32m━━━━━━━━━━━━━━━━━━━━\u001b[0m\u001b[37m\u001b[0m \u001b[1m0s\u001b[0m 531ms/step - accuracy: 0.9473 - loss: 0.3001\n",
            "Epoch 74: val_loss did not improve from 0.50927\n",
            "\u001b[1m108/108\u001b[0m \u001b[32m━━━━━━━━━━━━━━━━━━━━\u001b[0m\u001b[37m\u001b[0m \u001b[1m129s\u001b[0m 839ms/step - accuracy: 0.9473 - loss: 0.3000 - val_accuracy: 0.9014 - val_loss: 0.5247 - learning_rate: 5.0000e-05\n",
            "Epoch 75/100\n",
            "\u001b[1m108/108\u001b[0m \u001b[32m━━━━━━━━━━━━━━━━━━━━\u001b[0m\u001b[37m\u001b[0m \u001b[1m0s\u001b[0m 522ms/step - accuracy: 0.9598 - loss: 0.2682\n",
            "Epoch 75: val_loss improved from 0.50927 to 0.48738, saving model to best_ensemble_model.keras\n",
            "\u001b[1m108/108\u001b[0m \u001b[32m━━━━━━━━━━━━━━━━━━━━\u001b[0m\u001b[37m\u001b[0m \u001b[1m132s\u001b[0m 1s/step - accuracy: 0.9598 - loss: 0.2683 - val_accuracy: 0.9084 - val_loss: 0.4874 - learning_rate: 5.0000e-05\n",
            "Epoch 76/100\n",
            "\u001b[1m108/108\u001b[0m \u001b[32m━━━━━━━━━━━━━━━━━━━━\u001b[0m\u001b[37m\u001b[0m \u001b[1m0s\u001b[0m 538ms/step - accuracy: 0.9548 - loss: 0.2823\n",
            "Epoch 76: val_loss did not improve from 0.48738\n",
            "\u001b[1m108/108\u001b[0m \u001b[32m━━━━━━━━━━━━━━━━━━━━\u001b[0m\u001b[37m\u001b[0m \u001b[1m117s\u001b[0m 842ms/step - accuracy: 0.9548 - loss: 0.2823 - val_accuracy: 0.9118 - val_loss: 0.4950 - learning_rate: 5.0000e-05\n",
            "Epoch 77/100\n",
            "\u001b[1m108/108\u001b[0m \u001b[32m━━━━━━━━━━━━━━━━━━━━\u001b[0m\u001b[37m\u001b[0m \u001b[1m0s\u001b[0m 524ms/step - accuracy: 0.9593 - loss: 0.2697\n",
            "Epoch 77: val_loss improved from 0.48738 to 0.47805, saving model to best_ensemble_model.keras\n",
            "\u001b[1m108/108\u001b[0m \u001b[32m━━━━━━━━━━━━━━━━━━━━\u001b[0m\u001b[37m\u001b[0m \u001b[1m128s\u001b[0m 1s/step - accuracy: 0.9594 - loss: 0.2696 - val_accuracy: 0.9142 - val_loss: 0.4780 - learning_rate: 5.0000e-05\n",
            "Epoch 78/100\n",
            "\u001b[1m108/108\u001b[0m \u001b[32m━━━━━━━━━━━━━━━━━━━━\u001b[0m\u001b[37m\u001b[0m \u001b[1m0s\u001b[0m 536ms/step - accuracy: 0.9657 - loss: 0.2414\n",
            "Epoch 78: val_loss did not improve from 0.47805\n",
            "\u001b[1m108/108\u001b[0m \u001b[32m━━━━━━━━━━━━━━━━━━━━\u001b[0m\u001b[37m\u001b[0m \u001b[1m120s\u001b[0m 836ms/step - accuracy: 0.9657 - loss: 0.2414 - val_accuracy: 0.9142 - val_loss: 0.4867 - learning_rate: 5.0000e-05\n",
            "Epoch 79/100\n",
            "\u001b[1m108/108\u001b[0m \u001b[32m━━━━━━━━━━━━━━━━━━━━\u001b[0m\u001b[37m\u001b[0m \u001b[1m0s\u001b[0m 525ms/step - accuracy: 0.9625 - loss: 0.2426\n",
            "Epoch 79: val_loss did not improve from 0.47805\n",
            "\u001b[1m108/108\u001b[0m \u001b[32m━━━━━━━━━━━━━━━━━━━━\u001b[0m\u001b[37m\u001b[0m \u001b[1m104s\u001b[0m 803ms/step - accuracy: 0.9625 - loss: 0.2426 - val_accuracy: 0.9049 - val_loss: 0.4948 - learning_rate: 5.0000e-05\n",
            "Epoch 80/100\n",
            "\u001b[1m108/108\u001b[0m \u001b[32m━━━━━━━━━━━━━━━━━━━━\u001b[0m\u001b[37m\u001b[0m \u001b[1m0s\u001b[0m 528ms/step - accuracy: 0.9685 - loss: 0.2336\n",
            "Epoch 80: val_loss did not improve from 0.47805\n",
            "\u001b[1m108/108\u001b[0m \u001b[32m━━━━━━━━━━━━━━━━━━━━\u001b[0m\u001b[37m\u001b[0m \u001b[1m140s\u001b[0m 802ms/step - accuracy: 0.9685 - loss: 0.2337 - val_accuracy: 0.8875 - val_loss: 0.5881 - learning_rate: 5.0000e-05\n",
            "Epoch 81/100\n",
            "\u001b[1m108/108\u001b[0m \u001b[32m━━━━━━━━━━━━━━━━━━━━\u001b[0m\u001b[37m\u001b[0m \u001b[1m0s\u001b[0m 538ms/step - accuracy: 0.9642 - loss: 0.2507\n",
            "Epoch 81: val_loss did not improve from 0.47805\n",
            "\u001b[1m108/108\u001b[0m \u001b[32m━━━━━━━━━━━━━━━━━━━━\u001b[0m\u001b[37m\u001b[0m \u001b[1m146s\u001b[0m 845ms/step - accuracy: 0.9642 - loss: 0.2507 - val_accuracy: 0.8910 - val_loss: 0.5456 - learning_rate: 5.0000e-05\n",
            "Epoch 82/100\n",
            "\u001b[1m108/108\u001b[0m \u001b[32m━━━━━━━━━━━━━━━━━━━━\u001b[0m\u001b[37m\u001b[0m \u001b[1m0s\u001b[0m 525ms/step - accuracy: 0.9554 - loss: 0.2572\n",
            "Epoch 82: val_loss improved from 0.47805 to 0.47091, saving model to best_ensemble_model.keras\n",
            "\u001b[1m108/108\u001b[0m \u001b[32m━━━━━━━━━━━━━━━━━━━━\u001b[0m\u001b[37m\u001b[0m \u001b[1m161s\u001b[0m 1s/step - accuracy: 0.9554 - loss: 0.2571 - val_accuracy: 0.9118 - val_loss: 0.4709 - learning_rate: 5.0000e-05\n",
            "Epoch 83/100\n",
            "\u001b[1m108/108\u001b[0m \u001b[32m━━━━━━━━━━━━━━━━━━━━\u001b[0m\u001b[37m\u001b[0m \u001b[1m0s\u001b[0m 538ms/step - accuracy: 0.9649 - loss: 0.2321\n",
            "Epoch 83: val_loss did not improve from 0.47091\n",
            "\u001b[1m108/108\u001b[0m \u001b[32m━━━━━━━━━━━━━━━━━━━━\u001b[0m\u001b[37m\u001b[0m \u001b[1m123s\u001b[0m 842ms/step - accuracy: 0.9648 - loss: 0.2322 - val_accuracy: 0.9084 - val_loss: 0.4984 - learning_rate: 5.0000e-05\n",
            "Epoch 84/100\n",
            "\u001b[1m108/108\u001b[0m \u001b[32m━━━━━━━━━━━━━━━━━━━━\u001b[0m\u001b[37m\u001b[0m \u001b[1m0s\u001b[0m 524ms/step - accuracy: 0.9701 - loss: 0.2199\n",
            "Epoch 84: val_loss did not improve from 0.47091\n",
            "\u001b[1m108/108\u001b[0m \u001b[32m━━━━━━━━━━━━━━━━━━━━\u001b[0m\u001b[37m\u001b[0m \u001b[1m103s\u001b[0m 799ms/step - accuracy: 0.9701 - loss: 0.2200 - val_accuracy: 0.9118 - val_loss: 0.5445 - learning_rate: 5.0000e-05\n",
            "Epoch 85/100\n",
            "\u001b[1m108/108\u001b[0m \u001b[32m━━━━━━━━━━━━━━━━━━━━\u001b[0m\u001b[37m\u001b[0m \u001b[1m0s\u001b[0m 542ms/step - accuracy: 0.9646 - loss: 0.2235\n",
            "Epoch 85: val_loss did not improve from 0.47091\n",
            "\u001b[1m108/108\u001b[0m \u001b[32m━━━━━━━━━━━━━━━━━━━━\u001b[0m\u001b[37m\u001b[0m \u001b[1m105s\u001b[0m 820ms/step - accuracy: 0.9646 - loss: 0.2236 - val_accuracy: 0.9037 - val_loss: 0.5082 - learning_rate: 5.0000e-05\n",
            "Epoch 86/100\n",
            "\u001b[1m108/108\u001b[0m \u001b[32m━━━━━━━━━━━━━━━━━━━━\u001b[0m\u001b[37m\u001b[0m \u001b[1m0s\u001b[0m 536ms/step - accuracy: 0.9614 - loss: 0.2305\n",
            "Epoch 86: val_loss did not improve from 0.47091\n",
            "\u001b[1m108/108\u001b[0m \u001b[32m━━━━━━━━━━━━━━━━━━━━\u001b[0m\u001b[37m\u001b[0m \u001b[1m107s\u001b[0m 844ms/step - accuracy: 0.9614 - loss: 0.2304 - val_accuracy: 0.8886 - val_loss: 0.5390 - learning_rate: 5.0000e-05\n",
            "Epoch 87/100\n",
            "\u001b[1m108/108\u001b[0m \u001b[32m━━━━━━━━━━━━━━━━━━━━\u001b[0m\u001b[37m\u001b[0m \u001b[1m0s\u001b[0m 519ms/step - accuracy: 0.9644 - loss: 0.2273\n",
            "Epoch 87: val_loss did not improve from 0.47091\n",
            "\n",
            "Epoch 87: ReduceLROnPlateau reducing learning rate to 2.499999936844688e-05.\n",
            "\u001b[1m108/108\u001b[0m \u001b[32m━━━━━━━━━━━━━━━━━━━━\u001b[0m\u001b[37m\u001b[0m \u001b[1m141s\u001b[0m 828ms/step - accuracy: 0.9644 - loss: 0.2273 - val_accuracy: 0.9095 - val_loss: 0.5414 - learning_rate: 5.0000e-05\n",
            "Epoch 88/100\n",
            "\u001b[1m108/108\u001b[0m \u001b[32m━━━━━━━━━━━━━━━━━━━━\u001b[0m\u001b[37m\u001b[0m \u001b[1m0s\u001b[0m 526ms/step - accuracy: 0.9669 - loss: 0.2150\n",
            "Epoch 88: val_loss did not improve from 0.47091\n",
            "\u001b[1m108/108\u001b[0m \u001b[32m━━━━━━━━━━━━━━━━━━━━\u001b[0m\u001b[37m\u001b[0m \u001b[1m137s\u001b[0m 801ms/step - accuracy: 0.9669 - loss: 0.2150 - val_accuracy: 0.9026 - val_loss: 0.5064 - learning_rate: 2.5000e-05\n",
            "Epoch 89/100\n",
            "\u001b[1m108/108\u001b[0m \u001b[32m━━━━━━━━━━━━━━━━━━━━\u001b[0m\u001b[37m\u001b[0m \u001b[1m0s\u001b[0m 538ms/step - accuracy: 0.9637 - loss: 0.2189\n",
            "Epoch 89: val_loss did not improve from 0.47091\n",
            "\u001b[1m108/108\u001b[0m \u001b[32m━━━━━━━━━━━━━━━━━━━━\u001b[0m\u001b[37m\u001b[0m \u001b[1m147s\u001b[0m 845ms/step - accuracy: 0.9637 - loss: 0.2188 - val_accuracy: 0.9072 - val_loss: 0.5105 - learning_rate: 2.5000e-05\n",
            "Epoch 90/100\n",
            "\u001b[1m108/108\u001b[0m \u001b[32m━━━━━━━━━━━━━━━━━━━━\u001b[0m\u001b[37m\u001b[0m \u001b[1m0s\u001b[0m 526ms/step - accuracy: 0.9683 - loss: 0.2011\n",
            "Epoch 90: val_loss did not improve from 0.47091\n",
            "\u001b[1m108/108\u001b[0m \u001b[32m━━━━━━━━━━━━━━━━━━━━\u001b[0m\u001b[37m\u001b[0m \u001b[1m145s\u001b[0m 835ms/step - accuracy: 0.9683 - loss: 0.2011 - val_accuracy: 0.9060 - val_loss: 0.4980 - learning_rate: 2.5000e-05\n",
            "Epoch 91/100\n",
            "\u001b[1m108/108\u001b[0m \u001b[32m━━━━━━━━━━━━━━━━━━━━\u001b[0m\u001b[37m\u001b[0m \u001b[1m0s\u001b[0m 516ms/step - accuracy: 0.9705 - loss: 0.1986\n",
            "Epoch 91: val_loss did not improve from 0.47091\n",
            "\u001b[1m108/108\u001b[0m \u001b[32m━━━━━━━━━━━━━━━━━━━━\u001b[0m\u001b[37m\u001b[0m \u001b[1m133s\u001b[0m 786ms/step - accuracy: 0.9705 - loss: 0.1986 - val_accuracy: 0.9037 - val_loss: 0.4925 - learning_rate: 2.5000e-05\n",
            "Epoch 92/100\n",
            "\u001b[1m108/108\u001b[0m \u001b[32m━━━━━━━━━━━━━━━━━━━━\u001b[0m\u001b[37m\u001b[0m \u001b[1m0s\u001b[0m 528ms/step - accuracy: 0.9725 - loss: 0.2027\n",
            "Epoch 92: val_loss did not improve from 0.47091\n",
            "\n",
            "Epoch 92: ReduceLROnPlateau reducing learning rate to 1.249999968422344e-05.\n",
            "\u001b[1m108/108\u001b[0m \u001b[32m━━━━━━━━━━━━━━━━━━━━\u001b[0m\u001b[37m\u001b[0m \u001b[1m152s\u001b[0m 883ms/step - accuracy: 0.9724 - loss: 0.2027 - val_accuracy: 0.9049 - val_loss: 0.5013 - learning_rate: 2.5000e-05\n"
          ]
        }
      ]
    },
    {
      "cell_type": "code",
      "source": [
        "# Gráfica de la pérdida y precisión\n",
        "metrics = history.history\n",
        "plt.figure(figsize=(16, 6))\n",
        "\n",
        "# Pérdida\n",
        "plt.subplot(1, 2, 1)\n",
        "plt.plot(history.epoch, metrics['loss'], label='Entrenamiento')\n",
        "plt.plot(history.epoch, metrics['val_loss'], label='Validación')\n",
        "plt.legend()\n",
        "plt.ylim([0, max(metrics['loss'] + metrics['val_loss'])])\n",
        "plt.ylabel('Pérdida')\n",
        "plt.xlabel('Época')\n",
        "plt.title('Pérdida durante el Entrenamiento')\n",
        "\n",
        "# Precisión\n",
        "plt.subplot(1, 2, 2)\n",
        "plt.plot(history.epoch, metrics['accuracy'], label='Entrenamiento')\n",
        "plt.plot(history.epoch, metrics['val_accuracy'], label='Validación')\n",
        "plt.legend()\n",
        "plt.ylim([0, 1])\n",
        "plt.ylabel('Precisión')\n",
        "plt.xlabel('Época')\n",
        "plt.title('Precisión durante el Entrenamiento')\n",
        "\n",
        "plt.show()"
      ],
      "metadata": {
        "id": "8aJkl2FjZ0_o",
        "colab": {
          "base_uri": "https://localhost:8080/",
          "height": 566
        },
        "outputId": "0d7d034f-374f-46ff-97d3-1e8076a99da3"
      },
      "execution_count": 21,
      "outputs": [
        {
          "output_type": "display_data",
          "data": {
            "text/plain": [
              "<Figure size 1600x600 with 2 Axes>"
            ],
            "image/png": "[encoded data removed]"
          },
          "metadata": {}
        }
      ]
    },
    {
      "cell_type": "code",
      "source": [
        "# Evaluar el modelo en el conjunto de validación\n",
        "val_results = ensemble_model.evaluate(val_ds, return_dict=True)\n",
        "print(\"Resultados de evaluación en el conjunto de validación:\")\n",
        "for metric, value in val_results.items():\n",
        "    print(f\"{metric}: {value:.4f}\")"
      ],
      "metadata": {
        "id": "MViiuuDMZ3aZ",
        "colab": {
          "base_uri": "https://localhost:8080/"
        },
        "outputId": "b6fa1e67-1776-4cdd-aac6-9bedd22bfa32"
      },
      "execution_count": 22,
      "outputs": [
        {
          "output_type": "stream",
          "name": "stdout",
          "text": [
            "\u001b[1m27/27\u001b[0m \u001b[32m━━━━━━━━━━━━━━━━━━━━\u001b[0m\u001b[37m\u001b[0m \u001b[1m17s\u001b[0m 619ms/step - accuracy: 0.9103 - loss: 0.5102\n",
            "Resultados de evaluación en el conjunto de validación:\n",
            "accuracy: 0.9060\n",
            "loss: 0.5013\n"
          ]
        }
      ]
    },
    {
      "cell_type": "code",
      "source": [
        "# Obtener predicciones\n",
        "y_pred_probs = ensemble_model.predict(val_ds)\n",
        "y_pred = np.argmax(y_pred_probs, axis=1)"
      ],
      "metadata": {
        "id": "5WGjuvyUZ4eK",
        "colab": {
          "base_uri": "https://localhost:8080/"
        },
        "outputId": "1cb861f6-7cdf-4fc0-ca61-2ccae32edf68"
      },
      "execution_count": 23,
      "outputs": [
        {
          "output_type": "stream",
          "name": "stdout",
          "text": [
            "\u001b[1m27/27\u001b[0m \u001b[32m━━━━━━━━━━━━━━━━━━━━\u001b[0m\u001b[37m\u001b[0m \u001b[1m42s\u001b[0m 1s/step\n"
          ]
        }
      ]
    },
    {
      "cell_type": "code",
      "source": [
        "# Obtener etiquetas verdaderas\n",
        "y_true = np.concatenate([y for x, y in val_ds], axis=0)"
      ],
      "metadata": {
        "id": "5TtVpDLCZ6Tq"
      },
      "execution_count": 24,
      "outputs": []
    },
    {
      "cell_type": "code",
      "source": [
        "# Calcular la matriz de confusión\n",
        "conf_matrix = tf.math.confusion_matrix(y_true, y_pred).numpy()"
      ],
      "metadata": {
        "id": "vTI4ABefZ7ZM"
      },
      "execution_count": 25,
      "outputs": []
    },
    {
      "cell_type": "code",
      "source": [
        "# Visualizar la matriz de confusión\n",
        "plt.figure(figsize=(10, 8))\n",
        "sns.heatmap(conf_matrix, xticklabels=class_names, yticklabels=class_names, annot=True, fmt='g', cmap='Blues')\n",
        "plt.xlabel('Predicción')\n",
        "plt.ylabel('Etiqueta Verdadera')\n",
        "plt.title('Matriz de Confusión')\n",
        "plt.show()"
      ],
      "metadata": {
        "id": "le9XRcqWZ8-F",
        "colab": {
          "base_uri": "https://localhost:8080/",
          "height": 718
        },
        "outputId": "c33ee51a-58be-4cde-e4a4-6c435a02a107"
      },
      "execution_count": 26,
      "outputs": [
        {
          "output_type": "display_data",
          "data": {
            "text/plain": [
              "<Figure size 1000x800 with 2 Axes>"
            ],
            "image/png": "[encoded data removed]"
          },
          "metadata": {}
        }
      ]
    },
    {
      "cell_type": "code",
      "source": [
        "# Reporte de clasificación\n",
        "print(\"Reporte de clasificación:\")\n",
        "print(classification_report(y_true, y_pred, target_names=class_names))"
      ],
      "metadata": {
        "id": "WoltQ5M7Z-LU",
        "colab": {
          "base_uri": "https://localhost:8080/"
        },
        "outputId": "10ef3f7e-4c5c-48e0-ef66-28f850b6ecbe"
      },
      "execution_count": 27,
      "outputs": [
        {
          "output_type": "stream",
          "name": "stdout",
          "text": [
            "Reporte de clasificación:\n",
            "                  precision    recall  f1-score   support\n",
            "\n",
            "Chinche salivosa       0.94      0.92      0.93       165\n",
            "        Clororis       0.91      0.94      0.93       114\n",
            "       Hoja sana       0.93      0.95      0.94       169\n",
            "    Roya naranja       0.87      0.88      0.88       232\n",
            "    Roya purpura       0.88      0.86      0.87       182\n",
            "\n",
            "        accuracy                           0.90       862\n",
            "       macro avg       0.91      0.91      0.91       862\n",
            "    weighted avg       0.90      0.90      0.90       862\n",
            "\n"
          ]
        }
      ]
    }
  ]
}
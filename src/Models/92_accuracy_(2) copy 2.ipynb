{
  "cells": [
    {
      "cell_type": "code",
      "execution_count": 1,
      "metadata": {
        "colab": {
          "base_uri": "https://localhost:8080/"
        },
        "id": "cR1bP1llhb9I",
        "outputId": "2aa57d3b-cf9b-4c74-cf63-19e7a7e16191"
      },
      "outputs": [],
      "source": [
        "# !pip install arcgis"
      ]
    },
    {
      "cell_type": "code",
      "execution_count": 2,
      "metadata": {},
      "outputs": [
        {
          "name": "stderr",
          "output_type": "stream",
          "text": [
            "C:\\Users\\ealda\\AppData\\Local\\Packages\\PythonSoftwareFoundation.Python.3.11_qbz5n2kfra8p0\\LocalCache\\local-packages\\Python311\\site-packages\\dask\\dataframe\\__init__.py:42: FutureWarning: \n",
            "Dask dataframe query planning is disabled because dask-expr is not installed.\n",
            "\n",
            "You can install it with `pip install dask[dataframe]` or `conda install dask`.\n",
            "This will raise in a future version.\n",
            "\n",
            "  warnings.warn(msg, FutureWarning)\n"
          ]
        }
      ],
      "source": [
        "\"\"\"Plague Classification Model with ArcGIS Data\"\"\"\n",
        "\n",
        "import os\n",
        "import shutil\n",
        "import numpy as np\n",
        "import tensorflow as tf\n",
        "import matplotlib.pyplot as plt\n",
        "import seaborn as sns\n",
        "from tensorflow.keras.preprocessing import image_dataset_from_directory\n",
        "from arcgis.gis import GIS\n",
        "from PIL import Image\n",
        "import logging\n",
        "import time\n",
        "from concurrent.futures import ThreadPoolExecutor, as_completed\n"
      ]
    },
    {
      "cell_type": "code",
      "execution_count": 3,
      "metadata": {},
      "outputs": [],
      "source": [
        "# Parámetros de la red\n",
        "EPOCHS = 50\n",
        "IMAGE_SIZE = (128, 128)\n",
        "INPUT_SHAPE = (128, 128, 3)\n",
        "SEED = 123\n",
        "BATCH_SIZE = 32\n",
        "BUFFER_SIZE = 1000\n",
        "LEARNING_RATE = 0.001\n",
        "\n",
        "\n",
        "images_dir = '../last_data'"
      ]
    },
    {
      "cell_type": "code",
      "execution_count": 4,
      "metadata": {},
      "outputs": [
        {
          "name": "stdout",
          "output_type": "stream",
          "text": [
            "Found 4308 files belonging to 5 classes.\n",
            "Using 3447 files for training.\n",
            "Found 4308 files belonging to 5 classes.\n",
            "Using 861 files for validation.\n"
          ]
        }
      ],
      "source": [
        "# Cargar dataset de imágenes\n",
        "train_ds = image_dataset_from_directory(\n",
        "    images_dir,\n",
        "    labels=\"inferred\",\n",
        "    batch_size=BATCH_SIZE,\n",
        "    image_size=IMAGE_SIZE,\n",
        "    validation_split=0.2,\n",
        "    subset=\"training\",\n",
        "    seed=SEED,\n",
        "    shuffle=True\n",
        ")\n",
        "\n",
        "validation_ds = image_dataset_from_directory(\n",
        "    images_dir,\n",
        "    labels=\"inferred\",\n",
        "    batch_size=BATCH_SIZE,\n",
        "    image_size=IMAGE_SIZE,\n",
        "    validation_split=0.2,\n",
        "    subset=\"validation\",\n",
        "    seed=SEED\n",
        ")"
      ]
    },
    {
      "cell_type": "code",
      "execution_count": 5,
      "metadata": {},
      "outputs": [],
      "source": [
        "# Paso 1: Filtrar el dataset por cada clase usando tf.reduce_any para obtener un tensor booleano escalar\n",
        "chinche_salivosa_ds = train_ds.filter(lambda x, y: tf.reduce_any(tf.equal(y, 0)))\n",
        "clororis_ds = train_ds.filter(lambda x, y: tf.reduce_any(tf.equal(y, 1)))\n",
        "hoja_sana_ds = train_ds.filter(lambda x, y: tf.reduce_any(tf.equal(y, 2)))\n",
        "roya_naranja_ds = train_ds.filter(lambda x, y: tf.reduce_any(tf.equal(y, 3)))\n",
        "roya_purpura_ds = train_ds.filter(lambda x, y: tf.reduce_any(tf.equal(y, 4)))\n",
        "\n",
        "# Paso 2: Contar ejemplos manualmente\n",
        "def count_examples(dataset):\n",
        "    return dataset.reduce(0, lambda x, _: x + 1).numpy()\n",
        "\n",
        "# Obtener el tamaño de la clase mayoritaria\n",
        "chinche_salivosa_size = count_examples(chinche_salivosa_ds)\n",
        "clororis_size = count_examples(clororis_ds)\n",
        "hoja_sana_size = count_examples(hoja_sana_ds)\n",
        "roya_naranja_size = count_examples(roya_naranja_ds)\n",
        "roya_purpura_size = count_examples(roya_purpura_ds)\n",
        "\n",
        "majority_class_size = max(\n",
        "    chinche_salivosa_size,\n",
        "    clororis_size,\n",
        "    hoja_sana_size,\n",
        "    roya_naranja_size,\n",
        "    roya_purpura_size\n",
        ")\n",
        "\n",
        "# Paso 3: Sobremuestrear las clases minoritarias\n",
        "chinche_salivosa_ds = chinche_salivosa_ds.repeat().take(majority_class_size)\n",
        "clororis_ds = clororis_ds.repeat().take(majority_class_size)\n",
        "hoja_sana_ds = hoja_sana_ds.repeat().take(majority_class_size)\n",
        "roya_naranja_ds = roya_naranja_ds.repeat().take(majority_class_size)\n",
        "roya_purpura_ds = roya_purpura_ds.repeat().take(majority_class_size)\n",
        "\n",
        "# Paso 4: Concatenar los datasets sobremuestreados\n",
        "oversampled_train_ds = chinche_salivosa_ds.concatenate(clororis_ds)\n",
        "oversampled_train_ds = oversampled_train_ds.concatenate(hoja_sana_ds)\n",
        "oversampled_train_ds = oversampled_train_ds.concatenate(roya_naranja_ds)\n",
        "oversampled_train_ds = oversampled_train_ds.concatenate(roya_purpura_ds)\n",
        "\n",
        "# Paso 5: Aplicar las operaciones de optimización de cache y prefetch\n",
        "oversampled_train_ds = oversampled_train_ds.cache().shuffle(BUFFER_SIZE).prefetch(buffer_size=tf.data.AUTOTUNE)\n",
        "validation_ds = validation_ds.cache().prefetch(buffer_size=tf.data.AUTOTUNE)\n"
      ]
    },
    {
      "cell_type": "code",
      "execution_count": 6,
      "metadata": {},
      "outputs": [
        {
          "name": "stdout",
          "output_type": "stream",
          "text": [
            "Nueva distribución de clases después del sobremuestreo:\n",
            "Chinche salivosa: 539\n",
            "Clororis: 533\n",
            "Hoja sana: 540\n",
            "Roya naranja: 540\n",
            "Roya purpura: 540\n"
          ]
        }
      ],
      "source": [
        "# Paso 6: Verificar la nueva distribución de clases\n",
        "# Filtrar el dataset final por clase para contar los ejemplos nuevamente\n",
        "oversampled_chinche_salivosa_ds = oversampled_train_ds.filter(lambda x, y: tf.reduce_any(tf.equal(y, 0)))\n",
        "oversampled_clororis_ds = oversampled_train_ds.filter(lambda x, y: tf.reduce_any(tf.equal(y, 1)))\n",
        "oversampled_hoja_sana_ds = oversampled_train_ds.filter(lambda x, y: tf.reduce_any(tf.equal(y, 2)))\n",
        "oversampled_roya_naranja_ds = oversampled_train_ds.filter(lambda x, y: tf.reduce_any(tf.equal(y, 3)))\n",
        "oversampled_roya_purpura_ds = oversampled_train_ds.filter(lambda x, y: tf.reduce_any(tf.equal(y, 4)))\n",
        "\n",
        "# Contar la cantidad de ejemplos en cada clase\n",
        "oversampled_chinche_salivosa_size = count_examples(oversampled_chinche_salivosa_ds)\n",
        "oversampled_clororis_size = count_examples(oversampled_clororis_ds)\n",
        "oversampled_hoja_sana_size = count_examples(oversampled_hoja_sana_ds)\n",
        "oversampled_roya_naranja_size = count_examples(oversampled_roya_naranja_ds)\n",
        "oversampled_roya_purpura_size = count_examples(oversampled_roya_purpura_ds)\n",
        "\n",
        "# Mostrar la distribución de clases final\n",
        "print(f\"Nueva distribución de clases después del sobremuestreo:\")\n",
        "print(f\"Chinche salivosa: {oversampled_chinche_salivosa_size}\")\n",
        "print(f\"Clororis: {oversampled_clororis_size}\")\n",
        "print(f\"Hoja sana: {oversampled_hoja_sana_size}\")\n",
        "print(f\"Roya naranja: {oversampled_roya_naranja_size}\")\n",
        "print(f\"Roya purpura: {oversampled_roya_purpura_size}\")"
      ]
    },
    {
      "cell_type": "code",
      "execution_count": 7,
      "metadata": {},
      "outputs": [],
      "source": [
        "# # Data Augmentation\n",
        "# data_augmentation = tf.keras.Sequential([\n",
        "#     tf.keras.layers.RandomFlip('horizontal_and_vertical'),\n",
        "#     tf.keras.layers.RandomRotation(0.2),\n",
        "#     tf.keras.layers.RandomZoom(0.1),\n",
        "#     tf.keras.layers.RandomContrast(0.1),\n",
        "# ])"
      ]
    },
    {
      "cell_type": "code",
      "execution_count": 8,
      "metadata": {},
      "outputs": [],
      "source": [
        "# augmented_train_ds = train_ds.map(lambda x, y: (data_augmentation(x, training=True), y))"
      ]
    },
    {
      "cell_type": "code",
      "execution_count": 9,
      "metadata": {},
      "outputs": [],
      "source": [
        "class_names = train_ds.class_names"
      ]
    },
    {
      "cell_type": "code",
      "execution_count": 10,
      "metadata": {},
      "outputs": [],
      "source": [
        "# # Primero, contamos cuántos ejemplos tiene cada clase\n",
        "# class_counts = train_ds.reduce(\n",
        "#     tf.constant([0, 0, 0, 0, 0], dtype=tf.int64), \n",
        "#     lambda counts, batch: counts + tf.cast(tf.math.bincount(batch[1], minlength=5), dtype=tf.int64)\n",
        "# )"
      ]
    },
    {
      "cell_type": "code",
      "execution_count": 11,
      "metadata": {},
      "outputs": [],
      "source": [
        "\n",
        "# # Obtenemos el número máximo de ejemplos\n",
        "# max_count = tf.reduce_max(class_counts).numpy()"
      ]
    },
    {
      "cell_type": "code",
      "execution_count": 12,
      "metadata": {},
      "outputs": [],
      "source": [
        "# # Función para aplicar augmentación a las clases minoritarias\n",
        "# def augment_minority_class(x, y):\n",
        "#     augmented_x = x\n",
        "#     # Convertimos y a int32 para asegurar que funcione bien en TensorFlow\n",
        "#     y_int = tf.cast(y, tf.int32)\n",
        "    \n",
        "#     # Usamos tf.gather para obtener los valores de class_counts correspondientes a las etiquetas\n",
        "#     class_count_for_y = tf.gather(class_counts, y_int)\n",
        "    \n",
        "#     # Aplicamos augmentación si el número de ejemplos para la clase es menor al máximo\n",
        "#     should_augment = tf.less(class_count_for_y, max_count)\n",
        "    \n",
        "#     # Si should_augment es True, aplica augmentación; si no, deja la imagen como está\n",
        "#     augmented_x = tf.cond(tf.reduce_any(should_augment), lambda: data_augmentation(x, training=True), lambda: x)\n",
        "\n",
        "#     return augmented_x, y\n",
        "\n"
      ]
    },
    {
      "cell_type": "code",
      "execution_count": 13,
      "metadata": {},
      "outputs": [],
      "source": [
        "\n",
        "# # Aplicamos data augmentation a las clases minoritarias\n",
        "# augmented_train_ds = train_ds.map(lambda x, y: augment_minority_class(x, y))\n",
        "\n"
      ]
    },
    {
      "cell_type": "code",
      "execution_count": 14,
      "metadata": {},
      "outputs": [],
      "source": [
        "# # Finalmente, seguimos con el procesamiento normal de cache y prefetch\n",
        "# augmented_train_ds = augmented_train_ds.cache().shuffle(BUFFER_SIZE).prefetch(buffer_size=tf.data.AUTOTUNE)\n",
        "# validation_ds = validation_ds.cache().prefetch(buffer_size=tf.data.AUTOTUNE)"
      ]
    },
    {
      "cell_type": "code",
      "execution_count": 15,
      "metadata": {},
      "outputs": [],
      "source": [
        "# # Cache y prefetch para mejorar rendimiento\n",
        "# train_ds = train_ds.cache().shuffle(BUFFER_SIZE).prefetch(buffer_size=tf.data.AUTOTUNE)\n",
        "# validation_ds = validation_ds.cache().prefetch(buffer_size=tf.data.AUTOTUNE)"
      ]
    },
    {
      "cell_type": "code",
      "execution_count": 16,
      "metadata": {},
      "outputs": [],
      "source": [
        "from tensorflow.keras import layers\n",
        "from tensorflow.keras.callbacks import EarlyStopping, ReduceLROnPlateau\n",
        "# Cargar el modelo base (MobileNetV2) \n",
        "from tensorflow.keras.applications import MobileNetV2\n",
        "\n",
        "\n",
        "# Cargar el modelo base (MobileNetV2)\n",
        "base_model = MobileNetV2(input_shape=INPUT_SHAPE,\n",
        "                         include_top=False,\n",
        "                         weights='imagenet')"
      ]
    },
    {
      "cell_type": "code",
      "execution_count": 17,
      "metadata": {},
      "outputs": [],
      "source": [
        "# Ajuste de las capas del modelo base\n",
        "for layer in base_model.layers[:100]:  # Ajusta según sea necesario\n",
        "    layer.trainable = False"
      ]
    },
    {
      "cell_type": "code",
      "execution_count": 18,
      "metadata": {},
      "outputs": [],
      "source": [
        "\n",
        "# Definir el modelo\n",
        "model = tf.keras.models.Sequential([\n",
        "    tf.keras.layers.Rescaling(1./255),\n",
        "    base_model,\n",
        "    tf.keras.layers.GlobalAveragePooling2D(),\n",
        "    tf.keras.layers.Flatten(),\n",
        "    tf.keras.layers.Dense(64, activation='relu', kernel_regularizer=tf.keras.regularizers.l2(0.01)),\n",
        "    tf.keras.layers.Dropout(0.5),  # Aumentar dropout\n",
        "    tf.keras.layers.Dense(len(class_names))\n",
        "])\n"
      ]
    },
    {
      "cell_type": "code",
      "execution_count": 19,
      "metadata": {},
      "outputs": [],
      "source": [
        "# Compilar el modelo\n",
        "lr_schedule = tf.keras.optimizers.schedules.ExponentialDecay(\n",
        "    initial_learning_rate=LEARNING_RATE,\n",
        "    decay_steps=10000,\n",
        "    decay_rate=0.9,\n",
        "    staircase=True\n",
        ")"
      ]
    },
    {
      "cell_type": "code",
      "execution_count": 20,
      "metadata": {},
      "outputs": [],
      "source": [
        "# Elimina el lr_schedule y usa un valor fijo para la tasa de aprendizaje\n",
        "model.compile(optimizer=tf.keras.optimizers.Adam(learning_rate=LEARNING_RATE),  # tasa de aprendizaje fija\n",
        "              loss=tf.keras.losses.SparseCategoricalCrossentropy(from_logits=True),\n",
        "              metrics=['accuracy'])"
      ]
    },
    {
      "cell_type": "code",
      "execution_count": 21,
      "metadata": {},
      "outputs": [
        {
          "name": "stdout",
          "output_type": "stream",
          "text": [
            "No se encontró ninguna GPU, TensorFlow usará la CPU.\n"
          ]
        },
        {
          "ename": "",
          "evalue": "",
          "output_type": "error",
          "traceback": [
            "\u001b[1;31mThe Kernel crashed while executing code in the current cell or a previous cell. \n",
            "\u001b[1;31mPlease review the code in the cell(s) to identify a possible cause of the failure. \n",
            "\u001b[1;31mClick <a href='https://aka.ms/vscodeJupyterKernelCrash'>here</a> for more info. \n",
            "\u001b[1;31mView Jupyter <a href='command:jupyter.viewOutput'>log</a> for further details."
          ]
        }
      ],
      "source": [
        "import tensorflow as tf\n",
        "\n",
        "# Verificar si TensorFlow detecta la GPU\n",
        "gpus = tf.config.list_physical_devices('GPU')\n",
        "if gpus:\n",
        "    print(f\"Se encontraron {len(gpus)} GPU(s): {gpus}\")\n",
        "else:\n",
        "    print(\"No se encontró ninguna GPU, TensorFlow usará la CPU.\")\n"
      ]
    },
    {
      "cell_type": "code",
      "execution_count": 47,
      "metadata": {},
      "outputs": [
        {
          "name": "stdout",
          "output_type": "stream",
          "text": [
            "Epoch 1/50\n",
            "\u001b[1m540/540\u001b[0m \u001b[32m━━━━━━━━━━━━━━━━━━━━\u001b[0m\u001b[37m\u001b[0m \u001b[1m158s\u001b[0m 267ms/step - accuracy: 0.7857 - loss: 1.4063 - val_accuracy: 0.7189 - val_loss: 1.7545 - learning_rate: 0.0010\n",
            "Epoch 2/50\n",
            "\u001b[1m540/540\u001b[0m \u001b[32m━━━━━━━━━━━━━━━━━━━━\u001b[0m\u001b[37m\u001b[0m \u001b[1m147s\u001b[0m 271ms/step - accuracy: 0.9353 - loss: 0.2904 - val_accuracy: 0.4576 - val_loss: 8.6605 - learning_rate: 0.0010\n",
            "Epoch 3/50\n",
            "\u001b[1m540/540\u001b[0m \u001b[32m━━━━━━━━━━━━━━━━━━━━\u001b[0m\u001b[37m\u001b[0m \u001b[1m141s\u001b[0m 261ms/step - accuracy: 0.9614 - loss: 0.1779 - val_accuracy: 0.8455 - val_loss: 1.1821 - learning_rate: 0.0010\n",
            "Epoch 4/50\n",
            "\u001b[1m540/540\u001b[0m \u001b[32m━━━━━━━━━━━━━━━━━━━━\u001b[0m\u001b[37m\u001b[0m \u001b[1m143s\u001b[0m 265ms/step - accuracy: 0.9713 - loss: 0.1405 - val_accuracy: 0.6655 - val_loss: 3.1938 - learning_rate: 0.0010\n",
            "Epoch 5/50\n",
            "\u001b[1m540/540\u001b[0m \u001b[32m━━━━━━━━━━━━━━━━━━━━\u001b[0m\u001b[37m\u001b[0m \u001b[1m140s\u001b[0m 259ms/step - accuracy: 0.9828 - loss: 0.1046 - val_accuracy: 0.7863 - val_loss: 2.0298 - learning_rate: 0.0010\n",
            "Epoch 6/50\n",
            "\u001b[1m540/540\u001b[0m \u001b[32m━━━━━━━━━━━━━━━━━━━━\u001b[0m\u001b[37m\u001b[0m \u001b[1m143s\u001b[0m 265ms/step - accuracy: 0.9836 - loss: 0.1014 - val_accuracy: 0.7329 - val_loss: 3.7291 - learning_rate: 0.0010\n",
            "Epoch 7/50\n",
            "\u001b[1m540/540\u001b[0m \u001b[32m━━━━━━━━━━━━━━━━━━━━\u001b[0m\u001b[37m\u001b[0m \u001b[1m143s\u001b[0m 265ms/step - accuracy: 0.9834 - loss: 0.1029 - val_accuracy: 0.7944 - val_loss: 2.8135 - learning_rate: 0.0010\n",
            "Epoch 8/50\n",
            "\u001b[1m540/540\u001b[0m \u001b[32m━━━━━━━━━━━━━━━━━━━━\u001b[0m\u001b[37m\u001b[0m \u001b[1m146s\u001b[0m 270ms/step - accuracy: 0.9934 - loss: 0.0550 - val_accuracy: 0.8664 - val_loss: 1.2963 - learning_rate: 0.0010\n",
            "Epoch 9/50\n",
            "\u001b[1m540/540\u001b[0m \u001b[32m━━━━━━━━━━━━━━━━━━━━\u001b[0m\u001b[37m\u001b[0m \u001b[1m144s\u001b[0m 267ms/step - accuracy: 0.9985 - loss: 0.0264 - val_accuracy: 0.8943 - val_loss: 0.8720 - learning_rate: 2.0000e-04\n",
            "Epoch 10/50\n",
            "\u001b[1m540/540\u001b[0m \u001b[32m━━━━━━━━━━━━━━━━━━━━\u001b[0m\u001b[37m\u001b[0m \u001b[1m154s\u001b[0m 286ms/step - accuracy: 0.9999 - loss: 0.0126 - val_accuracy: 0.9024 - val_loss: 0.7163 - learning_rate: 2.0000e-04\n",
            "Epoch 11/50\n",
            "\u001b[1m540/540\u001b[0m \u001b[32m━━━━━━━━━━━━━━━━━━━━\u001b[0m\u001b[37m\u001b[0m \u001b[1m149s\u001b[0m 275ms/step - accuracy: 1.0000 - loss: 0.0092 - val_accuracy: 0.9001 - val_loss: 0.7061 - learning_rate: 2.0000e-04\n",
            "Epoch 12/50\n",
            "\u001b[1m540/540\u001b[0m \u001b[32m━━━━━━━━━━━━━━━━━━━━\u001b[0m\u001b[37m\u001b[0m \u001b[1m145s\u001b[0m 269ms/step - accuracy: 0.9999 - loss: 0.0090 - val_accuracy: 0.9013 - val_loss: 0.6582 - learning_rate: 2.0000e-04\n",
            "Epoch 13/50\n",
            "\u001b[1m540/540\u001b[0m \u001b[32m━━━━━━━━━━━━━━━━━━━━\u001b[0m\u001b[37m\u001b[0m \u001b[1m144s\u001b[0m 268ms/step - accuracy: 0.9997 - loss: 0.0096 - val_accuracy: 0.9071 - val_loss: 0.5953 - learning_rate: 2.0000e-04\n",
            "Epoch 14/50\n",
            "\u001b[1m540/540\u001b[0m \u001b[32m━━━━━━━━━━━━━━━━━━━━\u001b[0m\u001b[37m\u001b[0m \u001b[1m141s\u001b[0m 262ms/step - accuracy: 1.0000 - loss: 0.0074 - val_accuracy: 0.9059 - val_loss: 0.6081 - learning_rate: 2.0000e-04\n",
            "Epoch 15/50\n",
            "\u001b[1m540/540\u001b[0m \u001b[32m━━━━━━━━━━━━━━━━━━━━\u001b[0m\u001b[37m\u001b[0m \u001b[1m142s\u001b[0m 262ms/step - accuracy: 0.9999 - loss: 0.0069 - val_accuracy: 0.9082 - val_loss: 0.6607 - learning_rate: 2.0000e-04\n",
            "Epoch 16/50\n",
            "\u001b[1m540/540\u001b[0m \u001b[32m━━━━━━━━━━━━━━━━━━━━\u001b[0m\u001b[37m\u001b[0m \u001b[1m142s\u001b[0m 263ms/step - accuracy: 0.9999 - loss: 0.0062 - val_accuracy: 0.9024 - val_loss: 0.6717 - learning_rate: 2.0000e-04\n",
            "Epoch 17/50\n",
            "\u001b[1m540/540\u001b[0m \u001b[32m━━━━━━━━━━━━━━━━━━━━\u001b[0m\u001b[37m\u001b[0m \u001b[1m143s\u001b[0m 264ms/step - accuracy: 0.9996 - loss: 0.0076 - val_accuracy: 0.8990 - val_loss: 0.6399 - learning_rate: 2.0000e-04\n",
            "Epoch 18/50\n",
            "\u001b[1m540/540\u001b[0m \u001b[32m━━━━━━━━━━━━━━━━━━━━\u001b[0m\u001b[37m\u001b[0m \u001b[1m141s\u001b[0m 260ms/step - accuracy: 1.0000 - loss: 0.0053 - val_accuracy: 0.8990 - val_loss: 0.6869 - learning_rate: 2.0000e-04\n",
            "Epoch 19/50\n",
            "\u001b[1m540/540\u001b[0m \u001b[32m━━━━━━━━━━━━━━━━━━━━\u001b[0m\u001b[37m\u001b[0m \u001b[1m141s\u001b[0m 260ms/step - accuracy: 0.9992 - loss: 0.0056 - val_accuracy: 0.9036 - val_loss: 0.6746 - learning_rate: 4.0000e-05\n",
            "Epoch 20/50\n",
            "\u001b[1m540/540\u001b[0m \u001b[32m━━━━━━━━━━━━━━━━━━━━\u001b[0m\u001b[37m\u001b[0m \u001b[1m142s\u001b[0m 262ms/step - accuracy: 0.9998 - loss: 0.0048 - val_accuracy: 0.9048 - val_loss: 0.7344 - learning_rate: 4.0000e-05\n",
            "Epoch 21/50\n",
            "\u001b[1m294/540\u001b[0m \u001b[32m━━━━━━━━━━\u001b[0m\u001b[37m━━━━━━━━━━\u001b[0m \u001b[1m1:02\u001b[0m 255ms/step - accuracy: 1.0000 - loss: 0.0041"
          ]
        }
      ],
      "source": [
        "# Callbacks para early stopping y reducción del learning rate\n",
        "early_stopping = EarlyStopping(monitor='val_loss', patience=10, restore_best_weights=True)\n",
        "reduce_lr = ReduceLROnPlateau(monitor='val_loss', factor=0.2, patience=5, min_lr=1e-5)\n",
        "\n",
        "# Entrenamiento del modelo\n",
        "history = model.fit(\n",
        "    oversampled_train_ds,\n",
        "    validation_data=validation_ds,\n",
        "    epochs=EPOCHS,\n",
        "    callbacks=[early_stopping, reduce_lr]  # Añadir callbacks\n",
        ")\n"
      ]
    },
    {
      "cell_type": "code",
      "execution_count": 48,
      "metadata": {},
      "outputs": [],
      "source": [
        "# Guardar el modelo en formato .keras\n",
        "model.save('final_model.keras')"
      ]
    },
    {
      "cell_type": "code",
      "execution_count": 49,
      "metadata": {},
      "outputs": [
        {
          "data": {
            "image/png": "[encoded data removed]",
            "text/plain": [
              "<Figure size 1600x600 with 2 Axes>"
            ]
          },
          "metadata": {},
          "output_type": "display_data"
        }
      ],
      "source": [
        "# Gráfica de la pérdida y precisión\n",
        "metrics = history.history\n",
        "plt.figure(figsize=(16, 6))\n",
        "plt.subplot(1, 2, 1)\n",
        "plt.plot(history.epoch, metrics['loss'], metrics['val_loss'])\n",
        "plt.legend(['training', 'validation'])\n",
        "plt.ylim([0, max(plt.ylim())])\n",
        "plt.ylabel('Loss')\n",
        "plt.xlabel('Epoch')\n",
        "\n",
        "plt.subplot(1, 2, 2)\n",
        "plt.plot(history.epoch, metrics['accuracy'], metrics['val_accuracy'])\n",
        "plt.legend(['training', 'validation'])\n",
        "plt.ylim([0, 1])\n",
        "plt.ylabel('Accuracy')\n",
        "plt.xlabel('Epoch')\n",
        "plt.show()"
      ]
    },
    {
      "cell_type": "code",
      "execution_count": 50,
      "metadata": {},
      "outputs": [
        {
          "name": "stdout",
          "output_type": "stream",
          "text": [
            "\u001b[1m10/10\u001b[0m \u001b[32m━━━━━━━━━━━━━━━━━━━━\u001b[0m\u001b[37m\u001b[0m \u001b[1m1s\u001b[0m 145ms/step - accuracy: 0.8888 - loss: 0.7988\n",
            "Resultados de evaluación en test set:\n",
            "accuracy: 0.8844\n",
            "loss: 0.8063\n"
          ]
        }
      ],
      "source": [
        "# Evaluación en el conjunto de test\n",
        "test_ds = validation_ds.shard(num_shards=2, index=1)\n",
        "test_results = model.evaluate(test_ds, return_dict=True)\n",
        "print(\"Resultados de evaluación en test set:\")\n",
        "for metric, value in test_results.items():\n",
        "    print(f\"{metric}: {value:.4f}\")"
      ]
    },
    {
      "cell_type": "code",
      "execution_count": 51,
      "metadata": {},
      "outputs": [
        {
          "name": "stdout",
          "output_type": "stream",
          "text": [
            "\u001b[1m10/10\u001b[0m \u001b[32m━━━━━━━━━━━━━━━━━━━━\u001b[0m\u001b[37m\u001b[0m \u001b[1m3s\u001b[0m 151ms/step\n"
          ]
        },
        {
          "data": {
            "image/png": "[encoded data removed]",
            "text/plain": [
              "<Figure size 1000x800 with 2 Axes>"
            ]
          },
          "metadata": {},
          "output_type": "display_data"
        }
      ],
      "source": [
        "# Matriz de confusión\n",
        "y_pred = model.predict(test_ds)\n",
        "y_pred_classes = np.argmax(y_pred, axis=1)\n",
        "y_true = np.concatenate([y for x, y in test_ds], axis=0)\n",
        "\n",
        "conf_matrix = tf.math.confusion_matrix(y_true, y_pred_classes)\n",
        "plt.figure(figsize=(10, 8))\n",
        "sns.heatmap(conf_matrix, xticklabels=class_names, yticklabels=class_names, annot=True, fmt='g')\n",
        "plt.xlabel('Prediction')\n",
        "plt.ylabel('Label')\n",
        "plt.title('Matriz de Confusión')\n",
        "plt.show()\n"
      ]
    },
    {
      "cell_type": "code",
      "execution_count": 25,
      "metadata": {},
      "outputs": [
        {
          "name": "stdout",
          "output_type": "stream",
          "text": [
            "Reporte de clasificación:\n",
            "                  precision    recall  f1-score   support\n",
            "\n",
            "Chinche salivosa       0.93      0.88      0.90        75\n",
            "        Clororis       0.86      0.81      0.83        37\n",
            "       Hoja sana       0.83      0.93      0.88        86\n",
            "    Roya naranja       0.87      0.93      0.90       103\n",
            "    Roya purpura       0.75      0.32      0.44        19\n",
            "\n",
            "        accuracy                           0.87       320\n",
            "       macro avg       0.85      0.77      0.79       320\n",
            "    weighted avg       0.87      0.87      0.86       320\n",
            "\n"
          ]
        }
      ],
      "source": [
        "# Reporte de clasificación\n",
        "from sklearn.metrics import classification_report\n",
        "print(\"Reporte de clasificación:\")\n",
        "print(classification_report(y_true, y_pred_classes, target_names=class_names))"
      ]
    }
  ],
  "metadata": {
    "accelerator": "GPU",
    "colab": {
      "gpuType": "T4",
      "machine_shape": "hm",
      "provenance": []
    },
    "kaggle": {
      "accelerator": "gpu",
      "dataSources": [
        {
          "datasetId": 4320051,
          "sourceId": 7424766,
          "sourceType": "datasetVersion"
        }
      ],
      "dockerImageVersionId": 30747,
      "isGpuEnabled": true,
      "isInternetEnabled": true,
      "language": "python",
      "sourceType": "notebook"
    },
    "kernelspec": {
      "display_name": "Python 3",
      "language": "python",
      "name": "python3"
    },
    "language_info": {
      "codemirror_mode": {
        "name": "ipython",
        "version": 3
      },
      "file_extension": ".py",
      "mimetype": "text/x-python",
      "name": "python",
      "nbconvert_exporter": "python",
      "pygments_lexer": "ipython3",
      "version": "3.11.9"
    }
  },
  "nbformat": 4,
  "nbformat_minor": 0
}

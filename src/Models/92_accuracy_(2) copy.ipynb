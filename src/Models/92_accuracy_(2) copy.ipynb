{
  "cells": [
    {
      "cell_type": "code",
      "execution_count": 1,
      "metadata": {
        "colab": {
          "base_uri": "https://localhost:8080/"
        },
        "id": "cR1bP1llhb9I",
        "outputId": "2aa57d3b-cf9b-4c74-cf63-19e7a7e16191"
      },
      "outputs": [],
      "source": [
        "# !pip install arcgis"
      ]
    },
    {
      "cell_type": "code",
      "execution_count": 2,
      "metadata": {},
      "outputs": [
        {
          "name": "stderr",
          "output_type": "stream",
          "text": [
            "C:\\Users\\ealda\\AppData\\Local\\Packages\\PythonSoftwareFoundation.Python.3.11_qbz5n2kfra8p0\\LocalCache\\local-packages\\Python311\\site-packages\\dask\\dataframe\\__init__.py:42: FutureWarning: \n",
            "Dask dataframe query planning is disabled because dask-expr is not installed.\n",
            "\n",
            "You can install it with `pip install dask[dataframe]` or `conda install dask`.\n",
            "This will raise in a future version.\n",
            "\n",
            "  warnings.warn(msg, FutureWarning)\n"
          ]
        }
      ],
      "source": [
        "\"\"\"Plague Classification Model with ArcGIS Data\"\"\"\n",
        "\n",
        "import os\n",
        "import shutil\n",
        "import numpy as np\n",
        "import tensorflow as tf\n",
        "import matplotlib.pyplot as plt\n",
        "import seaborn as sns\n",
        "from tensorflow.keras.preprocessing import image_dataset_from_directory\n",
        "from arcgis.gis import GIS\n",
        "from PIL import Image\n",
        "import logging\n",
        "import time\n",
        "from concurrent.futures import ThreadPoolExecutor, as_completed\n"
      ]
    },
    {
      "cell_type": "code",
      "execution_count": 3,
      "metadata": {},
      "outputs": [],
      "source": [
        "# import os\n",
        "# import logging\n",
        "# import time\n",
        "# from PIL import Image\n",
        "# from arcgis.gis import GIS\n",
        "\n",
        "# # Configuración básica de logging\n",
        "# logging.basicConfig(\n",
        "#     filename='descarga_arcgis.log',\n",
        "#     filemode='a',\n",
        "#     format='%(asctime)s - %(levelname)s - %(message)s',\n",
        "#     level=logging.INFO\n",
        "# )\n",
        "\n",
        "# # Conexión a ArcGIS Online o Enterprise\n",
        "# try:\n",
        "#     gis = GIS(\"https://arcgismaps.pantaleon.com/portal\", \"uvg_2024\", \"Inicio2024.\")\n",
        "#     logging.info(\"Conexión a ArcGIS establecida exitosamente.\")\n",
        "# except Exception as e:\n",
        "#     logging.error(f\"Error al conectar a ArcGIS: {e}\")\n",
        "#     raise SystemExit(f\"Error al conectar a ArcGIS: {e}\")\n",
        "\n",
        "# # Encuentra el elemento Survey123 por su ID\n",
        "# survey_id = \"e9eff4bf0dff4d199ff5b889d8fd7980\"  # Reemplaza con el ID real de tu Survey\n",
        "# survey = gis.content.get(survey_id)\n",
        "# if not survey:\n",
        "#     logging.error(f\"No se encontró el Survey con ID: {survey_id}\")\n",
        "#     raise SystemExit(f\"No se encontró el Survey con ID: {survey_id}\")\n",
        "# logging.info(f\"Survey encontrado: {survey.title}\")\n",
        "\n",
        "# # Identificar la capa correcta basada en un campo específico\n",
        "# nombre_campo_clave = 'clasificacion'  # Reemplaza con un campo específico de tu formulario\n",
        "\n",
        "# capas = survey.layers\n",
        "# capa_correcta = None\n",
        "\n",
        "# for capa in capas:\n",
        "#     nombres_campos = [campo['name'] for campo in capa.properties.fields]\n",
        "#     if nombre_campo_clave in nombres_campos:\n",
        "#         capa_correcta = capa\n",
        "#         break\n",
        "\n",
        "# if capa_correcta:\n",
        "#     feature_layer = capa_correcta\n",
        "#     logging.info(f\"Usando la capa: {feature_layer.properties.name}\")\n",
        "# else:\n",
        "#     logging.error(f\"No se encontró una capa que contenga el campo '{nombre_campo_clave}'.\")\n",
        "#     raise SystemExit(f\"No se encontró una capa que contenga el campo '{nombre_campo_clave}'.\")\n",
        "\n",
        "# # Función para verificar si un adjunto es una imagen\n",
        "# def is_image_attachment(attachment):\n",
        "#     return attachment['contentType'].lower() in [\n",
        "#         'image/png',\n",
        "#         'image/jpeg',\n",
        "#         'image/jpg',\n",
        "#         'image/gif',\n",
        "#         'image/bmp',\n",
        "#         'image/tiff'\n",
        "#     ]\n",
        "\n",
        "# # Función para redimensionar las imágenes\n",
        "# def resize_image(image_path, size=(128, 128)):\n",
        "#     try:\n",
        "#         with Image.open(image_path) as img:\n",
        "#             img = img.resize(size)\n",
        "#             img.save(image_path)\n",
        "#         logging.info(f\"Imagen redimensionada: {image_path}\")\n",
        "#     except Exception as e:\n",
        "#         logging.error(f\"Error al redimensionar la imagen {image_path}: {e}\")\n",
        "\n",
        "# # Directorio base para almacenar las imágenes descargadas\n",
        "# base_images_dir = \"arcgis-survey-images\"\n",
        "# os.makedirs(base_images_dir, exist_ok=True)\n",
        "# logging.info(f\"Directorio base para imágenes: {base_images_dir}\")\n",
        "\n",
        "# # Lista para almacenar errores\n",
        "# errores = []\n",
        "\n",
        "# # Función para generar un nombre de archivo único basado en object_id y attachment_id\n",
        "# def generar_nombre_unico(attachment_name, object_id, attachment_id):\n",
        "#     name, ext = os.path.splitext(attachment_name)\n",
        "#     # Sanitizar el nombre del archivo para evitar caracteres inválidos\n",
        "#     name = \"\".join([c for c in name if c.isalpha() or c.isdigit() or c in (' ', '_', '-')]).rstrip()\n",
        "#     # Puedes personalizar el formato del nombre según tus necesidades\n",
        "#     nombre_unico = f\"{name}_OID{object_id}_ATT{attachment_id}{ext}\"\n",
        "#     return nombre_unico\n",
        "\n",
        "# # Función para obtener un nombre de archivo único si ya existe\n",
        "# def get_unique_filename(file_path):\n",
        "#     if not os.path.exists(file_path):\n",
        "#         return file_path\n",
        "#     else:\n",
        "#         base, extension = os.path.splitext(file_path)\n",
        "#         i = 1\n",
        "#         new_file_path = f\"{base}({i}){extension}\"\n",
        "#         while os.path.exists(new_file_path):\n",
        "#             i += 1\n",
        "#             new_file_path = f\"{base}({i}){extension}\"\n",
        "#         return new_file_path\n",
        "\n",
        "# # Función para procesar y descargar una imagen\n",
        "# def procesar_descargar_imagen(feature, attachment):\n",
        "#     # Ajustar los nombres de los campos según tu data\n",
        "#     object_id = feature.attributes.get('objectid') or feature.attributes.get('OBJECTID') or feature.attributes.get('ObjectID')\n",
        "#     if object_id is None:\n",
        "#         logging.error(\"No se encontró el campo 'objectid' en los atributos de la feature.\")\n",
        "#         errores.append((None, attachment['name'], \"Campo 'objectid' no encontrado\"))\n",
        "#         return\n",
        "#     classification = feature.attributes.get('clasificacion') or feature.attributes.get('Clasificacion') or 'SinClasificacion'\n",
        "\n",
        "#     # Crear un directorio para la clasificación si no existe\n",
        "#     class_dir = os.path.join(base_images_dir, str(classification))\n",
        "#     os.makedirs(class_dir, exist_ok=True)\n",
        "\n",
        "#     if is_image_attachment(attachment):\n",
        "#         # Generar un nombre único para cada imagen\n",
        "#         image_filename = generar_nombre_unico(attachment['name'], object_id, attachment['id'])\n",
        "#         image_path = os.path.join(class_dir, image_filename)\n",
        "\n",
        "#         try:\n",
        "#             # Descargar el adjunto a la carpeta con el nombre original\n",
        "#             feature_layer.attachments.download(\n",
        "#                 oid=object_id,\n",
        "#                 attachment_id=attachment['id'],\n",
        "#                 save_path=class_dir\n",
        "#                 # No se utiliza file_name aquí\n",
        "#             )\n",
        "#             logging.info(f\"Descargada imagen a {class_dir}\")\n",
        "            \n",
        "#             # El archivo descargado se llama attachment['name']\n",
        "#             downloaded_path = os.path.join(class_dir, attachment['name'])\n",
        "            \n",
        "#             # Verificar si el archivo descargado existe\n",
        "#             if not os.path.exists(downloaded_path):\n",
        "#                 logging.error(f\"El archivo descargado no existe: {downloaded_path}\")\n",
        "#                 errores.append((object_id, attachment['name'], \"Archivo descargado no encontrado\"))\n",
        "#                 return\n",
        "            \n",
        "#             # Verificar si el archivo único ya existe y obtener un nombre único\n",
        "#             if os.path.exists(image_path):\n",
        "#                 original_image_path = image_path\n",
        "#                 image_path = get_unique_filename(image_path)\n",
        "#                 logging.warning(f\"El archivo {original_image_path} ya existía. Se guardará como {os.path.basename(image_path)}\")\n",
        "            \n",
        "#             # Renombrar el archivo descargado a la ruta con el nombre único\n",
        "#             os.rename(downloaded_path, image_path)\n",
        "#             logging.info(f\"Imagen renombrada a {image_path}\")\n",
        "\n",
        "#             # Redimensionar la imagen\n",
        "#             resize_image(image_path)\n",
        "#         except Exception as e:\n",
        "#             logging.error(f\"Error al descargar o procesar la imagen {attachment['name']} para el object_id {object_id}: {e}\")\n",
        "#             errores.append((object_id, attachment['name'], str(e)))\n",
        "\n",
        "# # Función para obtener todas las features utilizando object IDs\n",
        "# def get_all_features(layer):\n",
        "#     all_features = []\n",
        "#     try:\n",
        "#         # Obtener el campo de Object ID\n",
        "#         object_id_field = layer.properties.objectIdField\n",
        "#         oid_info = layer.query(return_ids_only=True)\n",
        "#         object_ids = oid_info['objectIds']\n",
        "#         if not object_ids:\n",
        "#             logging.error(\"No se pudieron obtener los Object IDs.\")\n",
        "#             return []\n",
        "#         total = len(object_ids)\n",
        "#         logging.info(f\"Total de features disponibles: {total}\")\n",
        "\n",
        "#         # Procesar los Object IDs en lotes\n",
        "#         batch_size = 1000  # Puedes ajustar este valor según tus necesidades\n",
        "#         for i in range(0, total, batch_size):\n",
        "#             batch_ids = object_ids[i:i + batch_size]\n",
        "#             where_clause = f\"{object_id_field} IN ({', '.join(map(str, batch_ids))})\"\n",
        "#             query_result = layer.query(where=where_clause, out_fields='*')\n",
        "#             all_features.extend(query_result.features)\n",
        "#             logging.info(f\"Recuperados {len(all_features)} de {total} features...\")\n",
        "#     except Exception as e:\n",
        "#         logging.error(f\"Error al obtener las features: {e}\")\n",
        "#         raise\n",
        "#     return all_features\n",
        "\n",
        "# # Descargar imágenes desde Survey123 y organizar en carpetas según la clasificación\n",
        "# try:\n",
        "#     all_features = get_all_features(feature_layer)\n",
        "#     total_features = len(all_features)\n",
        "#     logging.info(f\"Total de features obtenidos: {total_features}\")\n",
        "# except Exception as e:\n",
        "#     logging.error(f\"Error al realizar la consulta a la capa: {e}\")\n",
        "#     raise SystemExit(f\"Error al realizar la consulta a la capa: {e}\")\n",
        "\n",
        "# # Descargar todas las imágenes secuencialmente\n",
        "# for feature in all_features:\n",
        "#     object_id = feature.attributes.get('objectid') or feature.attributes.get('OBJECTID') or feature.attributes.get('ObjectID')\n",
        "#     if object_id is None:\n",
        "#         logging.error(\"No se encontró el campo 'objectid' en los atributos de la feature.\")\n",
        "#         errores.append((None, None, \"Campo 'objectid' no encontrado\"))\n",
        "#         continue\n",
        "#     attachments = feature_layer.attachments.get_list(oid=object_id)\n",
        "#     if not attachments:\n",
        "#         logging.info(f\"No se encontraron adjuntos para el object_id: {object_id}\")\n",
        "#         continue\n",
        "#     for attachment in attachments:\n",
        "#         procesar_descargar_imagen(feature, attachment)\n",
        "#         # Implementar una pequeña pausa para evitar posibles límites de la API\n",
        "#         time.sleep(0.05)  # Pausa de 50 ms\n",
        "\n",
        "# logging.info(\"Descarga de imágenes completada.\")\n",
        "\n",
        "# # Mostrar errores si los hay\n",
        "# if errores:\n",
        "#     logging.warning(f\"Total de errores: {len(errores)}\")\n",
        "#     for oid, nombre, error in errores:\n",
        "#         logging.warning(f\"Object ID {oid}, Archivo {nombre}: {error}\")\n",
        "# else:\n",
        "#     logging.info(\"No se encontraron errores durante la descarga.\")\n",
        "\n",
        "# # Verificar la integridad de las imágenes descargadas\n",
        "# total_descargadas = 0\n",
        "# for root, dirs, files in os.walk(base_images_dir):\n",
        "#     for file in files:\n",
        "#         if file.lower().endswith(('.png', '.jpg', '.jpeg', '.gif', '.bmp', '.tiff')):\n",
        "#             total_descargadas += 1\n",
        "\n",
        "# logging.info(f\"Total de imágenes descargadas: {total_descargadas}\")\n",
        "# print(f\"Imágenes descargadas y organizadas por clasificación en: {base_images_dir}\")\n",
        "# print(f\"Total de imágenes descargadas: {total_descargadas}\")\n",
        "\n",
        "# # Mostrar errores en la consola\n",
        "# if errores:\n",
        "#     print(f\"\\nTotal de errores durante la descarga: {len(errores)}\")\n",
        "#     for oid, nombre, error in errores:\n",
        "#         print(f\"Object ID {oid}, Archivo {nombre}: {error}\")\n",
        "# else:\n",
        "#     print(\"\\nNo se encontraron errores durante la descarga.\")\n"
      ]
    },
    {
      "cell_type": "code",
      "execution_count": 4,
      "metadata": {},
      "outputs": [],
      "source": [
        "# # Configuración básica de logging\n",
        "# logging.basicConfig(\n",
        "#     filename='descarga_arcgis.log',\n",
        "#     filemode='a',\n",
        "#     format='%(asctime)s - %(levelname)s - %(message)s',\n",
        "#     level=logging.INFO\n",
        "# )"
      ]
    },
    {
      "cell_type": "code",
      "execution_count": 5,
      "metadata": {},
      "outputs": [],
      "source": [
        "# # Conexión a ArcGIS Online o Enterprise\n",
        "# try:\n",
        "#     gis = GIS(\"https://arcgismaps.pantaleon.com/portal\", \"uvg_2024\", \"Inicio2024.\")\n",
        "#     logging.info(\"Conexión a ArcGIS establecida exitosamente.\")\n",
        "# except Exception as e:\n",
        "#     logging.error(f\"Error al conectar a ArcGIS: {e}\")\n",
        "#     raise SystemExit(f\"Error al conectar a ArcGIS: {e}\")"
      ]
    },
    {
      "cell_type": "code",
      "execution_count": 6,
      "metadata": {},
      "outputs": [],
      "source": [
        "# # Encuentra el elemento Survey123 por su ID\n",
        "# survey_id = \"e9eff4bf0dff4d199ff5b889d8fd7980\"  # Reemplaza con el ID real de tu Survey\n",
        "# survey = gis.content.get(survey_id)\n",
        "# if not survey:\n",
        "#     logging.error(f\"No se encontró el Survey con ID: {survey_id}\")\n",
        "#     raise SystemExit(f\"No se encontró el Survey con ID: {survey_id}\")\n",
        "# logging.info(f\"Survey encontrado: {survey.title}\")\n",
        "\n",
        "# feature_layer = survey.layers[0]  # Capa que contiene las respuestas\n",
        "# print(feature_layer)"
      ]
    },
    {
      "cell_type": "code",
      "execution_count": 7,
      "metadata": {},
      "outputs": [],
      "source": [
        "# # Función para verificar si un adjunto es una imagen\n",
        "# def is_image_attachment(attachment):\n",
        "#     return attachment['contentType'].lower() in [\n",
        "#         'image/png',\n",
        "#         'image/jpeg',\n",
        "#         'image/jpg',\n",
        "#         'image/gif',\n",
        "#         'image/bmp',\n",
        "#         'image/tiff'\n",
        "#     ]"
      ]
    },
    {
      "cell_type": "code",
      "execution_count": 8,
      "metadata": {},
      "outputs": [],
      "source": [
        "# # Función para redimensionar las imágenes\n",
        "# def resize_image(image_path, size=(128, 128)):\n",
        "#     try:\n",
        "#         with Image.open(image_path) as img:\n",
        "#             img = img.resize(size)\n",
        "#             img.save(image_path)\n",
        "#         logging.info(f\"Imagen redimensionada: {image_path}\")\n",
        "#     except Exception as e:\n",
        "#         logging.error(f\"Error al redimensionar la imagen {image_path}: {e}\")\n"
      ]
    },
    {
      "cell_type": "code",
      "execution_count": 9,
      "metadata": {},
      "outputs": [],
      "source": [
        "# # Directorio base para almacenar las imágenes descargadas\n",
        "# base_images_dir = \"arcgis-survey-images\"\n",
        "# os.makedirs(base_images_dir, exist_ok=True)\n",
        "# logging.info(f\"Directorio base para imágenes: {base_images_dir}\")\n",
        "\n",
        "# # Diccionario para almacenar las imágenes duplicadas\n",
        "# duplicated_images = {}\n",
        "\n",
        "# # Lista para almacenar errores\n",
        "# errores = []"
      ]
    },
    {
      "cell_type": "code",
      "execution_count": 10,
      "metadata": {},
      "outputs": [],
      "source": [
        "# # Función para generar un nuevo nombre de archivo para duplicados\n",
        "# def generate_unique_filename(base_path):\n",
        "#     name, ext = os.path.splitext(base_path)\n",
        "#     counter = 1\n",
        "#     new_path = base_path\n",
        "#     while os.path.exists(new_path):\n",
        "#         new_path = f\"{name}({counter}){ext}\"\n",
        "#         counter += 1\n",
        "#     return new_path"
      ]
    },
    {
      "cell_type": "code",
      "execution_count": 11,
      "metadata": {},
      "outputs": [],
      "source": [
        "# # Función para procesar y descargar una imagen\n",
        "# def procesar_descargar_imagen(feature, attachment):\n",
        "#     object_id = feature.attributes.get('objectid')\n",
        "#     classification = feature.attributes.get('clasificacion', 'SinClasificacion')\n",
        "    \n",
        "#     # Crear un directorio para la clasificación si no existe\n",
        "#     class_dir = os.path.join(base_images_dir, str(classification))\n",
        "#     os.makedirs(class_dir, exist_ok=True)\n",
        "    \n",
        "#     if is_image_attachment(attachment):\n",
        "#         original_path = os.path.join(class_dir, attachment['name'])\n",
        "#         image_path = generate_unique_filename(original_path)\n",
        "        \n",
        "#         # Registrar si es una imagen duplicada\n",
        "#         if image_path != original_path:\n",
        "#             if original_path not in duplicated_images:\n",
        "#                 duplicated_images[original_path] = [image_path]\n",
        "#             else:\n",
        "#                 duplicated_images[original_path].append(image_path)\n",
        "        \n",
        "#         try:\n",
        "#             logging.info(f\"Descargando imagen {os.path.basename(image_path)} para el object_id: {object_id}\")\n",
        "#             feature_layer.attachments.download(\n",
        "#                 oid=object_id,\n",
        "#                 attachment_id=attachment['id'],\n",
        "#                 save_path=os.path.dirname(image_path)\n",
        "#             )\n",
        "#             # Renombrar el archivo descargado si es necesario\n",
        "#             downloaded_path = os.path.join(os.path.dirname(image_path), attachment['name'])\n",
        "#             if downloaded_path != image_path:\n",
        "#                 os.rename(downloaded_path, image_path)\n",
        "#                 logging.info(f\"Imagen renombrada a {image_path}\")\n",
        "            \n",
        "#             # Redimensionar la imagen\n",
        "#             resize_image(image_path)\n",
        "#         except Exception as e:\n",
        "#             logging.error(f\"Error al descargar o procesar la imagen {attachment['name']} para el object_id {object_id}: {e}\")\n",
        "#             errores.append((object_id, attachment['name'], str(e)))"
      ]
    },
    {
      "cell_type": "code",
      "execution_count": 12,
      "metadata": {},
      "outputs": [],
      "source": [
        "# # Descargar imágenes desde Survey123 y organizar en carpetas según la clasificación\n",
        "# try:\n",
        "#     query_result = feature_layer.query(return_all=True)\n",
        "#     total_features = len(query_result.features)\n",
        "#     logging.info(f\"Total de features obtenidos: {total_features}\")\n",
        "# except Exception as e:\n",
        "#     logging.error(f\"Error al realizar la consulta a la capa: {e}\")\n",
        "#     raise SystemExit(f\"Error al realizar la consulta a la capa: {e}\")\n"
      ]
    },
    {
      "cell_type": "code",
      "execution_count": 13,
      "metadata": {},
      "outputs": [],
      "source": [
        "# # Parámetros para descarga en paralelo\n",
        "# max_workers = 10  # Puedes ajustar este número según los recursos de tu sistema y límites de la API\n",
        "# with ThreadPoolExecutor(max_workers=max_workers) as executor:\n",
        "#     futuros = []\n",
        "#     for feature in query_result.features:\n",
        "#         object_id = feature.attributes.get('objectid')\n",
        "#         attachments = feature_layer.attachments.get_list(oid=object_id)\n",
        "#         if not attachments:\n",
        "#             logging.info(f\"No se encontraron adjuntos para el object_id: {object_id}\")\n",
        "#             continue\n",
        "#         for attachment in attachments:\n",
        "#             futuros.append(executor.submit(procesar_descargar_imagen, feature, attachment))\n",
        "#             # Implementar una pequeña pausa para evitar posibles límites de la API\n",
        "#             time.sleep(0.05)  # Pausa de 50 ms\n",
        "    \n",
        "#     # Monitorear el progreso\n",
        "#     for futuro in as_completed(futuros):\n",
        "#         pass  # Aquí podrías implementar seguimiento si lo deseas\n",
        "\n",
        "# logging.info(\"Descarga de imágenes completada.\")"
      ]
    },
    {
      "cell_type": "code",
      "execution_count": 14,
      "metadata": {},
      "outputs": [],
      "source": [
        "# # Identificar la capa correcta basada en un campo específico\n",
        "# nombre_campo_clave = 'clasificacion'  # Reemplaza con un campo específico de tu formulario\n",
        "\n",
        "# capas = survey.layers\n",
        "# capa_correcta = None\n",
        "\n",
        "# for capa in capas:\n",
        "#     nombres_campos = [campo['name'] for campo in capa.properties.fields]\n",
        "#     if nombre_campo_clave in nombres_campos:\n",
        "#         capa_correcta = capa\n",
        "#         break\n",
        "\n",
        "# if capa_correcta:\n",
        "#     feature_layer = capa_correcta\n",
        "#     print(f\"Usando la capa: {feature_layer.properties.name}\")\n",
        "# else:\n",
        "#     logging.error(f\"No se encontró una capa que contenga el campo '{nombre_campo_clave}'.\")\n",
        "#     raise SystemExit(f\"No se encontró una capa que contenga el campo '{nombre_campo_clave}'.\")"
      ]
    },
    {
      "cell_type": "code",
      "execution_count": 15,
      "metadata": {},
      "outputs": [],
      "source": [
        "# # Mostrar listado de imágenes duplicadas\n",
        "# if duplicated_images:\n",
        "#     logging.info(\"Listado de imágenes duplicadas:\")\n",
        "#     for original, duplicates in duplicated_images.items():\n",
        "#         logging.info(f\"Original: {original}\")\n",
        "#         for dup in duplicates:\n",
        "#             logging.info(f\"  Duplicado: {dup}\")\n",
        "# else:\n",
        "#     logging.info(\"No se encontraron imágenes duplicadas.\")\n",
        "\n",
        "# # Mostrar errores si los hay\n",
        "# if errores:\n",
        "#     logging.warning(f\"Total de errores: {len(errores)}\")\n",
        "#     for oid, nombre, error in errores:\n",
        "#         logging.warning(f\"Object ID {oid}, Archivo {nombre}: {error}\")\n",
        "# else:\n",
        "#     logging.info(\"No se encontraron errores durante la descarga.\")\n",
        "\n",
        "# # Verificar la integridad de las imágenes descargadas\n",
        "# total_descargadas = 0\n",
        "# for root, dirs, files in os.walk(base_images_dir):\n",
        "#     for file in files:\n",
        "#         if file.lower().endswith(('.png', '.jpg', '.jpeg', '.gif', '.bmp', '.tiff')):\n",
        "#             total_descargadas += 1\n",
        "\n",
        "# logging.info(f\"Total de imágenes descargadas: {total_descargadas}\")\n",
        "# print(f\"Imágenes descargadas y organizadas por clasificación en: {base_images_dir}\")\n",
        "# print(f\"Total de imágenes descargadas: {total_descargadas}\")\n",
        "\n",
        "# # Mostrar listado de imágenes duplicadas en la consola\n",
        "# if duplicated_images:\n",
        "#     print(\"\\nListado de imágenes duplicadas:\")\n",
        "#     for original, duplicates in duplicated_images.items():\n",
        "#         print(f\"Original: {original}\")\n",
        "#         for dup in duplicates:\n",
        "#             print(f\"  Duplicado: {dup}\")\n",
        "# else:\n",
        "#     print(\"\\nNo se encontraron imágenes duplicadas.\")\n",
        "\n",
        "# # Mostrar errores en la consola\n",
        "# if errores:\n",
        "#     print(f\"\\nTotal de errores durante la descarga: {len(errores)}\")\n",
        "#     for oid, nombre, error in errores:\n",
        "#         print(f\"Object ID {oid}, Archivo {nombre}: {error}\")\n",
        "# else:\n",
        "#     print(\"\\nNo se encontraron errores durante la descarga.\")"
      ]
    },
    {
      "cell_type": "code",
      "execution_count": 16,
      "metadata": {},
      "outputs": [],
      "source": [
        "# import os\n",
        "\n",
        "# # Diccionario para almacenar las imágenes duplicadas\n",
        "# duplicated_images = {}\n",
        "\n",
        "# # Función para generar un nuevo nombre de archivo para duplicados\n",
        "# def generate_unique_filename(base_path, filename):\n",
        "#     name, ext = os.path.splitext(filename)\n",
        "#     counter = 1\n",
        "#     new_path = base_path\n",
        "#     while os.path.exists(new_path):\n",
        "#         new_path = os.path.join(os.path.dirname(base_path), f\"{name}({counter}){ext}\")\n",
        "#         counter += 1\n",
        "#     return new_path\n",
        "\n",
        "# # Descargar imágenes desde Survey123 y organizar en carpetas según la clasificación\n",
        "# for feature in feature_layer.query().features:\n",
        "#     try:\n",
        "#         object_id = feature.attributes['objectid']\n",
        "#         classification = feature.attributes['clasificacion']  # Clasificación de la plaga\n",
        "\n",
        "#         # Crear un directorio para la clasificación si no existe\n",
        "#         class_dir = os.path.join(base_images_dir, classification)\n",
        "#         if not os.path.exists(class_dir):\n",
        "#             os.makedirs(class_dir)\n",
        "        \n",
        "#         # Descargar los adjuntos (imágenes) para el object_id\n",
        "#         attachments = feature_layer.attachments.get_list(oid=object_id)\n",
        "#         if not attachments:\n",
        "#             print(f\"No se encontraron adjuntos para el object_id: {object_id}\")\n",
        "        \n",
        "#         for attachment in attachments:\n",
        "#             if is_image_attachment(attachment):\n",
        "#                 original_path = os.path.join(class_dir, attachment['name'])\n",
        "                \n",
        "#                 # Generar un nombre único si la imagen ya existe\n",
        "#                 image_path = generate_unique_filename(original_path, attachment['name'])\n",
        "                \n",
        "#                 # Registrar si es una imagen duplicada\n",
        "#                 if image_path != original_path:\n",
        "#                     if original_path not in duplicated_images:\n",
        "#                         duplicated_images[original_path] = [image_path]\n",
        "#                     else:\n",
        "#                         duplicated_images[original_path].append(image_path)\n",
        "                \n",
        "#                 print(f\"Descargando imagen {os.path.basename(image_path)} para el object_id: {object_id}\")\n",
        "#                 feature_layer.attachments.download(oid=object_id, attachment_id=attachment['id'], save_path=os.path.dirname(image_path))\n",
        "#                 os.rename(os.path.join(os.path.dirname(image_path), attachment['name']), image_path)\n",
        "#                 resize_image(image_path)\n",
        "        \n",
        "#     except Exception as e:\n",
        "#         print(f\"Error al procesar el object_id {object_id}: {e}\")\n",
        "\n",
        "# print(f\"Imágenes descargadas y organizadas por clasificación en: {base_images_dir}\")\n",
        "\n",
        "# # Mostrar listado de imágenes duplicadas\n",
        "# if duplicated_images:\n",
        "#     print(\"\\nListado de imágenes duplicadas:\")\n",
        "#     for original, duplicates in duplicated_images.items():\n",
        "#         print(f\"Original: {original}\")\n",
        "#         for dup in duplicates:\n",
        "#             print(f\"  Duplicado: {dup}\")\n",
        "# else:\n",
        "#     print(\"\\nNo se encontraron imágenes duplicadas.\")"
      ]
    },
    {
      "cell_type": "code",
      "execution_count": 17,
      "metadata": {},
      "outputs": [],
      "source": [
        "# Parámetros de la red\n",
        "EPOCHS = 100\n",
        "IMAGE_SIZE = (128, 128)\n",
        "INPUT_SHAPE = (128, 128, 3)\n",
        "SEED = 123\n",
        "BATCH_SIZE = 32\n",
        "BUFFER_SIZE = 250\n",
        "LEARNING_RATE = 0.001\n",
        "\n",
        "\n",
        "images_dir = '../arcgis-survey-images'"
      ]
    },
    {
      "cell_type": "code",
      "execution_count": 18,
      "metadata": {},
      "outputs": [
        {
          "name": "stdout",
          "output_type": "stream",
          "text": [
            "Found 3289 files belonging to 5 classes.\n",
            "Using 2632 files for training.\n"
          ]
        },
        {
          "name": "stdout",
          "output_type": "stream",
          "text": [
            "Found 3289 files belonging to 5 classes.\n",
            "Using 657 files for validation.\n"
          ]
        }
      ],
      "source": [
        "# Cargar dataset de imágenes\n",
        "train_ds = image_dataset_from_directory(\n",
        "    images_dir,\n",
        "    labels=\"inferred\",\n",
        "    batch_size=BATCH_SIZE,\n",
        "    image_size=IMAGE_SIZE,\n",
        "    validation_split=0.2,\n",
        "    subset=\"training\",\n",
        "    seed=SEED,\n",
        "    shuffle=True\n",
        ")\n",
        "\n",
        "validation_ds = image_dataset_from_directory(\n",
        "    images_dir,\n",
        "    labels=\"inferred\",\n",
        "    batch_size=BATCH_SIZE,\n",
        "    image_size=IMAGE_SIZE,\n",
        "    validation_split=0.2,\n",
        "    subset=\"validation\",\n",
        "    seed=SEED\n",
        ")"
      ]
    },
    {
      "cell_type": "code",
      "execution_count": 19,
      "metadata": {},
      "outputs": [],
      "source": [
        "# Paso 1: Filtrar el dataset por cada clase usando tf.reduce_any para obtener un tensor booleano escalar\n",
        "chinche_salivosa_ds = train_ds.filter(lambda x, y: tf.reduce_any(tf.equal(y, 0)))\n",
        "clororis_ds = train_ds.filter(lambda x, y: tf.reduce_any(tf.equal(y, 1)))\n",
        "hoja_sana_ds = train_ds.filter(lambda x, y: tf.reduce_any(tf.equal(y, 2)))\n",
        "roya_naranja_ds = train_ds.filter(lambda x, y: tf.reduce_any(tf.equal(y, 3)))\n",
        "roya_purpura_ds = train_ds.filter(lambda x, y: tf.reduce_any(tf.equal(y, 4)))\n",
        "\n",
        "# Paso 2: Contar ejemplos manualmente\n",
        "def count_examples(dataset):\n",
        "    return dataset.reduce(0, lambda x, _: x + 1).numpy()\n",
        "\n",
        "# Obtener el tamaño de la clase mayoritaria\n",
        "chinche_salivosa_size = count_examples(chinche_salivosa_ds)\n",
        "clororis_size = count_examples(clororis_ds)\n",
        "hoja_sana_size = count_examples(hoja_sana_ds)\n",
        "roya_naranja_size = count_examples(roya_naranja_ds)\n",
        "roya_purpura_size = count_examples(roya_purpura_ds)\n",
        "\n",
        "majority_class_size = max(\n",
        "    chinche_salivosa_size,\n",
        "    clororis_size,\n",
        "    hoja_sana_size,\n",
        "    roya_naranja_size,\n",
        "    roya_purpura_size\n",
        ")\n",
        "\n",
        "# Paso 3: Sobremuestrear las clases minoritarias\n",
        "chinche_salivosa_ds = chinche_salivosa_ds.repeat().take(majority_class_size)\n",
        "clororis_ds = clororis_ds.repeat().take(majority_class_size)\n",
        "hoja_sana_ds = hoja_sana_ds.repeat().take(majority_class_size)\n",
        "roya_naranja_ds = roya_naranja_ds.repeat().take(majority_class_size)\n",
        "roya_purpura_ds = roya_purpura_ds.repeat().take(majority_class_size)\n",
        "\n",
        "# Paso 4: Concatenar los datasets sobremuestreados\n",
        "oversampled_train_ds = chinche_salivosa_ds.concatenate(clororis_ds)\n",
        "oversampled_train_ds = oversampled_train_ds.concatenate(hoja_sana_ds)\n",
        "oversampled_train_ds = oversampled_train_ds.concatenate(roya_naranja_ds)\n",
        "oversampled_train_ds = oversampled_train_ds.concatenate(roya_purpura_ds)\n",
        "\n",
        "# Paso 5: Aplicar las operaciones de optimización de cache y prefetch\n",
        "oversampled_train_ds = oversampled_train_ds.cache().shuffle(BUFFER_SIZE).prefetch(buffer_size=tf.data.AUTOTUNE)\n",
        "validation_ds = validation_ds.cache().prefetch(buffer_size=tf.data.AUTOTUNE)\n"
      ]
    },
    {
      "cell_type": "code",
      "execution_count": 20,
      "metadata": {},
      "outputs": [
        {
          "name": "stdout",
          "output_type": "stream",
          "text": [
            "Nueva distribución de clases después del sobremuestreo:\n",
            "Chinche salivosa: 414\n",
            "Clororis: 413\n",
            "Hoja sana: 415\n",
            "Roya naranja: 415\n",
            "Roya purpura: 383\n"
          ]
        }
      ],
      "source": [
        "# Paso 6: Verificar la nueva distribución de clases\n",
        "# Filtrar el dataset final por clase para contar los ejemplos nuevamente\n",
        "oversampled_chinche_salivosa_ds = oversampled_train_ds.filter(lambda x, y: tf.reduce_any(tf.equal(y, 0)))\n",
        "oversampled_clororis_ds = oversampled_train_ds.filter(lambda x, y: tf.reduce_any(tf.equal(y, 1)))\n",
        "oversampled_hoja_sana_ds = oversampled_train_ds.filter(lambda x, y: tf.reduce_any(tf.equal(y, 2)))\n",
        "oversampled_roya_naranja_ds = oversampled_train_ds.filter(lambda x, y: tf.reduce_any(tf.equal(y, 3)))\n",
        "oversampled_roya_purpura_ds = oversampled_train_ds.filter(lambda x, y: tf.reduce_any(tf.equal(y, 4)))\n",
        "\n",
        "# Contar la cantidad de ejemplos en cada clase\n",
        "oversampled_chinche_salivosa_size = count_examples(oversampled_chinche_salivosa_ds)\n",
        "oversampled_clororis_size = count_examples(oversampled_clororis_ds)\n",
        "oversampled_hoja_sana_size = count_examples(oversampled_hoja_sana_ds)\n",
        "oversampled_roya_naranja_size = count_examples(oversampled_roya_naranja_ds)\n",
        "oversampled_roya_purpura_size = count_examples(oversampled_roya_purpura_ds)\n",
        "\n",
        "# Mostrar la distribución de clases final\n",
        "print(f\"Nueva distribución de clases después del sobremuestreo:\")\n",
        "print(f\"Chinche salivosa: {oversampled_chinche_salivosa_size}\")\n",
        "print(f\"Clororis: {oversampled_clororis_size}\")\n",
        "print(f\"Hoja sana: {oversampled_hoja_sana_size}\")\n",
        "print(f\"Roya naranja: {oversampled_roya_naranja_size}\")\n",
        "print(f\"Roya purpura: {oversampled_roya_purpura_size}\")"
      ]
    },
    {
      "cell_type": "code",
      "execution_count": 21,
      "metadata": {},
      "outputs": [],
      "source": [
        "# # Data Augmentation\n",
        "# data_augmentation = tf.keras.Sequential([\n",
        "#     tf.keras.layers.RandomFlip('horizontal_and_vertical'),\n",
        "#     tf.keras.layers.RandomRotation(0.2),\n",
        "#     tf.keras.layers.RandomZoom(0.1),\n",
        "#     tf.keras.layers.RandomContrast(0.1),\n",
        "# ])"
      ]
    },
    {
      "cell_type": "code",
      "execution_count": 22,
      "metadata": {},
      "outputs": [],
      "source": [
        "# augmented_train_ds = train_ds.map(lambda x, y: (data_augmentation(x, training=True), y))"
      ]
    },
    {
      "cell_type": "code",
      "execution_count": 23,
      "metadata": {},
      "outputs": [],
      "source": [
        "class_names = train_ds.class_names"
      ]
    },
    {
      "cell_type": "code",
      "execution_count": 24,
      "metadata": {},
      "outputs": [],
      "source": [
        "# # Primero, contamos cuántos ejemplos tiene cada clase\n",
        "# class_counts = train_ds.reduce(\n",
        "#     tf.constant([0, 0, 0, 0, 0], dtype=tf.int64), \n",
        "#     lambda counts, batch: counts + tf.cast(tf.math.bincount(batch[1], minlength=5), dtype=tf.int64)\n",
        "# )"
      ]
    },
    {
      "cell_type": "code",
      "execution_count": 25,
      "metadata": {},
      "outputs": [],
      "source": [
        "\n",
        "# # Obtenemos el número máximo de ejemplos\n",
        "# max_count = tf.reduce_max(class_counts).numpy()"
      ]
    },
    {
      "cell_type": "code",
      "execution_count": 26,
      "metadata": {},
      "outputs": [],
      "source": [
        "# # Función para aplicar augmentación a las clases minoritarias\n",
        "# def augment_minority_class(x, y):\n",
        "#     augmented_x = x\n",
        "#     # Convertimos y a int32 para asegurar que funcione bien en TensorFlow\n",
        "#     y_int = tf.cast(y, tf.int32)\n",
        "    \n",
        "#     # Usamos tf.gather para obtener los valores de class_counts correspondientes a las etiquetas\n",
        "#     class_count_for_y = tf.gather(class_counts, y_int)\n",
        "    \n",
        "#     # Aplicamos augmentación si el número de ejemplos para la clase es menor al máximo\n",
        "#     should_augment = tf.less(class_count_for_y, max_count)\n",
        "    \n",
        "#     # Si should_augment es True, aplica augmentación; si no, deja la imagen como está\n",
        "#     augmented_x = tf.cond(tf.reduce_any(should_augment), lambda: data_augmentation(x, training=True), lambda: x)\n",
        "\n",
        "#     return augmented_x, y\n",
        "\n"
      ]
    },
    {
      "cell_type": "code",
      "execution_count": 27,
      "metadata": {},
      "outputs": [],
      "source": [
        "\n",
        "# # Aplicamos data augmentation a las clases minoritarias\n",
        "# augmented_train_ds = train_ds.map(lambda x, y: augment_minority_class(x, y))\n",
        "\n"
      ]
    },
    {
      "cell_type": "code",
      "execution_count": 28,
      "metadata": {},
      "outputs": [],
      "source": [
        "# # Finalmente, seguimos con el procesamiento normal de cache y prefetch\n",
        "# augmented_train_ds = augmented_train_ds.cache().shuffle(BUFFER_SIZE).prefetch(buffer_size=tf.data.AUTOTUNE)\n",
        "# validation_ds = validation_ds.cache().prefetch(buffer_size=tf.data.AUTOTUNE)"
      ]
    },
    {
      "cell_type": "code",
      "execution_count": 29,
      "metadata": {},
      "outputs": [],
      "source": [
        "# # Cache y prefetch para mejorar rendimiento\n",
        "# train_ds = train_ds.cache().shuffle(BUFFER_SIZE).prefetch(buffer_size=tf.data.AUTOTUNE)\n",
        "# validation_ds = validation_ds.cache().prefetch(buffer_size=tf.data.AUTOTUNE)"
      ]
    },
    {
      "cell_type": "code",
      "execution_count": 37,
      "metadata": {},
      "outputs": [],
      "source": [
        "# Cargar el modelo base (MobileNetV2) \n",
        "from tensorflow.keras.applications import MobileNetV2, EfficientNetB7"
      ]
    },
    {
      "cell_type": "code",
      "execution_count": 38,
      "metadata": {},
      "outputs": [
        {
          "name": "stdout",
          "output_type": "stream",
          "text": [
            "Downloading data from https://storage.googleapis.com/keras-applications/efficientnetb7_notop.h5\n",
            "\u001b[1m258076736/258076736\u001b[0m \u001b[32m━━━━━━━━━━━━━━━━━━━━\u001b[0m\u001b[37m\u001b[0m \u001b[1m8s\u001b[0m 0us/step\n"
          ]
        }
      ],
      "source": [
        "base_model = EfficientNetB7(input_shape=INPUT_SHAPE,\n",
        "                            include_top=False,\n",
        "                            weights='imagenet')\n"
      ]
    },
    {
      "cell_type": "code",
      "execution_count": 39,
      "metadata": {},
      "outputs": [],
      "source": [
        "# Ajuste de las capas del modelo base\n",
        "for layer in base_model.layers[:100]:  # Ajusta según sea necesario\n",
        "    layer.trainable = False"
      ]
    },
    {
      "cell_type": "code",
      "execution_count": 40,
      "metadata": {},
      "outputs": [],
      "source": [
        "# Definir el modelo\n",
        "model = tf.keras.models.Sequential([\n",
        "    tf.keras.layers.Rescaling(1./255),\n",
        "    base_model,\n",
        "    tf.keras.layers.GlobalAveragePooling2D(),\n",
        "    tf.keras.layers.Flatten(),\n",
        "    tf.keras.layers.Dense(64, activation='relu', kernel_regularizer=tf.keras.regularizers.l2(0.01)),\n",
        "    tf.keras.layers.Dropout(0.25),\n",
        "    tf.keras.layers.Dense(len(class_names))\n",
        "])\n"
      ]
    },
    {
      "cell_type": "code",
      "execution_count": 41,
      "metadata": {},
      "outputs": [],
      "source": [
        "# Compilar el modelo\n",
        "lr_schedule = tf.keras.optimizers.schedules.ExponentialDecay(\n",
        "    initial_learning_rate=LEARNING_RATE,\n",
        "    decay_steps=10000,\n",
        "    decay_rate=0.9,\n",
        "    staircase=True\n",
        ")"
      ]
    },
    {
      "cell_type": "code",
      "execution_count": 42,
      "metadata": {},
      "outputs": [
        {
          "ename": "",
          "evalue": "",
          "output_type": "error",
          "traceback": [
            "\u001b[1;31mThe Kernel crashed while executing code in the current cell or a previous cell. \n",
            "\u001b[1;31mPlease review the code in the cell(s) to identify a possible cause of the failure. \n",
            "\u001b[1;31mClick <a href='https://aka.ms/vscodeJupyterKernelCrash'>here</a> for more info. \n",
            "\u001b[1;31mView Jupyter <a href='command:jupyter.viewOutput'>log</a> for further details."
          ]
        }
      ],
      "source": [
        "model.compile(optimizer=tf.keras.optimizers.Adam(learning_rate=lr_schedule),\n",
        "              loss=tf.keras.losses.SparseCategoricalCrossentropy(from_logits=True),\n",
        "              metrics=['accuracy'])"
      ]
    },
    {
      "cell_type": "code",
      "execution_count": 36,
      "metadata": {},
      "outputs": [
        {
          "name": "stdout",
          "output_type": "stream",
          "text": [
            "Epoch 1/100\n",
            "\u001b[1m 79/415\u001b[0m \u001b[32m━━━\u001b[0m\u001b[37m━━━━━━━━━━━━━━━━━\u001b[0m \u001b[1m30:40\u001b[0m 5s/step - accuracy: 0.5880 - loss: 2.1673"
          ]
        }
      ],
      "source": [
        "# Entrenamiento del modelo\n",
        "history = model.fit(\n",
        "    oversampled_train_ds ,\n",
        "    validation_data=validation_ds,\n",
        "    epochs=EPOCHS,\n",
        ")"
      ]
    },
    {
      "cell_type": "code",
      "execution_count": null,
      "metadata": {},
      "outputs": [],
      "source": [
        "# Guardar el modelo en formato .keras\n",
        "model.save('final_model.keras')"
      ]
    },
    {
      "cell_type": "code",
      "execution_count": 22,
      "metadata": {},
      "outputs": [
        {
          "data": {
            "image/png": "[encoded data removed]",
            "text/plain": [
              "<Figure size 1600x600 with 2 Axes>"
            ]
          },
          "metadata": {},
          "output_type": "display_data"
        }
      ],
      "source": [
        "# Gráfica de la pérdida y precisión\n",
        "metrics = history.history\n",
        "plt.figure(figsize=(16, 6))\n",
        "plt.subplot(1, 2, 1)\n",
        "plt.plot(history.epoch, metrics['loss'], metrics['val_loss'])\n",
        "plt.legend(['training', 'validation'])\n",
        "plt.ylim([0, max(plt.ylim())])\n",
        "plt.ylabel('Loss')\n",
        "plt.xlabel('Epoch')\n",
        "\n",
        "plt.subplot(1, 2, 2)\n",
        "plt.plot(history.epoch, metrics['accuracy'], metrics['val_accuracy'])\n",
        "plt.legend(['training', 'validation'])\n",
        "plt.ylim([0, 1])\n",
        "plt.ylabel('Accuracy')\n",
        "plt.xlabel('Epoch')\n",
        "plt.show()"
      ]
    },
    {
      "cell_type": "code",
      "execution_count": 23,
      "metadata": {},
      "outputs": [
        {
          "name": "stdout",
          "output_type": "stream",
          "text": [
            "\u001b[1m10/10\u001b[0m \u001b[32m━━━━━━━━━━━━━━━━━━━━\u001b[0m\u001b[37m\u001b[0m \u001b[1m2s\u001b[0m 156ms/step - accuracy: 0.8680 - loss: 0.7639\n",
            "Resultados de evaluación en test set:\n",
            "accuracy: 0.8687\n",
            "loss: 0.8058\n"
          ]
        }
      ],
      "source": [
        "# Evaluación en el conjunto de test\n",
        "test_ds = validation_ds.shard(num_shards=2, index=1)\n",
        "test_results = model.evaluate(test_ds, return_dict=True)\n",
        "print(\"Resultados de evaluación en test set:\")\n",
        "for metric, value in test_results.items():\n",
        "    print(f\"{metric}: {value:.4f}\")"
      ]
    },
    {
      "cell_type": "code",
      "execution_count": 24,
      "metadata": {},
      "outputs": [
        {
          "name": "stdout",
          "output_type": "stream",
          "text": [
            "\u001b[1m10/10\u001b[0m \u001b[32m━━━━━━━━━━━━━━━━━━━━\u001b[0m\u001b[37m\u001b[0m \u001b[1m3s\u001b[0m 150ms/step\n"
          ]
        },
        {
          "data": {
            "image/png": "[encoded data removed]",
            "text/plain": [
              "<Figure size 1000x800 with 2 Axes>"
            ]
          },
          "metadata": {},
          "output_type": "display_data"
        }
      ],
      "source": [
        "# Matriz de confusión\n",
        "y_pred = model.predict(test_ds)\n",
        "y_pred_classes = np.argmax(y_pred, axis=1)\n",
        "y_true = np.concatenate([y for x, y in test_ds], axis=0)\n",
        "\n",
        "conf_matrix = tf.math.confusion_matrix(y_true, y_pred_classes)\n",
        "plt.figure(figsize=(10, 8))\n",
        "sns.heatmap(conf_matrix, xticklabels=class_names, yticklabels=class_names, annot=True, fmt='g')\n",
        "plt.xlabel('Prediction')\n",
        "plt.ylabel('Label')\n",
        "plt.title('Matriz de Confusión')\n",
        "plt.show()\n"
      ]
    },
    {
      "cell_type": "code",
      "execution_count": 25,
      "metadata": {},
      "outputs": [
        {
          "name": "stdout",
          "output_type": "stream",
          "text": [
            "Reporte de clasificación:\n",
            "                  precision    recall  f1-score   support\n",
            "\n",
            "Chinche salivosa       0.93      0.88      0.90        75\n",
            "        Clororis       0.86      0.81      0.83        37\n",
            "       Hoja sana       0.83      0.93      0.88        86\n",
            "    Roya naranja       0.87      0.93      0.90       103\n",
            "    Roya purpura       0.75      0.32      0.44        19\n",
            "\n",
            "        accuracy                           0.87       320\n",
            "       macro avg       0.85      0.77      0.79       320\n",
            "    weighted avg       0.87      0.87      0.86       320\n",
            "\n"
          ]
        }
      ],
      "source": [
        "# Reporte de clasificación\n",
        "from sklearn.metrics import classification_report\n",
        "print(\"Reporte de clasificación:\")\n",
        "print(classification_report(y_true, y_pred_classes, target_names=class_names))"
      ]
    }
  ],
  "metadata": {
    "accelerator": "GPU",
    "colab": {
      "gpuType": "T4",
      "machine_shape": "hm",
      "provenance": []
    },
    "kaggle": {
      "accelerator": "gpu",
      "dataSources": [
        {
          "datasetId": 4320051,
          "sourceId": 7424766,
          "sourceType": "datasetVersion"
        }
      ],
      "dockerImageVersionId": 30747,
      "isGpuEnabled": true,
      "isInternetEnabled": true,
      "language": "python",
      "sourceType": "notebook"
    },
    "kernelspec": {
      "display_name": "Python 3",
      "language": "python",
      "name": "python3"
    },
    "language_info": {
      "codemirror_mode": {
        "name": "ipython",
        "version": 3
      },
      "file_extension": ".py",
      "mimetype": "text/x-python",
      "name": "python",
      "nbconvert_exporter": "python",
      "pygments_lexer": "ipython3",
      "version": "3.11.9"
    }
  },
  "nbformat": 4,
  "nbformat_minor": 0
}

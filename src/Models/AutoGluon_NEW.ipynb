{
  "cells": [
    {
      "cell_type": "code",
      "execution_count": 18,
      "metadata": {
        "id": "8ruxvkMlke2o"
      },
      "outputs": [],
      "source": [
        "# !pip install --upgrade autogluon.multimodal"
      ]
    },
    {
      "cell_type": "code",
      "execution_count": 19,
      "metadata": {
        "id": "9kzKiiKR06q9"
      },
      "outputs": [],
      "source": [
        "# !pip uninstall torchaudio -y\n",
        "\n",
        "# !pip install torch torchvision torchaudio"
      ]
    },
    {
      "cell_type": "code",
      "execution_count": 20,
      "metadata": {
        "id": "AzucXjeNzpp4"
      },
      "outputs": [],
      "source": [
        "# !pip uninstall -y tensorflow\n",
        "# !pip install tensorflow-cpu"
      ]
    },
    {
      "cell_type": "code",
      "execution_count": null,
      "metadata": {
        "colab": {
          "base_uri": "https://localhost:8080/"
        },
        "id": "oC2SDIi77cFV",
        "outputId": "e5ac7510-a5fb-4e75-9a95-cbb199724a86"
      },
      "outputs": [],
      "source": [
        "import os\n",
        "import pandas as pd\n",
        "from sklearn.model_selection import train_test_split\n",
        "from autogluon.multimodal import MultiModalPredictor # This import should now work\n",
        "from sklearn.utils import resample\n",
        "import numpy as np\n",
        "import matplotlib.pyplot as plt\n",
        "import seaborn as sns\n",
        "from sklearn.metrics import classification_report, confusion_matrix\n",
        "from PIL import Image\n",
        "\n",
        "print(\"Bibliotecas importadas correctamente.\")"
      ]
    },
    {
      "cell_type": "code",
      "execution_count": 22,
      "metadata": {
        "colab": {
          "base_uri": "https://localhost:8080/"
        },
        "id": "7osy7TaT7dba",
        "outputId": "75be8968-ca5d-4f6a-bbc9-72aedf373f0a"
      },
      "outputs": [],
      "source": [
        "# from google.colab import drive\n",
        "# drive.mount('/content/drive')"
      ]
    },
    {
      "cell_type": "code",
      "execution_count": 23,
      "metadata": {
        "id": "KdE3n7bL7eQn"
      },
      "outputs": [],
      "source": [
        "images_dir = 'arcgis-survey-images'\n"
      ]
    },
    {
      "cell_type": "code",
      "execution_count": 24,
      "metadata": {
        "id": "w_MPbGJ67fKD"
      },
      "outputs": [],
      "source": [
        "# Verificar si el directorio existe\n",
        "if not os.path.isdir(images_dir):\n",
        "    raise FileNotFoundError(f\"El directorio '{images_dir}' no existe. Por favor, verifica la ruta.\")"
      ]
    },
    {
      "cell_type": "code",
      "execution_count": null,
      "metadata": {
        "colab": {
          "base_uri": "https://localhost:8080/"
        },
        "id": "fSvlOy027gF0",
        "outputId": "87556d91-74ca-4937-995c-ccc96103dc66"
      },
      "outputs": [],
      "source": [
        "# Obtener las clases a partir de los nombres de los subdirectorios\n",
        "class_names = sorted([d for d in os.listdir(images_dir) if os.path.isdir(os.path.join(images_dir, d))])\n",
        "print(f\"Clases encontradas: {class_names}\")\n",
        "\n",
        "# Recopilar rutas de imágenes y etiquetas\n",
        "data = []\n",
        "for class_label in class_names:\n",
        "    class_dir = os.path.join(images_dir, class_label)\n",
        "    for img_name in os.listdir(class_dir):\n",
        "        if img_name.lower().endswith(('.png', '.jpg', '.jpeg', '.bmp', '.gif')):\n",
        "            img_path = os.path.join(class_dir, img_name)\n",
        "            data.append({'image': img_path, 'label': class_label})"
      ]
    },
    {
      "cell_type": "code",
      "execution_count": null,
      "metadata": {
        "colab": {
          "base_uri": "https://localhost:8080/"
        },
        "id": "5-WjHGXE7g98",
        "outputId": "b4d1350b-afc3-435f-e099-7ce1b60fa046"
      },
      "outputs": [],
      "source": [
        "# Crear un DataFrame\n",
        "df = pd.DataFrame(data)\n",
        "print(f\"Total de imágenes: {len(df)}\")"
      ]
    },
    {
      "cell_type": "code",
      "execution_count": null,
      "metadata": {
        "colab": {
          "base_uri": "https://localhost:8080/"
        },
        "id": "HhwM-Cv47hrd",
        "outputId": "4c537fe3-b783-42df-acd2-074cbb1974cb"
      },
      "outputs": [],
      "source": [
        "# Dividir en conjuntos de entrenamiento y validación (80% entrenamiento, 20% validación)\n",
        "train_df, valid_df = train_test_split(df, test_size=0.2, stratify=df['label'], random_state=123)\n",
        "print(f\"Entrenamiento: {len(train_df)} imágenes\")\n",
        "print(f\"Validación: {len(valid_df)} imágenes\")"
      ]
    },
    {
      "cell_type": "code",
      "execution_count": null,
      "metadata": {
        "colab": {
          "base_uri": "https://localhost:8080/"
        },
        "id": "CHt8aINA7imk",
        "outputId": "dbcd4b2f-d1d9-4435-cd00-7ca490b16d1a"
      },
      "outputs": [],
      "source": [
        "# Manejo de clases desequilibradas en el conjunto de entrenamiento\n",
        "class_counts = train_df['label'].value_counts()\n",
        "print(\"Conteo de imágenes por clase en el conjunto de entrenamiento:\")\n",
        "print(class_counts)"
      ]
    },
    {
      "cell_type": "code",
      "execution_count": 29,
      "metadata": {
        "id": "X9gmDxPr7jO9"
      },
      "outputs": [],
      "source": [
        "# Encontrar la clase con el mayor número de muestras\n",
        "max_count = class_counts.max()"
      ]
    },
    {
      "cell_type": "code",
      "execution_count": 30,
      "metadata": {
        "id": "kouFGs2h7kle"
      },
      "outputs": [],
      "source": [
        "# Aumentar las muestras de las clases minoritarias\n",
        "dfs = []\n",
        "for class_label, count in class_counts.items():\n",
        "    df_class = train_df[train_df['label'] == class_label]\n",
        "    if count < max_count:\n",
        "        df_class = resample(df_class,\n",
        "                            replace=True,     # Muestra con reemplazo\n",
        "                            n_samples=max_count,  # Aumentar a max_count\n",
        "                            random_state=123)\n",
        "    dfs.append(df_class)"
      ]
    },
    {
      "cell_type": "code",
      "execution_count": 31,
      "metadata": {
        "id": "KvH4Gh3Q7lkq"
      },
      "outputs": [],
      "source": [
        "train_df_balanced = pd.concat(dfs)"
      ]
    },
    {
      "cell_type": "code",
      "execution_count": null,
      "metadata": {
        "colab": {
          "base_uri": "https://localhost:8080/"
        },
        "id": "9ZEtjsmz7miS",
        "outputId": "f86b21f8-1a72-4b78-9972-b67c583ff460"
      },
      "outputs": [],
      "source": [
        "# Mezclar el DataFrame balanceado\n",
        "train_df_balanced = train_df_balanced.sample(frac=1, random_state=123).reset_index(drop=True)\n",
        "print(\"Datos de entrenamiento después del balanceo:\")\n",
        "print(train_df_balanced['label'].value_counts())"
      ]
    },
    {
      "cell_type": "code",
      "execution_count": 33,
      "metadata": {
        "id": "jBAAMqMMwX_f"
      },
      "outputs": [],
      "source": [
        "# !python --version\n"
      ]
    },
    {
      "cell_type": "code",
      "execution_count": 5,
      "metadata": {
        "id": "oCiPPCpywX_f"
      },
      "outputs": [
        {
          "name": "stdout",
          "output_type": "stream",
          "text": [
            "^C\n"
          ]
        }
      ],
      "source": [
        "# !pip uninstall torch \n"
      ]
    },
    {
      "cell_type": "code",
      "execution_count": null,
      "metadata": {},
      "outputs": [],
      "source": [
        "# !pip uninstall torchvision  "
      ]
    },
    {
      "cell_type": "code",
      "execution_count": null,
      "metadata": {},
      "outputs": [],
      "source": [
        "# !pip uninstall torchaudio"
      ]
    },
    {
      "cell_type": "code",
      "execution_count": 2,
      "metadata": {},
      "outputs": [],
      "source": [
        "import os\n",
        "\n",
        "# Ajusta las rutas a la instalación de CUDA 12.6 en tu sistema\n",
        "os.environ[\"CUDA_HOME\"] = \"C:\\\\Program Files\\\\NVIDIA GPU Computing Toolkit\\\\CUDA\\\\v12.6\"\n",
        "os.environ[\"PATH\"] = os.environ[\"CUDA_HOME\"] + \"\\\\bin;\" + os.environ[\"CUDA_HOME\"] + \"\\\\libnvvp;\" + os.environ[\"PATH\"]\n",
        "\n",
        "# Reinicia PyTorch para que tome las nuevas configuraciones (opcional en algunos casos)\n",
        "import torch\n",
        "torch.cuda.init()\n"
      ]
    },
    {
      "cell_type": "code",
      "execution_count": 1,
      "metadata": {},
      "outputs": [
        {
          "name": "stdout",
          "output_type": "stream",
          "text": [
            "11.8\n",
            "True\n"
          ]
        }
      ],
      "source": [
        "import torch\n",
        "print(torch.version.cuda)  # Esto debería mostrar '12.6'\n",
        "print(torch.cuda.is_available())  # Esto debería devolver True\n"
      ]
    },
    {
      "cell_type": "code",
      "execution_count": 35,
      "metadata": {
        "id": "IUbE3lujwX_f"
      },
      "outputs": [],
      "source": [
        "# !pip uninstall torchvision"
      ]
    },
    {
      "cell_type": "code",
      "execution_count": 36,
      "metadata": {
        "id": "JOB3ddUSwX_f"
      },
      "outputs": [],
      "source": [
        "# !pip uninstall torchaudio"
      ]
    },
    {
      "cell_type": "code",
      "execution_count": 19,
      "metadata": {
        "id": "csBWw7cXwX_f"
      },
      "outputs": [],
      "source": []
    },
    {
      "cell_type": "code",
      "execution_count": 37,
      "metadata": {
        "id": "ekg_6rCNwX_f"
      },
      "outputs": [],
      "source": [
        "# !pip show torch\n"
      ]
    },
    {
      "cell_type": "code",
      "execution_count": null,
      "metadata": {
        "colab": {
          "base_uri": "https://localhost:8080/"
        },
        "id": "Qc_QBobuwX_f",
        "outputId": "96b7627a-9539-4eea-e9f0-2ae646b8a12e"
      },
      "outputs": [],
      "source": [
        "import torch\n",
        "\n",
        "# Verificar si hay una GPU disponible\n",
        "if torch.cuda.is_available():\n",
        "    num_gpus = 1  # Usar 1 GPU\n",
        "    print(\"GPU disponible. Usando GPU para el entrenamiento.\")\n",
        "else:\n",
        "    num_gpus = 0  # Usar CPU\n",
        "    print(\"No se encontró GPU. Usando CPU para el entrenamiento.\")"
      ]
    },
    {
      "cell_type": "code",
      "execution_count": 1,
      "metadata": {
        "id": "CYbVhGzuwX_g"
      },
      "outputs": [
        {
          "name": "stdout",
          "output_type": "stream",
          "text": [
            "nvcc: NVIDIA (R) Cuda compiler driver\n",
            "Copyright (c) 2005-2022 NVIDIA Corporation\n",
            "Built on Wed_Sep_21_10:41:10_Pacific_Daylight_Time_2022\n",
            "Cuda compilation tools, release 11.8, V11.8.89\n",
            "Build cuda_11.8.r11.8/compiler.31833905_0\n"
          ]
        }
      ],
      "source": [
        "!nvcc --version"
      ]
    },
    {
      "cell_type": "code",
      "execution_count": 3,
      "metadata": {},
      "outputs": [
        {
          "name": "stdout",
          "output_type": "stream",
          "text": [
            "True\n",
            "1\n",
            "NVIDIA GeForce GTX 1650 Ti\n"
          ]
        }
      ],
      "source": [
        "import torch\n",
        "print(torch.cuda.is_available())\n",
        "print(torch.cuda.device_count())\n",
        "print(torch.cuda.get_device_name(0))\n"
      ]
    },
    {
      "cell_type": "code",
      "execution_count": 2,
      "metadata": {},
      "outputs": [
        {
          "name": "stdout",
          "output_type": "stream",
          "text": [
            "Mon Oct  7 20:25:58 2024       \n",
            "+-----------------------------------------------------------------------------------------+\n",
            "| NVIDIA-SMI 560.94                 Driver Version: 560.94         CUDA Version: 12.6     |\n",
            "|-----------------------------------------+------------------------+----------------------+\n",
            "| GPU  Name                  Driver-Model | Bus-Id          Disp.A | Volatile Uncorr. ECC |\n",
            "| Fan  Temp   Perf          Pwr:Usage/Cap |           Memory-Usage | GPU-Util  Compute M. |\n",
            "|                                         |                        |               MIG M. |\n",
            "|=========================================+========================+======================|\n",
            "|   0  NVIDIA GeForce GTX 1650 Ti   WDDM  |   00000000:01:00.0  On |                  N/A |\n",
            "| N/A   55C    P8              4W /   50W |    1013MiB /   4096MiB |      9%      Default |\n",
            "|                                         |                        |                  N/A |\n",
            "+-----------------------------------------+------------------------+----------------------+\n",
            "                                                                                         \n",
            "+-----------------------------------------------------------------------------------------+\n",
            "| Processes:                                                                              |\n",
            "|  GPU   GI   CI        PID   Type   Process name                              GPU Memory |\n",
            "|        ID   ID                                                               Usage      |\n",
            "|=========================================================================================|\n",
            "|    0   N/A  N/A      5376    C+G   ...on\\129.0.2792.79\\msedgewebview2.exe      N/A      |\n",
            "|    0   N/A  N/A      7652    C+G   ...617_x64__8wekyb3d8bbwe\\ms-teams.exe      N/A      |\n",
            "|    0   N/A  N/A      9320    C+G   ...2txyewy\\StartMenuExperienceHost.exe      N/A      |\n",
            "|    0   N/A  N/A      9424    C+G   C:\\Windows\\explorer.exe                     N/A      |\n",
            "|    0   N/A  N/A      9676    C+G   ...ne\\Binaries\\Win64\\EpicWebHelper.exe      N/A      |\n",
            "|    0   N/A  N/A      9704    C+G   ...nt.CBS_cw5n1h2txyewy\\SearchHost.exe      N/A      |\n",
            "|    0   N/A  N/A     13296    C+G   ...t.LockApp_cw5n1h2txyewy\\LockApp.exe      N/A      |\n",
            "|    0   N/A  N/A     13324    C+G   ...GeForce Experience\\NVIDIA Share.exe      N/A      |\n",
            "|    0   N/A  N/A     13704    C+G   ...ekyb3d8bbwe\\PhoneExperienceHost.exe      N/A      |\n",
            "|    0   N/A  N/A     13940    C+G   ...EA Desktop\\EA Desktop\\EADesktop.exe      N/A      |\n",
            "|    0   N/A  N/A     14200    C+G   ...Programs\\Microsoft VS Code\\Code.exe      N/A      |\n",
            "|    0   N/A  N/A     14680    C+G   ...inaries\\Win64\\EpicGamesLauncher.exe      N/A      |\n",
            "|    0   N/A  N/A     15008    C+G   ...B\\system_tray\\lghub_system_tray.exe      N/A      |\n",
            "|    0   N/A  N/A     15548    C+G   ...22.1414_x64__rb9pth70m6nz6\\Muse.exe      N/A      |\n",
            "|    0   N/A  N/A     15752    C+G   ...66.0_x64__zpdnekdrzrea0\\Spotify.exe      N/A      |\n",
            "|    0   N/A  N/A     16064    C+G   ...617_x64__8wekyb3d8bbwe\\ms-teams.exe      N/A      |\n",
            "|    0   N/A  N/A     16824    C+G   ...on\\129.0.2792.79\\msedgewebview2.exe      N/A      |\n",
            "|    0   N/A  N/A     17656    C+G   ...ktop\\EA Desktop\\EACefSubProcess.exe      N/A      |\n",
            "|    0   N/A  N/A     22076    C+G   ...7.0_x64__cv1g1gvanyjgm\\WhatsApp.exe      N/A      |\n",
            "|    0   N/A  N/A     23524    C+G   ...a\\AppData\\Roaming\\Zoom\\bin\\Zoom.exe      N/A      |\n",
            "|    0   N/A  N/A     25876    C+G   ...on\\129.0.2792.79\\msedgewebview2.exe      N/A      |\n",
            "|    0   N/A  N/A     28120    C+G   ...__8wekyb3d8bbwe\\WindowsTerminal.exe      N/A      |\n",
            "+-----------------------------------------------------------------------------------------+\n"
          ]
        }
      ],
      "source": [
        "!nvidia-smi\n"
      ]
    },
    {
      "cell_type": "code",
      "execution_count": 40,
      "metadata": {
        "id": "AxPifdwa7nRK"
      },
      "outputs": [],
      "source": [
        "# Definir el predictor de AutoMM para clasificación\n",
        "predictor = MultiModalPredictor(problem_type=\"classification\")"
      ]
    },
    {
      "cell_type": "code",
      "execution_count": 41,
      "metadata": {
        "id": "5nXEakpswX_g"
      },
      "outputs": [],
      "source": [
        "# import os\n",
        "# import multiprocessing\n",
        "\n",
        "# # Configurar Jupyter para usar un solo hilo\n",
        "# os.environ['OPENBLAS_NUM_THREADS'] = '1'\n",
        "# os.environ['MKL_NUM_THREADS'] = '1'\n",
        "# os.environ['OMP_NUM_THREADS'] = '1'\n",
        "\n",
        "# # Configurar el método de inicio de multiprocesamiento\n",
        "# multiprocessing.set_start_method('spawn', force=True)"
      ]
    },
    {
      "cell_type": "code",
      "execution_count": null,
      "metadata": {
        "colab": {
          "base_uri": "https://localhost:8080/",
          "height": 917,
          "referenced_widgets": [
            "e5a66a60f77f405ab2826dd2cd3d4845",
            "8ef71ba93cb141aaaf482769e0e0368b",
            "476d8b229da14ad88db857ae58072ddd",
            "9b2ac560f68d4f6cb992e00e6e4cd39a",
            "1250f1838ee24a6d84557cf055ce6bb0",
            "3329b909e451465abd3a1cbb67d321cc",
            "ea11a76449eb43598062a3c5803de177",
            "bb26cb7dc20f42fd8652cca3ef44d5fb",
            "81314e523157432baaff2edf74dde8d0",
            "a35fb361159743fd896704f20f9d9ecf",
            "86cc9cf8640c491bab807b3936069ce4",
            "d00b2ac6752245b6b45a5db78b502630",
            "feffa8e12c8d45c0ab711f2d4764f55e",
            "e3cef4ad62cf425c92a2b74066182c46",
            "7758f30f11af458bba51838aff4b9212",
            "d48cef957de34fd2bb63a4cf31b211c2",
            "ad5068cefb674798a93caa7bc160cc50",
            "7276ef3ecf3146629e6b3240f421456f",
            "2bff7162393a4900a1121d309fea1825",
            "dfd7c2c6bd2949108e1046de28f5b769",
            "a9c8e5d4da1a42a9910c89bc62bf0bae",
            "0ed34f4853204b84ad7da0196b9d4c6d",
            "4d8769d2dcc44d78b269a22b1342b456",
            "f83f66bc714d4d8f912a8673b01a037e",
            "a3d98612ee05497a87809cc10c7912a4",
            "327e6c9c62cb4ed7a5f18ba36eec4c88",
            "1b3e832a9f62469aac24fa2ba385b455",
            "afc9d1584cf14b2bb878c46a9bd7193b",
            "551783a813bd4bf99b27256e7b05f034",
            "2cf949159f4849d5bd55e692cfc4d2db",
            "99df6875a310482e9c2fd06d5c167cb4",
            "2f95ee960eb64c4eb76ab3e5ed7f0359",
            "a489408ac6bb4483bb3ba3d0ce2d4867"
          ]
        },
        "id": "PTjqlAQz7oCE",
        "outputId": "2a970676-4989-4219-8159-c302c53a2a50"
      },
      "outputs": [],
      "source": [
        "from autogluon.multimodal import MultiModalPredictor\n",
        "from sklearn.metrics import classification_report\n",
        "import pandas as pd\n",
        "\n",
        "# Inicializar el predictor\n",
        "predictor = MultiModalPredictor(\n",
        "    label='label',\n",
        "    path='autogluon_plague_classifier-new',\n",
        "    problem_type='multiclass',\n",
        "    eval_metric='accuracy'\n",
        ")\n",
        "\n",
        "# Ajustar el modelo\n",
        "predictor.fit(\n",
        "    train_data=train_df_balanced,\n",
        "    tuning_data=valid_df,\n",
        "    presets=\"best_quality\"\n",
        ")"
      ]
    },
    {
      "cell_type": "code",
      "execution_count": null,
      "metadata": {
        "id": "bE1xNcXa7o_W"
      },
      "outputs": [],
      "source": [
        "\n",
        "# Evaluar el modelo en el conjunto de validación\n",
        "print(\"Evaluando el modelo en el conjunto de validación...\")\n",
        "test_metrics = predictor.evaluate(valid_df)\n",
        "print(\"Métricas de evaluación:\", test_metrics)"
      ]
    },
    {
      "cell_type": "code",
      "execution_count": null,
      "metadata": {
        "id": "yojp2i9Y7ptn"
      },
      "outputs": [],
      "source": [
        "\n",
        "# Obtener predicciones en el conjunto de validación\n",
        "print(\"Obteniendo predicciones en el conjunto de validación...\")\n",
        "valid_predictions = predictor.predict(valid_df)\n"
      ]
    },
    {
      "cell_type": "code",
      "execution_count": null,
      "metadata": {
        "id": "4YNxCa1a7q53"
      },
      "outputs": [],
      "source": [
        "# Añadir las predicciones al DataFrame de validación\n",
        "valid_df['pred_label'] = valid_predictions"
      ]
    },
    {
      "cell_type": "code",
      "execution_count": null,
      "metadata": {
        "id": "m-WG5frY7s-d"
      },
      "outputs": [],
      "source": [
        "# Generar el reporte de clasificación\n",
        "print(\"Reporte de clasificación:\")\n",
        "print(classification_report(valid_df['label'], valid_df['pred_label'], target_names=class_names))"
      ]
    },
    {
      "cell_type": "code",
      "execution_count": null,
      "metadata": {
        "id": "Oier29IpCxs6"
      },
      "outputs": [],
      "source": [
        "# Obtener un resumen del ajuste utilizando fit_summary\n",
        "fit_summary = predictor.fit_summary()\n",
        "print(\"\\nResumen del ajuste del modelo:\")\n",
        "print(fit_summary)"
      ]
    },
    {
      "cell_type": "code",
      "execution_count": null,
      "metadata": {
        "id": "v5839vNSCztr"
      },
      "outputs": [],
      "source": [
        "# Extraer información adicional de los modelos probados\n",
        "model_info = predictor.info()\n",
        "best_model = model_info.get('best_model')"
      ]
    },
    {
      "cell_type": "code",
      "execution_count": null,
      "metadata": {
        "id": "FAYwG301C1i0"
      },
      "outputs": [],
      "source": [
        "# Imprimir información detallada sobre el mejor modelo\n",
        "print(f\"\\nEl mejor modelo fue: {best_model}\")\n",
        "print(\"\\nInformación detallada del mejor modelo:\")\n",
        "print(model_info['model_info'][best_model])"
      ]
    },
    {
      "cell_type": "code",
      "execution_count": null,
      "metadata": {
        "id": "m05S9zVd7tl7"
      },
      "outputs": [],
      "source": [
        "# Crear la matriz de confusión\n",
        "conf_matrix = confusion_matrix(valid_df['label'], valid_df['pred_label'], labels=class_names)\n",
        "plt.figure(figsize=(10, 8))\n",
        "sns.heatmap(conf_matrix, annot=True, fmt='d', xticklabels=class_names, yticklabels=class_names, cmap='Blues')\n",
        "plt.xlabel('Predicción')\n",
        "plt.ylabel('Etiqueta')\n",
        "plt.title('Matriz de Confusión')\n",
        "plt.show()"
      ]
    },
    {
      "cell_type": "code",
      "execution_count": null,
      "metadata": {
        "id": "wMdxPTSG7uVj"
      },
      "outputs": [],
      "source": [
        "def show_predictions(predictor, df, num_images=5):\n",
        "    samples = df.sample(n=num_images, random_state=42)\n",
        "    for idx, row in samples.iterrows():\n",
        "        img_path = row['image']\n",
        "        true_label = row['label']\n",
        "        image = Image.open(img_path).convert('RGB')\n",
        "\n",
        "        # Crear un DataFrame con una sola fila\n",
        "        input_df = pd.DataFrame({'image': [img_path]})\n",
        "\n",
        "        # Obtener la predicción\n",
        "        pred_label = predictor.predict(input_df)\n",
        "\n",
        "        # Extraer la etiqueta predicha\n",
        "        predicted_class = pred_label.iloc[0]\n",
        "\n",
        "        # Mostrar la imagen con las etiquetas\n",
        "        plt.figure(figsize=(4,4))\n",
        "        plt.imshow(image)\n",
        "        plt.title(f\"Verdadero: {true_label}\\nPredicción: {predicted_class}\")\n",
        "        plt.axis('off')\n",
        "        plt.show()\n"
      ]
    },
    {
      "cell_type": "code",
      "execution_count": null,
      "metadata": {
        "id": "9hvriDqM7vIM"
      },
      "outputs": [],
      "source": [
        "# Mostrar 5 predicciones aleatorias\n",
        "show_predictions(predictor, valid_df, num_images=5)"
      ]
    },
    {
      "cell_type": "code",
      "execution_count": null,
      "metadata": {
        "id": "wF5qaKgs7wD-"
      },
      "outputs": [],
      "source": [
        "# Guardar el modelo\n",
        "predictor.save(\"autogluon_plague_classifier\")\n",
        "print(\"Modelo guardado en 'autogluon_plague_classifier'.\")"
      ]
    },
    {
      "cell_type": "code",
      "execution_count": null,
      "metadata": {
        "id": "IGzWJ1WpKDpq"
      },
      "outputs": [],
      "source": [
        "print(\"Ruta donde se guardan los modelos:\", predictor.path)\n"
      ]
    },
    {
      "cell_type": "code",
      "execution_count": null,
      "metadata": {
        "id": "Z4_O-gDnH8pV"
      },
      "outputs": [],
      "source": [
        "summary = predictor.fit_summary()\n",
        "print(summary)"
      ]
    },
    {
      "cell_type": "code",
      "execution_count": null,
      "metadata": {
        "id": "fxcavonzIZwS"
      },
      "outputs": [],
      "source": [
        "evaluation = predictor.evaluate(valid_df)\n",
        "print(evaluation)"
      ]
    },
    {
      "cell_type": "code",
      "execution_count": null,
      "metadata": {
        "id": "t8UAqoFBIt_A"
      },
      "outputs": [],
      "source": [
        "fit_summary = predictor._learner.fit_summary()\n",
        "print(\"Resumen del entrenamiento:\")\n",
        "print(fit_summary)"
      ]
    },
    {
      "cell_type": "code",
      "execution_count": null,
      "metadata": {
        "id": "nouUdy7YI9tK"
      },
      "outputs": [],
      "source": [
        "evaluation = predictor._learner.evaluate(valid_df)\n",
        "print(\"Evaluación del modelo:\")\n",
        "print(evaluation)"
      ]
    },
    {
      "cell_type": "code",
      "execution_count": null,
      "metadata": {
        "id": "QCd8Y-RtJAs9"
      },
      "outputs": [],
      "source": [
        "predictions = predictor._learner.predict(valid_df)\n",
        "probabilities = predictor._learner.predict_proba(valid_df)\n",
        "print(\"Predicciones:\", predictions)\n",
        "print(\"Probabilidades:\", probabilities)"
      ]
    },
    {
      "cell_type": "code",
      "execution_count": null,
      "metadata": {
        "id": "vIfugDODJCGu"
      },
      "outputs": [],
      "source": [
        "best_score = predictor._learner._best_score\n",
        "print(\"Mejor puntaje:\", best_score)"
      ]
    },
    {
      "cell_type": "code",
      "execution_count": null,
      "metadata": {
        "id": "H_JxF2CQjbJa"
      },
      "outputs": [],
      "source": [
        "import matplotlib.pyplot as plt\n",
        "\n",
        "# Supongamos que las métricas de validación y entrenamiento están en fit_summary\n",
        "train_accuracy = fit_summary['train_acc']\n",
        "valid_accuracy = fit_summary['valid_acc']\n",
        "epochs = list(range(1, len(train_accuracy) + 1))\n",
        "\n",
        "plt.figure(figsize=(16, 6))\n",
        "\n",
        "# Precisión\n",
        "plt.subplot(1, 2, 1)\n",
        "plt.plot(epochs, train_accuracy, label='Entrenamiento')\n",
        "plt.plot(epochs, valid_accuracy, label='Validación')\n",
        "plt.legend()\n",
        "plt.ylabel('Precisión')\n",
        "plt.xlabel('Época')\n",
        "plt.title('Precisión durante el Entrenamiento')\n",
        "plt.show()\n"
      ]
    },
    {
      "cell_type": "code",
      "execution_count": null,
      "metadata": {
        "id": "pR97-Okfjd3F"
      },
      "outputs": [],
      "source": [
        "from sklearn.metrics import classification_report, confusion_matrix\n",
        "import seaborn as sns\n",
        "import numpy as np\n",
        "\n",
        "# Obtener predicciones\n",
        "y_pred = predictor.predict(valid_df)\n",
        "y_true = valid_df['label'].values  # Etiquetas verdaderas\n",
        "\n",
        "# Matriz de confusión\n",
        "conf_matrix = confusion_matrix(y_true, y_pred)\n",
        "\n",
        "# Visualizar la matriz de confusión\n",
        "plt.figure(figsize=(10, 8))\n",
        "sns.heatmap(conf_matrix, annot=True, fmt='d', cmap='Blues')\n",
        "plt.xlabel('Predicción')\n",
        "plt.ylabel('Etiqueta Verdadera')\n",
        "plt.title('Matriz de Confusión')\n",
        "plt.show()\n",
        "\n",
        "# Reporte de clasificación\n",
        "print(\"Reporte de clasificación:\")\n",
        "print(classification_report(y_true, y_pred, target_names=predictor.class_names))\n"
      ]
    },
    {
      "cell_type": "code",
      "execution_count": null,
      "metadata": {
        "id": "YpOMSPe5JKW8"
      },
      "outputs": [],
      "source": [
        "problem_type = predictor._learner.problem_type\n",
        "print(\"Tipo de problema:\", problem_type)"
      ]
    },
    {
      "cell_type": "code",
      "execution_count": null,
      "metadata": {
        "id": "TGb6ajE8JMr8"
      },
      "outputs": [],
      "source": [
        "validation_metric = predictor._learner.validation_metric\n",
        "print(\"Métrica de validación:\", validation_metric)"
      ]
    },
    {
      "cell_type": "code",
      "execution_count": null,
      "metadata": {
        "id": "YP3wUZTIJEIT"
      },
      "outputs": [],
      "source": [
        "best_model = predictor._learner._model\n",
        "print(\"Mejor modelo:\")\n",
        "print(best_model)"
      ]
    },
    {
      "cell_type": "code",
      "execution_count": null,
      "metadata": {
        "id": "QrQkloI87wvk"
      },
      "outputs": [],
      "source": [
        "# Cargar el modelo guardado con AutoMM\n",
        "loaded_predictor = MultiModalPredictor.load(\"autogluon_plague_classifier\")\n",
        "print(\"Modelo cargado desde 'autogluon_plague_classifier'.\")"
      ]
    },
    {
      "cell_type": "code",
      "execution_count": null,
      "metadata": {
        "id": "wrJVjRwK7xVM"
      },
      "outputs": [],
      "source": [
        "# Evaluar nuevamente para verificar\n",
        "test_metrics = loaded_predictor.evaluate(valid_df)\n",
        "print(\"Métricas de evaluación del modelo cargado:\", test_metrics)"
      ]
    }
  ],
  "metadata": {
    "accelerator": "TPU",
    "colab": {
      "gpuType": "V28",
      "machine_shape": "hm",
      "provenance": []
    },
    "kernelspec": {
      "display_name": "Python 3",
      "name": "python3"
    },
    "language_info": {
      "codemirror_mode": {
        "name": "ipython",
        "version": 3
      },
      "file_extension": ".py",
      "mimetype": "text/x-python",
      "name": "python",
      "nbconvert_exporter": "python",
      "pygments_lexer": "ipython3",
      "version": "3.11.9"
    },
    "widgets": {
      "application/vnd.jupyter.widget-state+json": {
        "0ed34f4853204b84ad7da0196b9d4c6d": {
          "model_module": "@jupyter-widgets/controls",
          "model_module_version": "1.5.0",
          "model_name": "DescriptionStyleModel",
          "state": {
            "_model_module": "@jupyter-widgets/controls",
            "_model_module_version": "1.5.0",
            "_model_name": "DescriptionStyleModel",
            "_view_count": null,
            "_view_module": "@jupyter-widgets/base",
            "_view_module_version": "1.2.0",
            "_view_name": "StyleView",
            "description_width": ""
          }
        },
        "1250f1838ee24a6d84557cf055ce6bb0": {
          "model_module": "@jupyter-widgets/base",
          "model_module_version": "1.2.0",
          "model_name": "LayoutModel",
          "state": {
            "_model_module": "@jupyter-widgets/base",
            "_model_module_version": "1.2.0",
            "_model_name": "LayoutModel",
            "_view_count": null,
            "_view_module": "@jupyter-widgets/base",
            "_view_module_version": "1.2.0",
            "_view_name": "LayoutView",
            "align_content": null,
            "align_items": null,
            "align_self": null,
            "border": null,
            "bottom": null,
            "display": null,
            "flex": null,
            "flex_flow": null,
            "grid_area": null,
            "grid_auto_columns": null,
            "grid_auto_flow": null,
            "grid_auto_rows": null,
            "grid_column": null,
            "grid_gap": null,
            "grid_row": null,
            "grid_template_areas": null,
            "grid_template_columns": null,
            "grid_template_rows": null,
            "height": null,
            "justify_content": null,
            "justify_items": null,
            "left": null,
            "margin": null,
            "max_height": null,
            "max_width": null,
            "min_height": null,
            "min_width": null,
            "object_fit": null,
            "object_position": null,
            "order": null,
            "overflow": null,
            "overflow_x": null,
            "overflow_y": null,
            "padding": null,
            "right": null,
            "top": null,
            "visibility": null,
            "width": null
          }
        },
        "1b3e832a9f62469aac24fa2ba385b455": {
          "model_module": "@jupyter-widgets/base",
          "model_module_version": "1.2.0",
          "model_name": "LayoutModel",
          "state": {
            "_model_module": "@jupyter-widgets/base",
            "_model_module_version": "1.2.0",
            "_model_name": "LayoutModel",
            "_view_count": null,
            "_view_module": "@jupyter-widgets/base",
            "_view_module_version": "1.2.0",
            "_view_name": "LayoutView",
            "align_content": null,
            "align_items": null,
            "align_self": null,
            "border": null,
            "bottom": null,
            "display": "inline-flex",
            "flex": null,
            "flex_flow": "row wrap",
            "grid_area": null,
            "grid_auto_columns": null,
            "grid_auto_flow": null,
            "grid_auto_rows": null,
            "grid_column": null,
            "grid_gap": null,
            "grid_row": null,
            "grid_template_areas": null,
            "grid_template_columns": null,
            "grid_template_rows": null,
            "height": null,
            "justify_content": null,
            "justify_items": null,
            "left": null,
            "margin": null,
            "max_height": null,
            "max_width": null,
            "min_height": null,
            "min_width": null,
            "object_fit": null,
            "object_position": null,
            "order": null,
            "overflow": null,
            "overflow_x": null,
            "overflow_y": null,
            "padding": null,
            "right": null,
            "top": null,
            "visibility": null,
            "width": "100%"
          }
        },
        "2bff7162393a4900a1121d309fea1825": {
          "model_module": "@jupyter-widgets/base",
          "model_module_version": "1.2.0",
          "model_name": "LayoutModel",
          "state": {
            "_model_module": "@jupyter-widgets/base",
            "_model_module_version": "1.2.0",
            "_model_name": "LayoutModel",
            "_view_count": null,
            "_view_module": "@jupyter-widgets/base",
            "_view_module_version": "1.2.0",
            "_view_name": "LayoutView",
            "align_content": null,
            "align_items": null,
            "align_self": null,
            "border": null,
            "bottom": null,
            "display": null,
            "flex": "2",
            "flex_flow": null,
            "grid_area": null,
            "grid_auto_columns": null,
            "grid_auto_flow": null,
            "grid_auto_rows": null,
            "grid_column": null,
            "grid_gap": null,
            "grid_row": null,
            "grid_template_areas": null,
            "grid_template_columns": null,
            "grid_template_rows": null,
            "height": null,
            "justify_content": null,
            "justify_items": null,
            "left": null,
            "margin": null,
            "max_height": null,
            "max_width": null,
            "min_height": null,
            "min_width": null,
            "object_fit": null,
            "object_position": null,
            "order": null,
            "overflow": null,
            "overflow_x": null,
            "overflow_y": null,
            "padding": null,
            "right": null,
            "top": null,
            "visibility": null,
            "width": null
          }
        },
        "2cf949159f4849d5bd55e692cfc4d2db": {
          "model_module": "@jupyter-widgets/base",
          "model_module_version": "1.2.0",
          "model_name": "LayoutModel",
          "state": {
            "_model_module": "@jupyter-widgets/base",
            "_model_module_version": "1.2.0",
            "_model_name": "LayoutModel",
            "_view_count": null,
            "_view_module": "@jupyter-widgets/base",
            "_view_module_version": "1.2.0",
            "_view_name": "LayoutView",
            "align_content": null,
            "align_items": null,
            "align_self": null,
            "border": null,
            "bottom": null,
            "display": null,
            "flex": "2",
            "flex_flow": null,
            "grid_area": null,
            "grid_auto_columns": null,
            "grid_auto_flow": null,
            "grid_auto_rows": null,
            "grid_column": null,
            "grid_gap": null,
            "grid_row": null,
            "grid_template_areas": null,
            "grid_template_columns": null,
            "grid_template_rows": null,
            "height": null,
            "justify_content": null,
            "justify_items": null,
            "left": null,
            "margin": null,
            "max_height": null,
            "max_width": null,
            "min_height": null,
            "min_width": null,
            "object_fit": null,
            "object_position": null,
            "order": null,
            "overflow": null,
            "overflow_x": null,
            "overflow_y": null,
            "padding": null,
            "right": null,
            "top": null,
            "visibility": null,
            "width": null
          }
        },
        "2f95ee960eb64c4eb76ab3e5ed7f0359": {
          "model_module": "@jupyter-widgets/base",
          "model_module_version": "1.2.0",
          "model_name": "LayoutModel",
          "state": {
            "_model_module": "@jupyter-widgets/base",
            "_model_module_version": "1.2.0",
            "_model_name": "LayoutModel",
            "_view_count": null,
            "_view_module": "@jupyter-widgets/base",
            "_view_module_version": "1.2.0",
            "_view_name": "LayoutView",
            "align_content": null,
            "align_items": null,
            "align_self": null,
            "border": null,
            "bottom": null,
            "display": null,
            "flex": null,
            "flex_flow": null,
            "grid_area": null,
            "grid_auto_columns": null,
            "grid_auto_flow": null,
            "grid_auto_rows": null,
            "grid_column": null,
            "grid_gap": null,
            "grid_row": null,
            "grid_template_areas": null,
            "grid_template_columns": null,
            "grid_template_rows": null,
            "height": null,
            "justify_content": null,
            "justify_items": null,
            "left": null,
            "margin": null,
            "max_height": null,
            "max_width": null,
            "min_height": null,
            "min_width": null,
            "object_fit": null,
            "object_position": null,
            "order": null,
            "overflow": null,
            "overflow_x": null,
            "overflow_y": null,
            "padding": null,
            "right": null,
            "top": null,
            "visibility": null,
            "width": null
          }
        },
        "327e6c9c62cb4ed7a5f18ba36eec4c88": {
          "model_module": "@jupyter-widgets/controls",
          "model_module_version": "1.5.0",
          "model_name": "HTMLModel",
          "state": {
            "_dom_classes": [],
            "_model_module": "@jupyter-widgets/controls",
            "_model_module_version": "1.5.0",
            "_model_name": "HTMLModel",
            "_view_count": null,
            "_view_module": "@jupyter-widgets/controls",
            "_view_module_version": "1.5.0",
            "_view_name": "HTMLView",
            "description": "",
            "description_tooltip": null,
            "layout": "IPY_MODEL_2f95ee960eb64c4eb76ab3e5ed7f0359",
            "placeholder": "​",
            "style": "IPY_MODEL_a489408ac6bb4483bb3ba3d0ce2d4867",
            "value": " 213/4005 [20:26&lt;6:03:57,  0.17it/s]"
          }
        },
        "3329b909e451465abd3a1cbb67d321cc": {
          "model_module": "@jupyter-widgets/base",
          "model_module_version": "1.2.0",
          "model_name": "LayoutModel",
          "state": {
            "_model_module": "@jupyter-widgets/base",
            "_model_module_version": "1.2.0",
            "_model_name": "LayoutModel",
            "_view_count": null,
            "_view_module": "@jupyter-widgets/base",
            "_view_module_version": "1.2.0",
            "_view_name": "LayoutView",
            "align_content": null,
            "align_items": null,
            "align_self": null,
            "border": null,
            "bottom": null,
            "display": null,
            "flex": null,
            "flex_flow": null,
            "grid_area": null,
            "grid_auto_columns": null,
            "grid_auto_flow": null,
            "grid_auto_rows": null,
            "grid_column": null,
            "grid_gap": null,
            "grid_row": null,
            "grid_template_areas": null,
            "grid_template_columns": null,
            "grid_template_rows": null,
            "height": null,
            "justify_content": null,
            "justify_items": null,
            "left": null,
            "margin": null,
            "max_height": null,
            "max_width": null,
            "min_height": null,
            "min_width": null,
            "object_fit": null,
            "object_position": null,
            "order": null,
            "overflow": null,
            "overflow_x": null,
            "overflow_y": null,
            "padding": null,
            "right": null,
            "top": null,
            "visibility": null,
            "width": null
          }
        },
        "476d8b229da14ad88db857ae58072ddd": {
          "model_module": "@jupyter-widgets/controls",
          "model_module_version": "1.5.0",
          "model_name": "FloatProgressModel",
          "state": {
            "_dom_classes": [],
            "_model_module": "@jupyter-widgets/controls",
            "_model_module_version": "1.5.0",
            "_model_name": "FloatProgressModel",
            "_view_count": null,
            "_view_module": "@jupyter-widgets/controls",
            "_view_module_version": "1.5.0",
            "_view_name": "ProgressView",
            "bar_style": "success",
            "description": "",
            "description_tooltip": null,
            "layout": "IPY_MODEL_bb26cb7dc20f42fd8652cca3ef44d5fb",
            "max": 787742820,
            "min": 0,
            "orientation": "horizontal",
            "style": "IPY_MODEL_81314e523157432baaff2edf74dde8d0",
            "value": 787742820
          }
        },
        "4d8769d2dcc44d78b269a22b1342b456": {
          "model_module": "@jupyter-widgets/controls",
          "model_module_version": "1.5.0",
          "model_name": "HBoxModel",
          "state": {
            "_dom_classes": [],
            "_model_module": "@jupyter-widgets/controls",
            "_model_module_version": "1.5.0",
            "_model_name": "HBoxModel",
            "_view_count": null,
            "_view_module": "@jupyter-widgets/controls",
            "_view_module_version": "1.5.0",
            "_view_name": "HBoxView",
            "box_style": "",
            "children": [
              "IPY_MODEL_f83f66bc714d4d8f912a8673b01a037e",
              "IPY_MODEL_a3d98612ee05497a87809cc10c7912a4",
              "IPY_MODEL_327e6c9c62cb4ed7a5f18ba36eec4c88"
            ],
            "layout": "IPY_MODEL_1b3e832a9f62469aac24fa2ba385b455"
          }
        },
        "551783a813bd4bf99b27256e7b05f034": {
          "model_module": "@jupyter-widgets/controls",
          "model_module_version": "1.5.0",
          "model_name": "DescriptionStyleModel",
          "state": {
            "_model_module": "@jupyter-widgets/controls",
            "_model_module_version": "1.5.0",
            "_model_name": "DescriptionStyleModel",
            "_view_count": null,
            "_view_module": "@jupyter-widgets/base",
            "_view_module_version": "1.2.0",
            "_view_name": "StyleView",
            "description_width": ""
          }
        },
        "7276ef3ecf3146629e6b3240f421456f": {
          "model_module": "@jupyter-widgets/controls",
          "model_module_version": "1.5.0",
          "model_name": "DescriptionStyleModel",
          "state": {
            "_model_module": "@jupyter-widgets/controls",
            "_model_module_version": "1.5.0",
            "_model_name": "DescriptionStyleModel",
            "_view_count": null,
            "_view_module": "@jupyter-widgets/base",
            "_view_module_version": "1.2.0",
            "_view_name": "StyleView",
            "description_width": ""
          }
        },
        "7758f30f11af458bba51838aff4b9212": {
          "model_module": "@jupyter-widgets/controls",
          "model_module_version": "1.5.0",
          "model_name": "HTMLModel",
          "state": {
            "_dom_classes": [],
            "_model_module": "@jupyter-widgets/controls",
            "_model_module_version": "1.5.0",
            "_model_name": "HTMLModel",
            "_view_count": null,
            "_view_module": "@jupyter-widgets/controls",
            "_view_module_version": "1.5.0",
            "_view_name": "HTMLView",
            "description": "",
            "description_tooltip": null,
            "layout": "IPY_MODEL_a9c8e5d4da1a42a9910c89bc62bf0bae",
            "placeholder": "​",
            "style": "IPY_MODEL_0ed34f4853204b84ad7da0196b9d4c6d",
            "value": " 2/2 [00:03&lt;00:00,  0.54it/s]"
          }
        },
        "81314e523157432baaff2edf74dde8d0": {
          "model_module": "@jupyter-widgets/controls",
          "model_module_version": "1.5.0",
          "model_name": "ProgressStyleModel",
          "state": {
            "_model_module": "@jupyter-widgets/controls",
            "_model_module_version": "1.5.0",
            "_model_name": "ProgressStyleModel",
            "_view_count": null,
            "_view_module": "@jupyter-widgets/base",
            "_view_module_version": "1.2.0",
            "_view_name": "StyleView",
            "bar_color": null,
            "description_width": ""
          }
        },
        "86cc9cf8640c491bab807b3936069ce4": {
          "model_module": "@jupyter-widgets/controls",
          "model_module_version": "1.5.0",
          "model_name": "DescriptionStyleModel",
          "state": {
            "_model_module": "@jupyter-widgets/controls",
            "_model_module_version": "1.5.0",
            "_model_name": "DescriptionStyleModel",
            "_view_count": null,
            "_view_module": "@jupyter-widgets/base",
            "_view_module_version": "1.2.0",
            "_view_name": "StyleView",
            "description_width": ""
          }
        },
        "8ef71ba93cb141aaaf482769e0e0368b": {
          "model_module": "@jupyter-widgets/controls",
          "model_module_version": "1.5.0",
          "model_name": "HTMLModel",
          "state": {
            "_dom_classes": [],
            "_model_module": "@jupyter-widgets/controls",
            "_model_module_version": "1.5.0",
            "_model_name": "HTMLModel",
            "_view_count": null,
            "_view_module": "@jupyter-widgets/controls",
            "_view_module_version": "1.5.0",
            "_view_name": "HTMLView",
            "description": "",
            "description_tooltip": null,
            "layout": "IPY_MODEL_3329b909e451465abd3a1cbb67d321cc",
            "placeholder": "​",
            "style": "IPY_MODEL_ea11a76449eb43598062a3c5803de177",
            "value": "model.safetensors: 100%"
          }
        },
        "99df6875a310482e9c2fd06d5c167cb4": {
          "model_module": "@jupyter-widgets/controls",
          "model_module_version": "1.5.0",
          "model_name": "ProgressStyleModel",
          "state": {
            "_model_module": "@jupyter-widgets/controls",
            "_model_module_version": "1.5.0",
            "_model_name": "ProgressStyleModel",
            "_view_count": null,
            "_view_module": "@jupyter-widgets/base",
            "_view_module_version": "1.2.0",
            "_view_name": "StyleView",
            "bar_color": null,
            "description_width": ""
          }
        },
        "9b2ac560f68d4f6cb992e00e6e4cd39a": {
          "model_module": "@jupyter-widgets/controls",
          "model_module_version": "1.5.0",
          "model_name": "HTMLModel",
          "state": {
            "_dom_classes": [],
            "_model_module": "@jupyter-widgets/controls",
            "_model_module_version": "1.5.0",
            "_model_name": "HTMLModel",
            "_view_count": null,
            "_view_module": "@jupyter-widgets/controls",
            "_view_module_version": "1.5.0",
            "_view_name": "HTMLView",
            "description": "",
            "description_tooltip": null,
            "layout": "IPY_MODEL_a35fb361159743fd896704f20f9d9ecf",
            "placeholder": "​",
            "style": "IPY_MODEL_86cc9cf8640c491bab807b3936069ce4",
            "value": " 788M/788M [00:05&lt;00:00, 142MB/s]"
          }
        },
        "a35fb361159743fd896704f20f9d9ecf": {
          "model_module": "@jupyter-widgets/base",
          "model_module_version": "1.2.0",
          "model_name": "LayoutModel",
          "state": {
            "_model_module": "@jupyter-widgets/base",
            "_model_module_version": "1.2.0",
            "_model_name": "LayoutModel",
            "_view_count": null,
            "_view_module": "@jupyter-widgets/base",
            "_view_module_version": "1.2.0",
            "_view_name": "LayoutView",
            "align_content": null,
            "align_items": null,
            "align_self": null,
            "border": null,
            "bottom": null,
            "display": null,
            "flex": null,
            "flex_flow": null,
            "grid_area": null,
            "grid_auto_columns": null,
            "grid_auto_flow": null,
            "grid_auto_rows": null,
            "grid_column": null,
            "grid_gap": null,
            "grid_row": null,
            "grid_template_areas": null,
            "grid_template_columns": null,
            "grid_template_rows": null,
            "height": null,
            "justify_content": null,
            "justify_items": null,
            "left": null,
            "margin": null,
            "max_height": null,
            "max_width": null,
            "min_height": null,
            "min_width": null,
            "object_fit": null,
            "object_position": null,
            "order": null,
            "overflow": null,
            "overflow_x": null,
            "overflow_y": null,
            "padding": null,
            "right": null,
            "top": null,
            "visibility": null,
            "width": null
          }
        },
        "a3d98612ee05497a87809cc10c7912a4": {
          "model_module": "@jupyter-widgets/controls",
          "model_module_version": "1.5.0",
          "model_name": "FloatProgressModel",
          "state": {
            "_dom_classes": [],
            "_model_module": "@jupyter-widgets/controls",
            "_model_module_version": "1.5.0",
            "_model_name": "FloatProgressModel",
            "_view_count": null,
            "_view_module": "@jupyter-widgets/controls",
            "_view_module_version": "1.5.0",
            "_view_name": "ProgressView",
            "bar_style": "",
            "description": "",
            "description_tooltip": null,
            "layout": "IPY_MODEL_2cf949159f4849d5bd55e692cfc4d2db",
            "max": 4005,
            "min": 0,
            "orientation": "horizontal",
            "style": "IPY_MODEL_99df6875a310482e9c2fd06d5c167cb4",
            "value": 214
          }
        },
        "a489408ac6bb4483bb3ba3d0ce2d4867": {
          "model_module": "@jupyter-widgets/controls",
          "model_module_version": "1.5.0",
          "model_name": "DescriptionStyleModel",
          "state": {
            "_model_module": "@jupyter-widgets/controls",
            "_model_module_version": "1.5.0",
            "_model_name": "DescriptionStyleModel",
            "_view_count": null,
            "_view_module": "@jupyter-widgets/base",
            "_view_module_version": "1.2.0",
            "_view_name": "StyleView",
            "description_width": ""
          }
        },
        "a9c8e5d4da1a42a9910c89bc62bf0bae": {
          "model_module": "@jupyter-widgets/base",
          "model_module_version": "1.2.0",
          "model_name": "LayoutModel",
          "state": {
            "_model_module": "@jupyter-widgets/base",
            "_model_module_version": "1.2.0",
            "_model_name": "LayoutModel",
            "_view_count": null,
            "_view_module": "@jupyter-widgets/base",
            "_view_module_version": "1.2.0",
            "_view_name": "LayoutView",
            "align_content": null,
            "align_items": null,
            "align_self": null,
            "border": null,
            "bottom": null,
            "display": null,
            "flex": null,
            "flex_flow": null,
            "grid_area": null,
            "grid_auto_columns": null,
            "grid_auto_flow": null,
            "grid_auto_rows": null,
            "grid_column": null,
            "grid_gap": null,
            "grid_row": null,
            "grid_template_areas": null,
            "grid_template_columns": null,
            "grid_template_rows": null,
            "height": null,
            "justify_content": null,
            "justify_items": null,
            "left": null,
            "margin": null,
            "max_height": null,
            "max_width": null,
            "min_height": null,
            "min_width": null,
            "object_fit": null,
            "object_position": null,
            "order": null,
            "overflow": null,
            "overflow_x": null,
            "overflow_y": null,
            "padding": null,
            "right": null,
            "top": null,
            "visibility": null,
            "width": null
          }
        },
        "ad5068cefb674798a93caa7bc160cc50": {
          "model_module": "@jupyter-widgets/base",
          "model_module_version": "1.2.0",
          "model_name": "LayoutModel",
          "state": {
            "_model_module": "@jupyter-widgets/base",
            "_model_module_version": "1.2.0",
            "_model_name": "LayoutModel",
            "_view_count": null,
            "_view_module": "@jupyter-widgets/base",
            "_view_module_version": "1.2.0",
            "_view_name": "LayoutView",
            "align_content": null,
            "align_items": null,
            "align_self": null,
            "border": null,
            "bottom": null,
            "display": null,
            "flex": null,
            "flex_flow": null,
            "grid_area": null,
            "grid_auto_columns": null,
            "grid_auto_flow": null,
            "grid_auto_rows": null,
            "grid_column": null,
            "grid_gap": null,
            "grid_row": null,
            "grid_template_areas": null,
            "grid_template_columns": null,
            "grid_template_rows": null,
            "height": null,
            "justify_content": null,
            "justify_items": null,
            "left": null,
            "margin": null,
            "max_height": null,
            "max_width": null,
            "min_height": null,
            "min_width": null,
            "object_fit": null,
            "object_position": null,
            "order": null,
            "overflow": null,
            "overflow_x": null,
            "overflow_y": null,
            "padding": null,
            "right": null,
            "top": null,
            "visibility": null,
            "width": null
          }
        },
        "afc9d1584cf14b2bb878c46a9bd7193b": {
          "model_module": "@jupyter-widgets/base",
          "model_module_version": "1.2.0",
          "model_name": "LayoutModel",
          "state": {
            "_model_module": "@jupyter-widgets/base",
            "_model_module_version": "1.2.0",
            "_model_name": "LayoutModel",
            "_view_count": null,
            "_view_module": "@jupyter-widgets/base",
            "_view_module_version": "1.2.0",
            "_view_name": "LayoutView",
            "align_content": null,
            "align_items": null,
            "align_self": null,
            "border": null,
            "bottom": null,
            "display": null,
            "flex": null,
            "flex_flow": null,
            "grid_area": null,
            "grid_auto_columns": null,
            "grid_auto_flow": null,
            "grid_auto_rows": null,
            "grid_column": null,
            "grid_gap": null,
            "grid_row": null,
            "grid_template_areas": null,
            "grid_template_columns": null,
            "grid_template_rows": null,
            "height": null,
            "justify_content": null,
            "justify_items": null,
            "left": null,
            "margin": null,
            "max_height": null,
            "max_width": null,
            "min_height": null,
            "min_width": null,
            "object_fit": null,
            "object_position": null,
            "order": null,
            "overflow": null,
            "overflow_x": null,
            "overflow_y": null,
            "padding": null,
            "right": null,
            "top": null,
            "visibility": null,
            "width": null
          }
        },
        "bb26cb7dc20f42fd8652cca3ef44d5fb": {
          "model_module": "@jupyter-widgets/base",
          "model_module_version": "1.2.0",
          "model_name": "LayoutModel",
          "state": {
            "_model_module": "@jupyter-widgets/base",
            "_model_module_version": "1.2.0",
            "_model_name": "LayoutModel",
            "_view_count": null,
            "_view_module": "@jupyter-widgets/base",
            "_view_module_version": "1.2.0",
            "_view_name": "LayoutView",
            "align_content": null,
            "align_items": null,
            "align_self": null,
            "border": null,
            "bottom": null,
            "display": null,
            "flex": null,
            "flex_flow": null,
            "grid_area": null,
            "grid_auto_columns": null,
            "grid_auto_flow": null,
            "grid_auto_rows": null,
            "grid_column": null,
            "grid_gap": null,
            "grid_row": null,
            "grid_template_areas": null,
            "grid_template_columns": null,
            "grid_template_rows": null,
            "height": null,
            "justify_content": null,
            "justify_items": null,
            "left": null,
            "margin": null,
            "max_height": null,
            "max_width": null,
            "min_height": null,
            "min_width": null,
            "object_fit": null,
            "object_position": null,
            "order": null,
            "overflow": null,
            "overflow_x": null,
            "overflow_y": null,
            "padding": null,
            "right": null,
            "top": null,
            "visibility": null,
            "width": null
          }
        },
        "d00b2ac6752245b6b45a5db78b502630": {
          "model_module": "@jupyter-widgets/controls",
          "model_module_version": "1.5.0",
          "model_name": "HBoxModel",
          "state": {
            "_dom_classes": [],
            "_model_module": "@jupyter-widgets/controls",
            "_model_module_version": "1.5.0",
            "_model_name": "HBoxModel",
            "_view_count": null,
            "_view_module": "@jupyter-widgets/controls",
            "_view_module_version": "1.5.0",
            "_view_name": "HBoxView",
            "box_style": "",
            "children": [
              "IPY_MODEL_feffa8e12c8d45c0ab711f2d4764f55e",
              "IPY_MODEL_e3cef4ad62cf425c92a2b74066182c46",
              "IPY_MODEL_7758f30f11af458bba51838aff4b9212"
            ],
            "layout": "IPY_MODEL_d48cef957de34fd2bb63a4cf31b211c2"
          }
        },
        "d48cef957de34fd2bb63a4cf31b211c2": {
          "model_module": "@jupyter-widgets/base",
          "model_module_version": "1.2.0",
          "model_name": "LayoutModel",
          "state": {
            "_model_module": "@jupyter-widgets/base",
            "_model_module_version": "1.2.0",
            "_model_name": "LayoutModel",
            "_view_count": null,
            "_view_module": "@jupyter-widgets/base",
            "_view_module_version": "1.2.0",
            "_view_name": "LayoutView",
            "align_content": null,
            "align_items": null,
            "align_self": null,
            "border": null,
            "bottom": null,
            "display": "inline-flex",
            "flex": null,
            "flex_flow": "row wrap",
            "grid_area": null,
            "grid_auto_columns": null,
            "grid_auto_flow": null,
            "grid_auto_rows": null,
            "grid_column": null,
            "grid_gap": null,
            "grid_row": null,
            "grid_template_areas": null,
            "grid_template_columns": null,
            "grid_template_rows": null,
            "height": null,
            "justify_content": null,
            "justify_items": null,
            "left": null,
            "margin": null,
            "max_height": null,
            "max_width": null,
            "min_height": null,
            "min_width": null,
            "object_fit": null,
            "object_position": null,
            "order": null,
            "overflow": null,
            "overflow_x": null,
            "overflow_y": null,
            "padding": null,
            "right": null,
            "top": null,
            "visibility": "hidden",
            "width": "100%"
          }
        },
        "dfd7c2c6bd2949108e1046de28f5b769": {
          "model_module": "@jupyter-widgets/controls",
          "model_module_version": "1.5.0",
          "model_name": "ProgressStyleModel",
          "state": {
            "_model_module": "@jupyter-widgets/controls",
            "_model_module_version": "1.5.0",
            "_model_name": "ProgressStyleModel",
            "_view_count": null,
            "_view_module": "@jupyter-widgets/base",
            "_view_module_version": "1.2.0",
            "_view_name": "StyleView",
            "bar_color": null,
            "description_width": ""
          }
        },
        "e3cef4ad62cf425c92a2b74066182c46": {
          "model_module": "@jupyter-widgets/controls",
          "model_module_version": "1.5.0",
          "model_name": "FloatProgressModel",
          "state": {
            "_dom_classes": [],
            "_model_module": "@jupyter-widgets/controls",
            "_model_module_version": "1.5.0",
            "_model_name": "FloatProgressModel",
            "_view_count": null,
            "_view_module": "@jupyter-widgets/controls",
            "_view_module_version": "1.5.0",
            "_view_name": "ProgressView",
            "bar_style": "",
            "description": "",
            "description_tooltip": null,
            "layout": "IPY_MODEL_2bff7162393a4900a1121d309fea1825",
            "max": 2,
            "min": 0,
            "orientation": "horizontal",
            "style": "IPY_MODEL_dfd7c2c6bd2949108e1046de28f5b769",
            "value": 2
          }
        },
        "e5a66a60f77f405ab2826dd2cd3d4845": {
          "model_module": "@jupyter-widgets/controls",
          "model_module_version": "1.5.0",
          "model_name": "HBoxModel",
          "state": {
            "_dom_classes": [],
            "_model_module": "@jupyter-widgets/controls",
            "_model_module_version": "1.5.0",
            "_model_name": "HBoxModel",
            "_view_count": null,
            "_view_module": "@jupyter-widgets/controls",
            "_view_module_version": "1.5.0",
            "_view_name": "HBoxView",
            "box_style": "",
            "children": [
              "IPY_MODEL_8ef71ba93cb141aaaf482769e0e0368b",
              "IPY_MODEL_476d8b229da14ad88db857ae58072ddd",
              "IPY_MODEL_9b2ac560f68d4f6cb992e00e6e4cd39a"
            ],
            "layout": "IPY_MODEL_1250f1838ee24a6d84557cf055ce6bb0"
          }
        },
        "ea11a76449eb43598062a3c5803de177": {
          "model_module": "@jupyter-widgets/controls",
          "model_module_version": "1.5.0",
          "model_name": "DescriptionStyleModel",
          "state": {
            "_model_module": "@jupyter-widgets/controls",
            "_model_module_version": "1.5.0",
            "_model_name": "DescriptionStyleModel",
            "_view_count": null,
            "_view_module": "@jupyter-widgets/base",
            "_view_module_version": "1.2.0",
            "_view_name": "StyleView",
            "description_width": ""
          }
        },
        "f83f66bc714d4d8f912a8673b01a037e": {
          "model_module": "@jupyter-widgets/controls",
          "model_module_version": "1.5.0",
          "model_name": "HTMLModel",
          "state": {
            "_dom_classes": [],
            "_model_module": "@jupyter-widgets/controls",
            "_model_module_version": "1.5.0",
            "_model_name": "HTMLModel",
            "_view_count": null,
            "_view_module": "@jupyter-widgets/controls",
            "_view_module_version": "1.5.0",
            "_view_name": "HTMLView",
            "description": "",
            "description_tooltip": null,
            "layout": "IPY_MODEL_afc9d1584cf14b2bb878c46a9bd7193b",
            "placeholder": "​",
            "style": "IPY_MODEL_551783a813bd4bf99b27256e7b05f034",
            "value": "Epoch 0:   5%"
          }
        },
        "feffa8e12c8d45c0ab711f2d4764f55e": {
          "model_module": "@jupyter-widgets/controls",
          "model_module_version": "1.5.0",
          "model_name": "HTMLModel",
          "state": {
            "_dom_classes": [],
            "_model_module": "@jupyter-widgets/controls",
            "_model_module_version": "1.5.0",
            "_model_name": "HTMLModel",
            "_view_count": null,
            "_view_module": "@jupyter-widgets/controls",
            "_view_module_version": "1.5.0",
            "_view_name": "HTMLView",
            "description": "",
            "description_tooltip": null,
            "layout": "IPY_MODEL_ad5068cefb674798a93caa7bc160cc50",
            "placeholder": "​",
            "style": "IPY_MODEL_7276ef3ecf3146629e6b3240f421456f",
            "value": "Sanity Checking DataLoader 0: 100%"
          }
        }
      }
    }
  },
  "nbformat": 4,
  "nbformat_minor": 0
}
